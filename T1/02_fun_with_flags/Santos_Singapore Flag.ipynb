{
 "cells": [
  {
   "cell_type": "code",
   "execution_count": 152,
   "metadata": {},
   "outputs": [],
   "source": [
    "import matplotlib.pyplot as plt\n",
    "import math"
   ]
  },
  {
   "cell_type": "code",
   "execution_count": 153,
   "metadata": {},
   "outputs": [],
   "source": [
    "class Polygon:\n",
    "    def __init__(self):\n",
    "        self.x=[]\n",
    "        self.y=[]\n",
    "        self.col=[]"
   ]
  },
  {
   "cell_type": "code",
   "execution_count": 154,
   "metadata": {},
   "outputs": [],
   "source": [
    "def rect(x1,y1,x2,y2,c):\n",
    "    r=Polygon()\n",
    "    r.x=[x1,x2,x2,x1]\n",
    "    r.y=[y1,y1,y2,y2]\n",
    "    r.col=c\n",
    "    return r"
   ]
  },
  {
   "cell_type": "code",
   "execution_count": 155,
   "metadata": {},
   "outputs": [],
   "source": [
    "def moon(xpos, ypos, rad, c):\n",
    "    m1=Polygon()\n",
    "    m2=Polygon()\n",
    "    list_m=[]\n",
    "    res=50\n",
    "    shift=0.8\n",
    "    a=2*math.pi/res\n",
    "    for i in range(res) :\n",
    "        m1.x.append(xpos+math.cos(i*a)*rad)\n",
    "        m1.y.append(ypos+math.sin(i*a)*rad)\n",
    "    for i in range(res) :\n",
    "        m2.x.append(xpos+math.cos(i*a)*rad+shift)\n",
    "        m2.y.append(ypos+math.sin(i*a)*rad)\n",
    "    m1.col=c\n",
    "    m2.col=[1,0,0]\n",
    "    list_m.append(m1)\n",
    "    list_m.append(m2)\n",
    "    return list_m\n"
   ]
  },
  {
   "cell_type": "code",
   "execution_count": 156,
   "metadata": {},
   "outputs": [],
   "source": [
    "def star(xpos,ypos,rad,peaks,c):\n",
    "    s=Polygon()\n",
    "    res=peaks*2\n",
    "    a=2*math.pi/res\n",
    "    sf=0.4\n",
    "    for i in range(res):\n",
    "        if i%2==0:\n",
    "            radius=rad*sf\n",
    "        else:\n",
    "            radius=rad\n",
    "        s.x.append(xpos+math.cos(i*a-a/2)*radius)\n",
    "        s.y.append(ypos+math.sin(i*a-a/2)*radius)\n",
    "    s.col=c\n",
    "    return s"
   ]
  },
  {
   "cell_type": "code",
   "execution_count": 157,
   "metadata": {},
   "outputs": [],
   "source": [
    "#def display_flag(canvas,objects,m_objects,s_objects):\n",
    "def display_flag(canvas,m_objects,objects,s_objects):\n",
    "    plt.figure(figsize=canvas)\n",
    "    plt.axis('off')\n",
    "    for o in objects:\n",
    "        plt.fill (o.x, o.y, c=o.col)\n",
    "    for moon in m_objects:\n",
    "        for ci in moon:\n",
    "            plt.fill (ci.x, ci.y, c=ci.col)\n",
    "    for st in s_objects:\n",
    "        plt.fill (st.x, st.y, c=st.col)"
   ]
  },
  {
   "cell_type": "code",
   "execution_count": 158,
   "metadata": {
    "scrolled": true
   },
   "outputs": [
    {
     "data": {
      "image/png": "[encoded data removed]",
      "text/plain": [
       "<Figure size 1080x720 with 1 Axes>"
      ]
     },
     "metadata": {
      "needs_background": "light"
     },
     "output_type": "display_data"
    }
   ],
   "source": [
    "objs=[]\n",
    "mobjs=[]\n",
    "sobjs=[]\n",
    "\n",
    "bg=rect(0,0,15,10,[1,0,0])\n",
    "objs.append(bg)\n",
    "\n",
    "#cross1=rect(4,2,6,8,[1,1,1])\n",
    "#objs.append(cross1)\n",
    "\n",
    "white=rect(0.03,0.05,14.96,5,[1,1,1])\n",
    "objs.append(white)\n",
    "\n",
    "#objs.append(moon(9,7,7,[0,0,1]))\n",
    "\n",
    "mobjs.append(moon(3, 7.5, 2, [1,1,1]))\n",
    "\n",
    "sobjs.append(star(4,8.8,0.3,5,[1,1,1]))\n",
    "sobjs.append(star(2.8,7.8,0.3,5,[1,1,1]))\n",
    "sobjs.append(star(5.2,7.8,0.3,5,[1,1,1]))\n",
    "sobjs.append(star(3.3,6.5,0.3,5,[1,1,1]))\n",
    "sobjs.append(star(4.7,6.5,0.3,5,[1,1,1]))\n",
    "\n",
    "\n",
    "#display_flag((15,10), objs, mobjs)\n",
    "display_flag((15,10), mobjs, objs, sobjs)"
   ]
  },
  {
   "cell_type": "code",
   "execution_count": null,
   "metadata": {},
   "outputs": [],
   "source": []
  }
 ],
 "metadata": {
  "kernelspec": {
   "display_name": "Python 3",
   "language": "python",
   "name": "python3"
  },
  "language_info": {
   "codemirror_mode": {
    "name": "ipython",
    "version": 3
   },
   "file_extension": ".py",
   "mimetype": "text/x-python",
   "name": "python",
   "nbconvert_exporter": "python",
   "pygments_lexer": "ipython3",
   "version": "3.7.3"
  }
 },
 "nbformat": 4,
 "nbformat_minor": 2
}
