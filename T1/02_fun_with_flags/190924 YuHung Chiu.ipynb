{
 "cells": [
  {
   "cell_type": "code",
   "execution_count": 14,
   "metadata": {},
   "outputs": [],
   "source": [
    "import matplotlib.pyplot as plt\n",
    "import math\n",
    "import numpy as np"
   ]
  },
  {
   "cell_type": "code",
   "execution_count": 15,
   "metadata": {},
   "outputs": [],
   "source": [
    "class Polygon:\n",
    "    \n",
    "    def __init__(self, xlist, ylist, col):\n",
    "        self.xlist = xlist\n",
    "        self.ylist = ylist\n",
    "        self.col = col\n",
    "        \n",
    "    def display(self):\n",
    "        plt.fill(self.xlist, self.ylist, c=self.col)\n",
    "        "
   ]
  },
  {
   "cell_type": "code",
   "execution_count": 16,
   "metadata": {},
   "outputs": [],
   "source": [
    "class Circle:\n",
    "    def __init__ (self, rad, xpos, ypos, col):\n",
    "        # store init volues as internal variables\n",
    "        self.rad = rad\n",
    "        self.Xpos = xpos\n",
    "        self.Ypos = ypos\n",
    "        self.col = col\n",
    "        self.x = []\n",
    "        self.y = []\n",
    "        res = 48\n",
    "        a = 2*math.pi/res\n",
    "        for i in range(res):\n",
    "            self.x.append(self.Xpos + math.cos(i*a)*self.rad)\n",
    "            self.y.append(self.Ypos + math.sin(i*a)*self.rad)\n",
    "            \n",
    "        self.x.append(self.x[0])\n",
    "        self.y.append(self.y[0])\n",
    "        \n",
    "    def calculate_area(self):\n",
    "        # calculate and print out area\n",
    "        area = math.pi*self.rad**2\n",
    "        return area\n",
    "        \n",
    "        \n",
    "    def calculate_circumference(self):\n",
    "        # calculate and print out circumference\n",
    "        circumference = math.pi*2*self.rad\n",
    "        return circumference\n",
    "    \n",
    "    #########################################################\n",
    "#     def display(self):\n"
   ]
  },
  {
   "cell_type": "code",
   "execution_count": 30,
   "metadata": {},
   "outputs": [
    {
     "data": {
      "image/png": "[encoded data removed]",
      "text/plain": [
       "<Figure size 288x288 with 1 Axes>"
      ]
     },
     "metadata": {
      "needs_background": "light"
     },
     "output_type": "display_data"
    }
   ],
   "source": [
    "plt.figure(figsize=(4,4))\n",
    "plt.axis('equal')\n",
    "\n",
    "bg = Polygon([0,1,1,0], [0,0,1,1], [0,0,0])\n",
    "bg.display()\n",
    "\n",
    "rect1 = Polygon([0.4,0.6,0.6,0.4], [0.2,0.2,0.8,0.8], [1,1,1])\n",
    "rect1.display()\n",
    "\n",
    "rect2 = Polygon([0.2,0.8,0.8,0.2], [0.4,0.4,0.6,0.6], [1,1,1])\n",
    "rect2.display()"
   ]
  },
  {
   "cell_type": "code",
   "execution_count": 18,
   "metadata": {},
   "outputs": [],
   "source": [
    "class polygon:\n",
    "    def __init__(self):\n",
    "        self.x = []\n",
    "        self.y = []\n",
    "        self.col = []"
   ]
  },
  {
   "cell_type": "code",
   "execution_count": 19,
   "metadata": {},
   "outputs": [],
   "source": [
    "def rect(x1,y1,x2,y2,c):\n",
    "    r = polygon()\n",
    "    r.x = [x1,x2,x2,x1]\n",
    "    r.y = [y1,y1,y2,y2]\n",
    "    r.col = c\n",
    "    return r"
   ]
  },
  {
   "cell_type": "code",
   "execution_count": 20,
   "metadata": {},
   "outputs": [],
   "source": [
    "def star(xpos, ypos, rad, peaks, c):\n",
    "    s = polygon()\n",
    "    res = peaks*2\n",
    "    a = 2*math.pi/res\n",
    "    for i in range(res):\n",
    "        if i % 2==0:\n",
    "            radius=rad*0.5\n",
    "        else:\n",
    "            radius=rad\n",
    "        s.x.append(xpos+math.cos(i*a-a)*radius)\n",
    "        s.y.append(ypos+math.sin(i*a-a)*radius)\n",
    "    s.col=c\n",
    "    return s"
   ]
  },
  {
   "cell_type": "code",
   "execution_count": 21,
   "metadata": {},
   "outputs": [],
   "source": [
    "#def circle (xpos, ypos, rad, color):\n",
    "    #c = polygon()\n",
    "    #c.x = xpos\n",
    "    #c.y = ypos\n",
    "    #c.r = rad\n",
    "    #c.col = color\n",
    "    #plt.plot(c.r, c.x, c.y, c.col)\n",
    "    #return c\n",
    "    \n",
    "    #xc = []\n",
    "    #yc = []\n",
    "    #res = 50\n",
    "    #a = 2*math.pi/res\n",
    "    #for i in range(res):\n",
    "        #xc.append(xpos + math.cos(i*a)*rad)\n",
    "        #yc.append(ypos + math.sin(i*a)*rad)\n",
    "        \n",
    "    #plt.plot(circle)"
   ]
  },
  {
   "cell_type": "code",
   "execution_count": 22,
   "metadata": {},
   "outputs": [],
   "source": [
    "def display_flag(canvas, objects, objs2):\n",
    "    plt.figure(figsize = canvas)\n",
    "    plt.axis('on')\n",
    "    for o in objects:\n",
    "        plt.fill(o.x, o.y, c=o.col)\n",
    "    for o in objs2:\n",
    "        plt.plot(o.x, o.y, c=o.col, linewidth=3)"
   ]
  },
  {
   "cell_type": "code",
   "execution_count": 23,
   "metadata": {},
   "outputs": [
    {
     "ename": "TypeError",
     "evalue": "display_flag() missing 1 required positional argument: 'objs2'",
     "output_type": "error",
     "traceback": [
      "\u001b[1;31m---------------------------------------------------------------------------\u001b[0m",
      "\u001b[1;31mTypeError\u001b[0m                                 Traceback (most recent call last)",
      "\u001b[1;32m<ipython-input-23-8b2258636fc0>\u001b[0m in \u001b[0;36m<module>\u001b[1;34m\u001b[0m\n\u001b[0;32m     13\u001b[0m \u001b[0mobjs\u001b[0m\u001b[1;33m.\u001b[0m\u001b[0mappend\u001b[0m\u001b[1;33m(\u001b[0m\u001b[0mstar1\u001b[0m\u001b[1;33m)\u001b[0m\u001b[1;33m\u001b[0m\u001b[1;33m\u001b[0m\u001b[0m\n\u001b[0;32m     14\u001b[0m \u001b[1;31m#objs.append(star(0.8, 0.8, 0.1, 5, [1,1,1]))\u001b[0m\u001b[1;33m\u001b[0m\u001b[1;33m\u001b[0m\u001b[1;33m\u001b[0m\u001b[0m\n\u001b[1;32m---> 15\u001b[1;33m \u001b[0mdisplay_flag\u001b[0m\u001b[1;33m(\u001b[0m\u001b[1;33m(\u001b[0m\u001b[1;36m6\u001b[0m\u001b[1;33m,\u001b[0m\u001b[1;36m6\u001b[0m\u001b[1;33m)\u001b[0m\u001b[1;33m,\u001b[0m \u001b[0mobjs\u001b[0m\u001b[1;33m)\u001b[0m\u001b[1;33m\u001b[0m\u001b[1;33m\u001b[0m\u001b[0m\n\u001b[0m",
      "\u001b[1;31mTypeError\u001b[0m: display_flag() missing 1 required positional argument: 'objs2'"
     ]
    }
   ],
   "source": [
    "objs=[]\n",
    "\n",
    "bg = rect(0,0,1,1,[1,0,0])\n",
    "objs.append(bg)\n",
    "\n",
    "cross1 = rect(0.4, 0.2, 0.6, 0.8, [1,1,1])\n",
    "objs.append(cross1)\n",
    "\n",
    "cross2 = rect(0.2, 0.4, 0.8, 0.6, [1,1,1])\n",
    "objs.append(cross2)\n",
    "\n",
    "star1 = star(0.8, 0.8, 0.1, 5, [1,1,1])\n",
    "objs.append(star1)\n",
    "#objs.append(star(0.8, 0.8, 0.1, 5, [1,1,1]))\n",
    "display_flag((6,6), objs)"
   ]
  },
  {
   "cell_type": "code",
   "execution_count": null,
   "metadata": {},
   "outputs": [],
   "source": []
  },
  {
   "cell_type": "code",
   "execution_count": 24,
   "metadata": {},
   "outputs": [
    {
     "data": {
      "image/png": "[encoded data removed]",
      "text/plain": [
       "<Figure size 864x576 with 1 Axes>"
      ]
     },
     "metadata": {
      "needs_background": "light"
     },
     "output_type": "display_data"
    }
   ],
   "source": [
    "TW_flag = []\n",
    "circleObj =[]\n",
    "\n",
    "bg = rect(0,0,12,8,[1,0,0])\n",
    "TW_flag.append(bg)\n",
    "\n",
    "rect1 = rect(0, 8, 6, 4, [0,0,1])\n",
    "TW_flag.append(rect1)\n",
    "\n",
    "star1 = star(3, 6, 1.5, 12, [1,1,1])\n",
    "TW_flag.append(star1)\n",
    "\n",
    "cir1 = Circle(0.75, 3, 6, [0,0,1])\n",
    "#print(cir1.x)\n",
    "circleObj.append(cir1)\n",
    "#cir1.display()\n",
    "\n",
    "#plt.plot(circle(1, 3, 6, [0,0,1]))\n",
    "\n",
    "#plt.figure(figsize=(10,10))\n",
    "display_flag((12,8), TW_flag, circleObj)\n"
   ]
  },
  {
   "cell_type": "code",
   "execution_count": 25,
   "metadata": {},
   "outputs": [
    {
     "ename": "TypeError",
     "evalue": "display_flag() missing 1 required positional argument: 'objs2'",
     "output_type": "error",
     "traceback": [
      "\u001b[1;31m---------------------------------------------------------------------------\u001b[0m",
      "\u001b[1;31mTypeError\u001b[0m                                 Traceback (most recent call last)",
      "\u001b[1;32m<ipython-input-25-05221349821a>\u001b[0m in \u001b[0;36m<module>\u001b[1;34m\u001b[0m\n\u001b[0;32m      8\u001b[0m \u001b[1;33m\u001b[0m\u001b[0m\n\u001b[0;32m      9\u001b[0m \u001b[1;33m\u001b[0m\u001b[0m\n\u001b[1;32m---> 10\u001b[1;33m \u001b[0mdisplay_flag\u001b[0m\u001b[1;33m(\u001b[0m\u001b[1;33m(\u001b[0m\u001b[1;36m12\u001b[0m\u001b[1;33m,\u001b[0m\u001b[1;36m8\u001b[0m\u001b[1;33m)\u001b[0m\u001b[1;33m,\u001b[0m \u001b[0mEU_flag\u001b[0m\u001b[1;33m)\u001b[0m\u001b[1;33m\u001b[0m\u001b[1;33m\u001b[0m\u001b[0m\n\u001b[0m",
      "\u001b[1;31mTypeError\u001b[0m: display_flag() missing 1 required positional argument: 'objs2'"
     ]
    }
   ],
   "source": [
    "EU_flag = []\n",
    "circleObj1 =[]\n",
    "\n",
    "bg = rect(0,0,12,8,[0,0,1])\n",
    "EU_flag.append(bg)\n",
    "\n",
    "\n",
    "\n",
    "\n",
    "display_flag((12,8), EU_flag)"
   ]
  },
  {
   "cell_type": "code",
   "execution_count": null,
   "metadata": {},
   "outputs": [],
   "source": []
  },
  {
   "cell_type": "code",
   "execution_count": null,
   "metadata": {},
   "outputs": [],
   "source": []
  },
  {
   "cell_type": "code",
   "execution_count": null,
   "metadata": {},
   "outputs": [],
   "source": []
  }
 ],
 "metadata": {
  "kernelspec": {
   "display_name": "Python 3",
   "language": "python",
   "name": "python3"
  },
  "language_info": {
   "codemirror_mode": {
    "name": "ipython",
    "version": 3
   },
   "file_extension": ".py",
   "mimetype": "text/x-python",
   "name": "python",
   "nbconvert_exporter": "python",
   "pygments_lexer": "ipython3",
   "version": "3.7.3"
  }
 },
 "nbformat": 4,
 "nbformat_minor": 2
}
