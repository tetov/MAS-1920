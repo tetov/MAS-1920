{
 "cells": [
  {
   "cell_type": "code",
   "execution_count": 3,
   "metadata": {},
   "outputs": [],
   "source": [
    "title='MAS architecture and digital fabrication'"
   ]
  },
  {
   "cell_type": "code",
   "execution_count": 4,
   "metadata": {},
   "outputs": [
    {
     "name": "stdout",
     "output_type": "stream",
     "text": [
      "MAS architecture and digital fabrication\n",
      "architecture\n",
      "['M', 'A', 'S', ' ', 'a', 'r', 'c', 'h', 'i', 't', 'e', 'c', 't', 'u', 'r', 'e', ' ', 'a', 'n', 'd', ' ', 'd', 'i', 'g', 'i', 't', 'a', 'l', ' ', 'f', 'a', 'b', 'r', 'i', 'c', 'a', 't', 'i', 'o', 'n']\n"
     ]
    }
   ],
   "source": [
    "print(title)\n",
    "print(title[4:16])\n",
    "letters = list(title)\n",
    "print(letters)"
   ]
  },
  {
   "cell_type": "code",
   "execution_count": 5,
   "metadata": {},
   "outputs": [
    {
     "name": "stdout",
     "output_type": "stream",
     "text": [
      "[' ', ' ', ' ', ' ', 'A', 'M', 'S', 'a', 'a', 'a', 'a', 'a', 'b', 'c', 'c', 'c', 'd', 'd', 'e', 'e', 'f', 'g', 'h', 'i', 'i', 'i', 'i', 'i', 'l', 'n', 'n', 'o', 'r', 'r', 'r', 't', 't', 't', 't', 'u']\n",
      "['M', 'A', 'S', ' ', 'a', 'r', 'c', 'h', 'i', 't', 'e', 'c', 't', 'u', 'r', 'e', ' ', 'a', 'n', 'd', ' ', 'd', 'i', 'g', 'i', 't', 'a', 'l', ' ', 'f', 'a', 'b', 'r', 'i', 'c', 'a', 't', 'i', 'o', 'n']\n"
     ]
    }
   ],
   "source": [
    "# letter.sort()\n",
    "sorted_letters = sorted(letters)\n",
    "print(sorted_letters)\n",
    "print(letters)"
   ]
  },
  {
   "cell_type": "code",
   "execution_count": 6,
   "metadata": {},
   "outputs": [
    {
     "name": "stdout",
     "output_type": "stream",
     "text": [
      "1\n"
     ]
    }
   ],
   "source": [
    "print(letters.count('A'))"
   ]
  },
  {
   "cell_type": "code",
   "execution_count": 9,
   "metadata": {},
   "outputs": [
    {
     "name": "stdout",
     "output_type": "stream",
     "text": [
      "range(0, 100)\n",
      "<class 'range'>\n",
      "[0, 1, 2, 3, 4, 5, 6, 7, 8, 9, 10, 11, 12, 13, 14, 15, 16, 17, 18, 19, 20, 21, 22, 23, 24, 25, 26, 27, 28, 29, 30, 31, 32, 33, 34, 35, 36, 37, 38, 39, 40, 41, 42, 43, 44, 45, 46, 47, 48, 49, 50, 51, 52, 53, 54, 55, 56, 57, 58, 59, 60, 61, 62, 63, 64, 65, 66, 67, 68, 69, 70, 71, 72, 73, 74, 75, 76, 77, 78, 79, 80, 81, 82, 83, 84, 85, 86, 87, 88, 89, 90, 91, 92, 93, 94, 95, 96, 97, 98, 99]\n"
     ]
    }
   ],
   "source": [
    "r=range(100)\n",
    "print (r)\n",
    "print(type(r))\n",
    "\n",
    "range_list = list(r)\n",
    "print(range_list)"
   ]
  },
  {
   "cell_type": "code",
   "execution_count": 12,
   "metadata": {},
   "outputs": [
    {
     "name": "stdout",
     "output_type": "stream",
     "text": [
      "range(200, -200, -5)\n",
      "<class 'range'>\n",
      "[200, 195, 190, 185, 180, 175, 170, 165, 160, 155, 150, 145, 140, 135, 130, 125, 120, 115, 110, 105, 100, 95, 90, 85, 80, 75, 70, 65, 60, 55, 50, 45, 40, 35, 30, 25, 20, 15, 10, 5, 0, -5, -10, -15, -20, -25, -30, -35, -40, -45, -50, -55, -60, -65, -70, -75, -80, -85, -90, -95, -100, -105, -110, -115, -120, -125, -130, -135, -140, -145, -150, -155, -160, -165, -170, -175, -180, -185, -190, -195]\n"
     ]
    }
   ],
   "source": [
    "# different and end values, step sizes\n",
    "r = range(200, -200, -5)\n",
    "print(r)\n",
    "print(type(r))\n",
    "\n",
    "range_list = list(r)\n",
    "print(range_list)"
   ]
  },
  {
   "cell_type": "code",
   "execution_count": 15,
   "metadata": {},
   "outputs": [
    {
     "name": "stdout",
     "output_type": "stream",
     "text": [
      "False\n",
      "name change\n",
      "\n",
      "name does not contain letter z\n"
     ]
    }
   ],
   "source": [
    "print(124 in range_list)\n",
    "\n",
    "name = 'David'\n",
    "n_list= list(name)\n",
    "#if n_list[0]=='D':\n",
    "#  print ('my name starts with letter D')\n",
    "\n",
    "if 'a' in n_list:\n",
    "    print('name change')\n",
    "    print()\n",
    "    \n",
    "if 'z' not in n_list: \n",
    "    print(\"name does not contain letter z\")\n",
    "    "
   ]
  },
  {
   "cell_type": "code",
   "execution_count": 16,
   "metadata": {},
   "outputs": [
    {
     "name": "stdout",
     "output_type": "stream",
     "text": [
      "[1, 2, 3, 4, 5, 6, 7]\n"
     ]
    }
   ],
   "source": [
    "a = [1, 2, 3]\n",
    "b = [4, 5, 6, 7]\n",
    "\n",
    "a.extend(b)\n",
    "print(a)"
   ]
  },
  {
   "cell_type": "code",
   "execution_count": 19,
   "metadata": {},
   "outputs": [],
   "source": [
    "# create a simple dictionary\n",
    "my_dict = {'name':'Eiffel tower', \n",
    "            'location':'Paris', \n",
    "            'hight':324, \n",
    "            'longtude':2.2945, \n",
    "            'latitude':48.858,\n",
    "            'material':'iron'}\n",
    "\n",
    "\n",
    "\n"
   ]
  },
  {
   "cell_type": "code",
   "execution_count": 20,
   "metadata": {},
   "outputs": [
    {
     "name": "stdout",
     "output_type": "stream",
     "text": [
      "iron\n"
     ]
    }
   ],
   "source": [
    "# access items by key\n",
    "print(my_dict['material'])"
   ]
  },
  {
   "cell_type": "code",
   "execution_count": 21,
   "metadata": {},
   "outputs": [
    {
     "name": "stdout",
     "output_type": "stream",
     "text": [
      "<class 'tuple'>\n"
     ]
    }
   ],
   "source": [
    "# add new field (key: value pair)\n",
    "my_dict['engineer'] = 'Gustave Effel'\n",
    "my_dict['building time'] = (1887, 1889)\n",
    "\n",
    "print(type(my_dict['building time']))"
   ]
  },
  {
   "cell_type": "code",
   "execution_count": 22,
   "metadata": {},
   "outputs": [
    {
     "name": "stdout",
     "output_type": "stream",
     "text": [
      "{'name': 'Eiffel tower', 'location': 'Paris', 'hight': 324, 'longtude': 2.2945, 'latitude': 48.858, 'material': 'iron', 'engineer': 'Gustave Effel', 'building time': (1887, 1889)}\n"
     ]
    }
   ],
   "source": [
    "print(my_dict)"
   ]
  },
  {
   "cell_type": "code",
   "execution_count": 23,
   "metadata": {},
   "outputs": [],
   "source": [
    "##loops"
   ]
  },
  {
   "cell_type": "code",
   "execution_count": 60,
   "metadata": {},
   "outputs": [
    {
     "ename": "IndentationError",
     "evalue": "unindent does not match any outer indentation level (<tokenize>, line 12)",
     "output_type": "error",
     "traceback": [
      "\u001b[1;36m  File \u001b[1;32m\"<tokenize>\"\u001b[1;36m, line \u001b[1;32m12\u001b[0m\n\u001b[1;33m    print('even', i)\u001b[0m\n\u001b[1;37m    ^\u001b[0m\n\u001b[1;31mIndentationError\u001b[0m\u001b[1;31m:\u001b[0m unindent does not match any outer indentation level\n"
     ]
    }
   ],
   "source": [
    "# for loop\n",
    "number = 5\n",
    "exponential_list = []\n",
    "loop counter = 0\n",
    "\n",
    "for i in range(10):\n",
    "    print('i=',i)\n",
    "    exponential_list.append(number**i)\n",
    "    \n",
    "    if i % 2 == 0:\n",
    "         loop counter = loop_counter + 1\n",
    "        print('even', i)\n",
    "        # loop counter += 1\n",
    "    \n",
    "print('loop_counter', loop_counter)\n",
    "print(exponential_list)\n",
    "\n",
    "\n"
   ]
  },
  {
   "cell_type": "code",
   "execution_count": 37,
   "metadata": {},
   "outputs": [
    {
     "name": "stdout",
     "output_type": "stream",
     "text": [
      "[10, 13, 16, 19, 22, 25, 28, 31, 34, 37, 40, 43, 46, 49, 52, 55, 58, 61, 64, 67, 70, 73, 76, 79, 82, 85, 88, 91, 94, 97]\n"
     ]
    }
   ],
   "source": [
    "sensor_list = list(range(10, 100, 3))\n",
    "print(sensor_list)"
   ]
  },
  {
   "cell_type": "code",
   "execution_count": 42,
   "metadata": {},
   "outputs": [
    {
     "name": "stdout",
     "output_type": "stream",
     "text": [
      "idx value: 0\n",
      "sensor reading value: 10\n",
      "idx value: 1\n",
      "sensor reading value: 13\n",
      "idx value: 2\n",
      "sensor reading value: 16\n",
      "idx value: 3\n",
      "sensor reading value: 19\n",
      "idx value: 4\n",
      "sensor reading value: 22\n",
      "idx value: 5\n",
      "sensor reading value: 25\n",
      "idx value: 6\n",
      "sensor reading value: 28\n",
      "idx value: 7\n",
      "sensor reading value: 31\n",
      "idx value: 8\n",
      "sensor reading value: 34\n",
      "idx value: 9\n",
      "sensor reading value: 37\n",
      "idx value: 10\n",
      "sensor reading value: 40\n",
      "idx value: 11\n",
      "sensor reading value: 43\n",
      "idx value: 12\n",
      "sensor reading value: 46\n",
      "idx value: 13\n",
      "sensor reading value: 49\n",
      "idx value: 14\n",
      "sensor reading value: 52\n",
      "idx value: 15\n",
      "sensor reading value: 55\n",
      "idx value: 16\n",
      "sensor reading value: 58\n",
      "idx value: 17\n",
      "sensor reading value: 61\n",
      "idx value: 18\n",
      "sensor reading value: 64\n",
      "idx value: 19\n",
      "sensor reading value: 67\n",
      "idx value: 20\n",
      "sensor reading value: 70\n",
      "idx value: 21\n",
      "sensor reading value: 73\n",
      "idx value: 22\n",
      "sensor reading value: 76\n",
      "idx value: 23\n",
      "sensor reading value: 79\n",
      "idx value: 24\n",
      "sensor reading value: 82\n",
      "idx value: 25\n",
      "sensor reading value: 85\n",
      "idx value: 26\n",
      "sensor reading value: 88\n",
      "idx value: 27\n",
      "sensor reading value: 91\n",
      "idx value: 28\n",
      "sensor reading value: 94\n",
      "idx value: 29\n",
      "sensor reading value: 97\n"
     ]
    }
   ],
   "source": [
    "# for sensor_reading in sensor_list:\n",
    "#   print(\"current distance in mm:\", sensor_reading)\n",
    "    \n",
    "#for i in range(len(sensor_list)):\n",
    "#   if i % 2:\n",
    "#       print('current distance in mm:', sensor_list[i])\n",
    "\n",
    "\n",
    "for i, sensor_reading in enumerate(sensor_list):\n",
    "    print('idx value:', i)\n",
    "    print('sensor reading value:', sensor_reading)"
   ]
  },
  {
   "cell_type": "code",
   "execution_count": 51,
   "metadata": {},
   "outputs": [
    {
     "name": "stdout",
     "output_type": "stream",
     "text": [
      "name\n",
      "Eiffel tower\n",
      "<class 'str'>\n"
     ]
    }
   ],
   "source": [
    "# loop through dictionary keys\n",
    "# return the value of each key\n",
    "\n",
    "for key in my_dict:\n",
    "    if key == 'name':\n",
    "        print(key)\n",
    "        print(my_dict[key])\n",
    "        print(type(my_dict[key]))"
   ]
  },
  {
   "cell_type": "code",
   "execution_count": 54,
   "metadata": {},
   "outputs": [
    {
     "name": "stdout",
     "output_type": "stream",
     "text": [
      "2\n",
      "3\n",
      "5\n",
      "8\n",
      "13\n",
      "21\n",
      "34\n",
      "55\n",
      "89\n",
      "144\n",
      "233\n",
      "377\n"
     ]
    }
   ],
   "source": [
    "# while loop \n",
    "# fibonacci sequence\n",
    "\n",
    "n1 = 1\n",
    "n2 = 2\n",
    "\n",
    "\n",
    "# while true: \n",
    "while n2 < 500:\n",
    "    print(n2)\n",
    "    temp_n = n2\n",
    "    n2 = n1 + n2\n",
    "    n1 = temp_n\n"
   ]
  },
  {
   "cell_type": "code",
   "execution_count": 55,
   "metadata": {},
   "outputs": [],
   "source": [
    "##Function"
   ]
  },
  {
   "cell_type": "code",
   "execution_count": 63,
   "metadata": {},
   "outputs": [],
   "source": [
    "def list_sum(number_list):\n",
    "    \n",
    "    \n",
    "    '''adds up numbers from a list of numbers.\n",
    "    \n",
    "    Arguments:\n",
    "    number_list : list of numbers, [type'list']\n",
    "    '''\n",
    "    \n",
    "    output = 0\n",
    "    \n",
    "    for number in number_list:\n",
    "        output += number\n",
    "\n",
    "    # function logic comes here\n",
    "    # access number_list and do something with it\n",
    "    \n",
    "    return output\n",
    "    "
   ]
  },
  {
   "cell_type": "code",
   "execution_count": 64,
   "metadata": {},
   "outputs": [
    {
     "name": "stdout",
     "output_type": "stream",
     "text": [
      "3\n"
     ]
    }
   ],
   "source": [
    "check_list_1 = list(range(3))\n",
    "check_list_2 = list(range(3))\n",
    "check_list_3 = list(range(3))\n",
    "check_list_4 = list(range(3))\n",
    "\n",
    "check_sum_1 = list_sum(check_list_1)\n",
    "check_sum_2 = list_sum(check_list_2)\n",
    "check_sum_3 = list_sum(check_list_3)\n",
    "check_sum_4 = list_sum(check_list_4)\n",
    "\n",
    "\n",
    "\n",
    "print(check_sum)"
   ]
  },
  {
   "cell_type": "code",
   "execution_count": 77,
   "metadata": {},
   "outputs": [],
   "source": [
    "def circle_area(radius):\n",
    "    pi = 3.14\n",
    "    \n",
    "    area = pi * radius ** 2 \n",
    "    \n",
    "    \n",
    "    # calculate pi * radius ** 2\n",
    "    \n",
    "    return area"
   ]
  },
  {
   "cell_type": "code",
   "execution_count": 78,
   "metadata": {},
   "outputs": [
    {
     "name": "stdout",
     "output_type": "stream",
     "text": [
      "i=  0 area= 0.0\n",
      "i=  1 area= 3.14\n",
      "i=  2 area= 12.56\n",
      "i=  3 area= 28.26\n",
      "i=  4 area= 50.24\n",
      "i=  5 area= 78.5\n",
      "i=  6 area= 113.04\n",
      "i=  7 area= 153.86\n",
      "i=  8 area= 200.96\n",
      "i=  9 area= 254.34\n"
     ]
    }
   ],
   "source": [
    "for i in range(10): \n",
    "    print('i= ', i, 'area=', circle_area(i))\n",
    "    \n",
    "    "
   ]
  },
  {
   "cell_type": "code",
   "execution_count": null,
   "metadata": {},
   "outputs": [],
   "source": [
    "##Object"
   ]
  },
  {
   "cell_type": "markdown",
   "metadata": {},
   "source": [
    "## object"
   ]
  },
  {
   "cell_type": "code",
   "execution_count": 84,
   "metadata": {},
   "outputs": [],
   "source": [
    "class Student:\n",
    "    def __init__(self, name, program = 'MAS'):\n",
    "        self.program = program\n",
    "        self.name = name\n",
    "    def introduce_yourself(self):\n",
    "        print('My name is:' +self.name +'my program is:' +self.program)"
   ]
  },
  {
   "cell_type": "code",
   "execution_count": 85,
   "metadata": {},
   "outputs": [
    {
     "name": "stdout",
     "output_type": "stream",
     "text": [
      "My name is:Davidmy program is:Fishing course\n",
      "My name is:Angelamy program is:Canoe course\n"
     ]
    }
   ],
   "source": [
    "new_student = Student('David', 'Fishing course')\n",
    "new_student.introduce_yourself()\n",
    "new_student_2 = Student('Angela', 'Canoe course')\n",
    "new_student_2.introduce_yourself()\n"
   ]
  },
  {
   "cell_type": "code",
   "execution_count": 240,
   "metadata": {},
   "outputs": [],
   "source": [
    "import math\n",
    "\n",
    "class Circle:\n",
    "    def __init__(self,  radius, origin = (0,0,0)):\n",
    "        # store init values as internal cariables\n",
    "        self.origin = origin\n",
    "        self.radius = radius\n",
    "    def calculate_area(self):\n",
    "        #calculate and print out area\n",
    "        area = math.pi* self.radius* 2\n",
    "        print('circle area equals to: ' + str(area))\n",
    "        return area\n",
    "    def calculate_circumference(self):\n",
    "        # calculate and print out circumference\n",
    "        circumference = 2* math.pi * self.radius\n",
    "        print('circle area equals to: ' + str(circumference))\n",
    "        None \n",
    "        #math.pi"
   ]
  },
  {
   "cell_type": "code",
   "execution_count": 241,
   "metadata": {
    "scrolled": false
   },
   "outputs": [
    {
     "name": "stdout",
     "output_type": "stream",
     "text": [
      "circle area equals to: 0.0\n",
      "circle area equals to: 0.0\n",
      "circle area equals to: 6.283185307179586\n",
      "circle area equals to: 6.283185307179586\n",
      "circle area equals to: 12.566370614359172\n",
      "circle area equals to: 12.566370614359172\n",
      "circle area equals to: 18.84955592153876\n",
      "circle area equals to: 18.84955592153876\n",
      "circle area equals to: 25.132741228718345\n",
      "circle area equals to: 25.132741228718345\n",
      "circle area equals to: 31.41592653589793\n",
      "circle area equals to: 31.41592653589793\n",
      "circle area equals to: 37.69911184307752\n",
      "circle area equals to: 37.69911184307752\n",
      "circle area equals to: 43.982297150257104\n",
      "circle area equals to: 43.982297150257104\n",
      "circle area equals to: 50.26548245743669\n",
      "circle area equals to: 50.26548245743669\n",
      "circle area equals to: 56.548667764616276\n",
      "circle area equals to: 56.548667764616276\n"
     ]
    }
   ],
   "source": [
    "for i in range(10):\n",
    "    temp_circle = Circle(i)\n",
    "    temp_circle.calculate_area()\n",
    "    temp_circle.calculate_circumference()"
   ]
  },
  {
   "cell_type": "code",
   "execution_count": 242,
   "metadata": {
    "scrolled": false
   },
   "outputs": [
    {
     "name": "stdout",
     "output_type": "stream",
     "text": [
      "circle area equals to: 0.0\n",
      "circle area equals to: 0.0\n",
      "circle area equals to: 6.283185307179586\n",
      "circle area equals to: 6.283185307179586\n",
      "circle area equals to: 12.566370614359172\n",
      "circle area equals to: 12.566370614359172\n",
      "circle area equals to: 18.84955592153876\n",
      "circle area equals to: 18.84955592153876\n",
      "circle area equals to: 25.132741228718345\n",
      "circle area equals to: 25.132741228718345\n",
      "circle area equals to: 31.41592653589793\n",
      "circle area equals to: 31.41592653589793\n",
      "circle area equals to: 37.69911184307752\n",
      "circle area equals to: 37.69911184307752\n",
      "circle area equals to: 43.982297150257104\n",
      "circle area equals to: 43.982297150257104\n",
      "circle area equals to: 50.26548245743669\n",
      "circle area equals to: 50.26548245743669\n",
      "circle area equals to: 56.548667764616276\n",
      "circle area equals to: 56.548667764616276\n",
      "[0.0, 6.283185307179586, 12.566370614359172, 18.84955592153876, 25.132741228718345, 31.41592653589793, 37.69911184307752, 43.982297150257104, 50.26548245743669, 56.548667764616276]\n"
     ]
    }
   ],
   "source": [
    "all_areas = []\n",
    "for i in range(10) :\n",
    "    temp_circle = Circle(i)\n",
    "    all_areas.append(temp_circle.calculate_area())\n",
    "    temp_circle.calculate_circumference()\n",
    "    \n",
    "print(all_areas)"
   ]
  },
  {
   "cell_type": "code",
   "execution_count": 243,
   "metadata": {},
   "outputs": [
    {
     "name": "stdout",
     "output_type": "stream",
     "text": [
      "<module 'math' (built-in)>\n",
      "<built-in function sin> <built-in function cos> 3.141592653589793\n",
      "3.141592653589793\n"
     ]
    }
   ],
   "source": [
    "# imprt of additional modules\n",
    "import math\n",
    "print (math)\n",
    "\n",
    "# specific parts\n",
    "from math import sin, cos, pi\n",
    "print(sin, cos, pi)\n",
    "print(pi)\n",
    "\n",
    "# import as alios\n",
    "import math as m\n",
    "import numpy as np\n",
    "import random as r\n",
    "# m.pi, m.sin\n",
    "\n",
    "# imprort submocules\n",
    "import matplotlib.pyplot as plt\n",
    "\n",
    "# wildcard import\n",
    "from math import * \n",
    "\n"
   ]
  },
  {
   "cell_type": "code",
   "execution_count": 244,
   "metadata": {},
   "outputs": [
    {
     "name": "stdout",
     "output_type": "stream",
     "text": [
      "0.0 1.0\n"
     ]
    }
   ],
   "source": [
    "print(m.sin(0), m.cos(0))"
   ]
  },
  {
   "cell_type": "code",
   "execution_count": 245,
   "metadata": {},
   "outputs": [
    {
     "name": "stdout",
     "output_type": "stream",
     "text": [
      "[0.0, 0.09983341664682815, 0.19866933079506122, 0.29552020666133955, 0.3894183423086505, 0.479425538604203, 0.5646424733950354, 0.644217687237691, 0.7173560908995228, 0.7833269096274834, 0.8414709848078965, 0.8912073600614354, 0.9320390859672263, 0.963558185417193, 0.9854497299884601, 0.9974949866040544, 0.9995736030415051, 0.9916648104524686, 0.9738476308781951, 0.9463000876874145, 0.9092974268256817, 0.8632093666488737, 0.8084964038195901, 0.7457052121767203, 0.675463180551151, 0.5984721441039564, 0.5155013718214642, 0.4273798802338298, 0.3349881501559051, 0.23924932921398243, 0.1411200080598672, 0.04158066243329049, -0.058374143427580086, -0.1577456941432482, -0.2555411020268312, -0.35078322768961984, -0.44252044329485246, -0.5298361409084934, -0.6118578909427189, -0.6877661591839738, -0.7568024953079282, -0.8182771110644103, -0.8715757724135882, -0.9161659367494549, -0.9516020738895161, -0.977530117665097, -0.9936910036334644, -0.9999232575641008, -0.9961646088358407, -0.9824526126243325, -0.9589242746631385, -0.9258146823277325, -0.8834546557201531, -0.8322674422239013, -0.7727644875559871, -0.7055403255703919, -0.6312666378723216, -0.5506855425976376, -0.46460217941375737, -0.373876664830236, -0.27941549819892586, -0.18216250427209588, -0.0830894028174964, 0.016813900484349713, 0.11654920485049364, 0.21511998808781552, 0.31154136351337786, 0.4048499206165983, 0.49411335113860816, 0.5784397643882001, 0.6569865987187891, 0.7289690401258759, 0.7936678638491531, 0.8504366206285644, 0.8987080958116269, 0.9379999767747389, 0.9679196720314863, 0.9881682338770004, 0.998543345374605, 0.998941341839772, 0.9893582466233818, 0.9698898108450863, 0.9407305566797731, 0.9021718337562933, 0.8545989080882805, 0.7984871126234903, 0.7343970978741133, 0.6629692300821833, 0.5849171928917617, 0.5010208564578846, 0.4121184852417566, 0.3190983623493521, 0.22288991410024764, 0.1244544235070617, 0.024775425453357765, -0.0751511204618093, -0.17432678122297965, -0.27176062641094245, -0.3664791292519284, -0.45753589377532133]\n"
     ]
    }
   ],
   "source": [
    "sine_values = []\n",
    "\n",
    "for i in range (100):\n",
    "    sine_values.append(m.sin(i/10.))\n",
    "    \n",
    "print(sine_values)"
   ]
  },
  {
   "cell_type": "code",
   "execution_count": 246,
   "metadata": {},
   "outputs": [
    {
     "data": {
      "text/plain": [
       "[<matplotlib.lines.Line2D at 0x173b9ece940>]"
      ]
     },
     "execution_count": 246,
     "metadata": {},
     "output_type": "execute_result"
    },
    {
     "data": {
      "image/png": "[encoded data removed]",
      "text/plain": [
       "<Figure size 432x288 with 1 Axes>"
      ]
     },
     "metadata": {
      "needs_background": "light"
     },
     "output_type": "display_data"
    }
   ],
   "source": [
    "plt.plot(sine_values)"
   ]
  },
  {
   "cell_type": "code",
   "execution_count": 247,
   "metadata": {},
   "outputs": [
    {
     "name": "stdout",
     "output_type": "stream",
     "text": [
      "[[0.0, 0.06279051952931337, 0.12533323356430426, 0.1873813145857246, 0.2486898871648548], [0.0, 0.06266661678215213, 0.1243449435824274, 0.18406227634233896, 0.24087683705085766], [0.0, 0.06246043819524153, 0.12270818422822598, 0.17860893165966554, 0.2281823686428962], [0.0, 0.0621724717912137, 0.12043841852542883, 0.17113677648217215, 0.21108198137550377], [0.0, 0.06180339887498948, 0.11755705045849463, 0.16180339887498946, 0.1902113032590307], [0.0, 0.06135409211411299, 0.1140911843214481, 0.1508045087443366, 0.16633778807137858], [0.0, 0.060825613080724664, 0.11007332039654132, 0.13836902301837586, 0.1403267501040984]]\n"
     ]
    }
   ],
   "source": [
    "waves = []\n",
    "for i in range(7):\n",
    "    wave=[]\n",
    "    for j in range(5):\n",
    "        w=m.sin((i+1)*j*m.pi/50)/(i+1)\n",
    "        wave.append(w)\n",
    "\n",
    "# wave = [m.sin((i+1)*j*m.pi/50)/(i+1)] for j in range(5)\n",
    "    waves.append(wave)\n",
    "    \n",
    "print (waves)\n"
   ]
  },
  {
   "cell_type": "code",
   "execution_count": 248,
   "metadata": {},
   "outputs": [
    {
     "name": "stdout",
     "output_type": "stream",
     "text": [
      "type of waves:  <class 'list'>\n",
      "length of waves 7\n",
      "type of waves[0] <class 'list'>\n",
      "type of waves[0] 5\n"
     ]
    }
   ],
   "source": [
    "print('type of waves: ', type(waves))\n",
    "print('length of waves', len(waves))\n",
    "print('type of waves[0]', type(waves[0]))\n",
    "print('type of waves[0]', len(waves[0]))"
   ]
  },
  {
   "cell_type": "code",
   "execution_count": 249,
   "metadata": {},
   "outputs": [
    {
     "data": {
      "image/png": "[encoded data removed]",
      "text/plain": [
       "<Figure size 1152x648 with 1 Axes>"
      ]
     },
     "metadata": {
      "needs_background": "light"
     },
     "output_type": "display_data"
    }
   ],
   "source": [
    "# please visualize\n",
    "plt.figure(figsize=(16,9))\n",
    "for wave in waves:\n",
    "    plt.plot(wave)\n",
    "\n"
   ]
  },
  {
   "cell_type": "code",
   "execution_count": null,
   "metadata": {},
   "outputs": [],
   "source": [
    "import math\n",
    "import matplotlib.pyplot as plt\n",
    "import random"
   ]
  },
  {
   "cell_type": "code",
   "execution_count": 61,
   "metadata": {},
   "outputs": [
    {
     "data": {
      "image/png": "[encoded data removed]",
      "text/plain": [
       "<Figure size 720x720 with 1 Axes>"
      ]
     },
     "metadata": {
      "needs_background": "light"
     },
     "output_type": "display_data"
    }
   ],
   "source": [
    "import math \n",
    "import random\n",
    "import matplotlib.pyplot as plt\n",
    "\n",
    "class Circle: \n",
    "    def __init__(self, rad , xpos, ypos, color, peaks): \n",
    "        self.rad=rad \n",
    "        self.xpos=xpos \n",
    "        self.ypos=ypos \n",
    "        self.color=color\n",
    "        self.peaks=peaks\n",
    "    def display(self):\n",
    "        xc=[]\n",
    "        yc=[]\n",
    "    \n",
    "        res=self.peaks*2\n",
    "        a=2*math.pi/res\n",
    "        sf=0.5\n",
    "        for i in range(res):\n",
    "            if i%2==0:\n",
    "                radius=self.rad*sf\n",
    "            else:\n",
    "                radius=self.rad\n",
    "            xc.append(self.xpos+math.cos(i*a-a/2)*radius)\n",
    "            yc.append(self.ypos+math.sin(i*a-a/2)*radius)\n",
    "        \n",
    "        \n",
    "        plt.fill(xc,yc,c=self.color)\n",
    "        \n",
    "\n",
    "    \n",
    "plt.figure(figsize=(10,10)) \n",
    "plt.axis('equal')\n",
    "\n",
    "num=10\n",
    "for i in range(num): \n",
    "    circle1=Circle(0.2, i*0.5, 0.5,[0,0,i/num],i+3) \n",
    "    circle1.display()\n"
   ]
  },
  {
   "cell_type": "code",
   "execution_count": null,
   "metadata": {},
   "outputs": [],
   "source": []
  },
  {
   "cell_type": "code",
   "execution_count": null,
   "metadata": {},
   "outputs": [],
   "source": [
    "random.seed(12847973987021)\n",
    "random.randint\n",
    "\n",
    "\n"
   ]
  },
  {
   "cell_type": "code",
   "execution_count": null,
   "metadata": {},
   "outputs": [],
   "source": [
    "# string exercise\n",
    "# slicing"
   ]
  },
  {
   "cell_type": "code",
   "execution_count": 202,
   "metadata": {},
   "outputs": [
    {
     "name": "stdout",
     "output_type": "stream",
     "text": [
      "09oarFtiA\n"
     ]
    }
   ],
   "source": [
    "phrase='MASDigitalFabrication19/20'\n",
    "\n",
    "extract=phrase[::-3]\n",
    "print(extract)"
   ]
  },
  {
   "cell_type": "code",
   "execution_count": null,
   "metadata": {},
   "outputs": [],
   "source": [
    "# find all accurences of a string input, ignoring the cose"
   ]
  },
  {
   "cell_type": "code",
   "execution_count": 203,
   "metadata": {},
   "outputs": [
    {
     "name": "stdout",
     "output_type": "stream",
     "text": [
      "occurence of the world digital is 1\n"
     ]
    }
   ],
   "source": [
    "keyword='digital'\n",
    "\n",
    "def find_string(input_phrase, input_keyword):\n",
    "    temp_phrase=input_phrase.lower()\n",
    "    temp_word=input_keyword.lower()\n",
    "    word_length=len(input_keyword)\n",
    "    \n",
    "    count=0\n",
    "    for i in range(len(temp_phrase)):\n",
    "        if temp_phrase[i:i+word_length]==temp_word:\n",
    "            count+=1\n",
    "    print('occurence of the world', input_keyword, 'is', count)\n",
    "            \n",
    "            \n",
    "find_string(phrase,keyword)"
   ]
  },
  {
   "cell_type": "code",
   "execution_count": 204,
   "metadata": {},
   "outputs": [
    {
     "name": "stdout",
     "output_type": "stream",
     "text": [
      "occurence of the world digital is 2\n"
     ]
    }
   ],
   "source": [
    "phrase='digital digitalfabrication'\n",
    "keyword='digital'\n",
    "\n",
    "def find_string(input_phrase, input_keyword):\n",
    "    temp_phrase=input_phrase.lower()\n",
    "    temp_word=input_keyword.lower()\n",
    "    word_length=len(input_keyword)\n",
    "    \n",
    "    count=0\n",
    "    for i in range(len(temp_phrase)):\n",
    "        if temp_phrase[i:i+word_length]==temp_word:\n",
    "            count+=1\n",
    "    print('occurence of the world', input_keyword, 'is', count)\n",
    "    \n",
    "    \n",
    "find_string(phrase, keyword)"
   ]
  },
  {
   "cell_type": "code",
   "execution_count": 216,
   "metadata": {},
   "outputs": [
    {
     "name": "stdout",
     "output_type": "stream",
     "text": [
      "16 4 5 1\n"
     ]
    }
   ],
   "source": [
    "phrase='MASDigitalFabrication19/20'\n",
    "\n",
    "def analyse_string(input_string):\n",
    "    lower_count=0\n",
    "    numeric_count=0\n",
    "    higher_count=0\n",
    "    symbol_count=0\n",
    "    for char in input_string:\n",
    "        if char.islower():\n",
    "            lower_count+=1\n",
    "        elif char.isnumeric():\n",
    "            numeric_count+=1\n",
    "        elif char.isupper():\n",
    "            higher_count+=1\n",
    "        else:\n",
    "            symbol_count+=1\n",
    "    print(lower_count, numeric_count, higher_count, symbol_count)\n",
    "            \n",
    "analyse_string(phrase)\n",
    "\n",
    "\n"
   ]
  },
  {
   "cell_type": "code",
   "execution_count": null,
   "metadata": {},
   "outputs": [],
   "source": [
    "# given two lists, create a third list that contains ODD INDEX elements from the first\n",
    "# and EVEN INDEX elements from the second"
   ]
  },
  {
   "cell_type": "code",
   "execution_count": 218,
   "metadata": {},
   "outputs": [
    {
     "name": "stdout",
     "output_type": "stream",
     "text": [
      "[1, 8, 11, 5, 9]\n"
     ]
    }
   ],
   "source": [
    "list1 = [1, 4, 8, 3, 11]\n",
    "list2 = [12, 5, 2, 9, 10]\n",
    "\n",
    "def merge_list(list_1, list_2):\n",
    "    new_list=[]\n",
    "    new_list.extend(list_1[::2])\n",
    "    new_list.extend(list_2[1::2])\n",
    "    return new_list\n",
    "\n",
    "print(merge_list(list1, list2))\n"
   ]
  },
  {
   "cell_type": "code",
   "execution_count": null,
   "metadata": {},
   "outputs": [],
   "source": [
    "# given two list, create a third list that contains ODD elements from the first\n",
    "# and EVEN elements from the second"
   ]
  },
  {
   "cell_type": "code",
   "execution_count": 220,
   "metadata": {},
   "outputs": [
    {
     "name": "stdout",
     "output_type": "stream",
     "text": [
      "[1, 3, 11, 12, 2, 10]\n"
     ]
    }
   ],
   "source": [
    "list1 = [1, 4, 8, 3, 11]\n",
    "list2 = [12, 5, 2, 9, 10]\n",
    "\n",
    "def merge_list(list_1, list_2):\n",
    "    new_list=[]\n",
    "    # for every value in list_1\n",
    "    for i in range(len(list_1)):\n",
    "        val=list_1[i]\n",
    "        #if value is odd, append to new list\n",
    "        if val%2 !=0:\n",
    "            new_list.append(val)\n",
    "    # for every value in list_2\n",
    "    for val in list_2:\n",
    "        #if value is even, opened to new list\n",
    "        if val%2 ==0:\n",
    "            new_list.append(val)\n",
    "    # return new list\n",
    "    return new_list\n",
    "\n",
    "print(merge_list(list1,list2))"
   ]
  },
  {
   "cell_type": "code",
   "execution_count": 222,
   "metadata": {},
   "outputs": [
    {
     "name": "stdout",
     "output_type": "stream",
     "text": [
      "5\n",
      "2\n"
     ]
    }
   ],
   "source": [
    "list1 = [1, 4, 8, 3, 11]\n",
    "list2 = [12, 5, 2, 9, 10]\n",
    "\n",
    "def associate_list(list_1, list_2):\n",
    "    for i,val in enumerate(list_1):\n",
    "        if val%2==0:\n",
    "            try:\n",
    "                print(list_2[i])\n",
    "            except IndexError:\n",
    "                pass\n",
    "            \n",
    "associate_list(list1,list2)\n",
    "\n"
   ]
  },
  {
   "cell_type": "code",
   "execution_count": 227,
   "metadata": {},
   "outputs": [
    {
     "name": "stdout",
     "output_type": "stream",
     "text": [
      "4\n",
      "partition 1 is [0, 1, 2, 3]\n",
      "partition 1 is [4, 5, 6, 7]\n",
      "partition 1 is [8, 9, 10, 11]\n"
     ]
    }
   ],
   "source": [
    "# divide list in to there partitions\n",
    "sample_list=[0, 1, 2, 3, 4, 5, 6, 7, 8, 9, 10, 11, 12]\n",
    "partition_size=int(len(sample_list)/3)\n",
    "print(partition_size)\n",
    "\n",
    "start=0\n",
    "end=partition_size\n",
    "\n",
    "for i in range(1,4,1):\n",
    "    indexes=slice(start,end,1)\n",
    "    partition=sample_list[indexes]\n",
    "    print('partition',1,'is',list(partition))\n",
    "    start=end\n",
    "    end+=partition_size\n"
   ]
  },
  {
   "cell_type": "code",
   "execution_count": null,
   "metadata": {},
   "outputs": [],
   "source": []
  },
  {
   "cell_type": "code",
   "execution_count": null,
   "metadata": {},
   "outputs": [],
   "source": []
  },
  {
   "cell_type": "code",
   "execution_count": 33,
   "metadata": {},
   "outputs": [],
   "source": [
    "import matplotlib.pyplot as plt\n",
    "import math"
   ]
  },
  {
   "cell_type": "code",
   "execution_count": 82,
   "metadata": {},
   "outputs": [],
   "source": [
    "class Polygon:\n",
    "    def __init__(self, xlist, ylist, col):\n",
    "        self.xlist=xlist\n",
    "        self.ylist=ylist\n",
    "        self.col=col\n",
    "    def display(self):\n",
    "        plt.fill(self.xlist, self.ylist, c=self.col)"
   ]
  },
  {
   "cell_type": "code",
   "execution_count": 83,
   "metadata": {},
   "outputs": [
    {
     "data": {
      "image/png": "[encoded data removed]",
      "text/plain": [
       "<Figure size 288x288 with 1 Axes>"
      ]
     },
     "metadata": {
      "needs_background": "light"
     },
     "output_type": "display_data"
    }
   ],
   "source": [
    "plt.figure(figsize=(4,4))\n",
    "plt.axis('equal')\n",
    "\n",
    "bg=Polygon([0,1,1,0],[0,0,1,1],[1,0,0])\n",
    "bg.display()\n",
    "\n",
    "rect1=Polygon([0.4, 0.6, 0.6, 0.4],[0.2, 0.2,0.8,0.8],[1,1,1])\n",
    "rect1.display()\n",
    "\n",
    "rect2=Polygon([0.2, 0.8, 0.8, 0.2],[0.4, 0.4,0.6,0.6],[1,1,1])\n",
    "rect2.display()\n"
   ]
  },
  {
   "cell_type": "code",
   "execution_count": 72,
   "metadata": {},
   "outputs": [],
   "source": [
    "class Polygon:\n",
    "    def __init__(self):\n",
    "        self.x=[]\n",
    "        self.y=[]\n",
    "        self.col=[]"
   ]
  },
  {
   "cell_type": "code",
   "execution_count": 73,
   "metadata": {},
   "outputs": [],
   "source": [
    "def rect(x1, y1, x2, y2, c):\n",
    "    r=Polygon()\n",
    "    r.x=[x1, x2, x2, x1]\n",
    "    r.y=[y1, y1, y2, y2]\n",
    "    r.col=c\n",
    "    return r"
   ]
  },
  {
   "cell_type": "code",
   "execution_count": 74,
   "metadata": {},
   "outputs": [],
   "source": [
    "def star(xpos, ypos, rad, peaks, c):\n",
    "    s=Polygon()\n",
    "    res=peaks*2\n",
    "    a=2*math.pi/res\n",
    "    for i in range(res):\n",
    "        if i%2==0:\n",
    "            radius=rad*0.4\n",
    "        else:\n",
    "            radius=rad\n",
    "        s.x.append(xpos+math.cos(i*a)*radius)\n",
    "        s.y.append(ypos+math.sin(i*a)*radius)\n",
    "    s.col=c\n",
    "    return s\n",
    "        "
   ]
  },
  {
   "cell_type": "code",
   "execution_count": 75,
   "metadata": {},
   "outputs": [],
   "source": [
    "def display_flag(canvas,objects):\n",
    "    plt.figure(figsize=canvas)\n",
    "    plt.axis('off')\n",
    "    for o in objects:\n",
    "        plt.fill(o.x, o.y, c=o.col)"
   ]
  },
  {
   "cell_type": "code",
   "execution_count": 76,
   "metadata": {},
   "outputs": [
    {
     "data": {
      "image/png": "[encoded data removed]",
      "text/plain": [
       "<Figure size 432x432 with 1 Axes>"
      ]
     },
     "metadata": {
      "needs_background": "light"
     },
     "output_type": "display_data"
    }
   ],
   "source": [
    "objs=[]\n",
    "\n",
    "bg=rect(0,0,1,1,[1,0,0])\n",
    "objs.append(bg)\n",
    "\n",
    "cross1=rect(0.4,0.2,0.6,0.8,[1,1,1])\n",
    "objs.append(cross1)\n",
    "\n",
    "cross2=rect(0.2,0.4,0.8,0.6,[1,1,1])\n",
    "objs.append(cross2)\n",
    "\n",
    "objs.append(star(0.8,0.8,0.1,5,[1,1,1]))\n",
    "\n",
    "display_flag((6,6),objs)\n",
    "\n",
    "\n",
    "\n"
   ]
  },
  {
   "cell_type": "code",
   "execution_count": 98,
   "metadata": {},
   "outputs": [
    {
     "data": {
      "text/plain": [
       "<__main__.Circle at 0x1eeeee79780>"
      ]
     },
     "execution_count": 98,
     "metadata": {},
     "output_type": "execute_result"
    }
   ],
   "source": [
    "import math \n",
    "import matplotlib.pyplot as plt\n",
    "\n",
    "\n",
    "class Circle: \n",
    "    def __init__(self, rad , xpos, ypos, color, peaks): \n",
    "        self.rad=rad \n",
    "        self.xpos=xpos \n",
    "        self.ypos=ypos \n",
    "        self.color=color\n",
    "        self.peaks=peaks\n",
    "    def display(self):\n",
    "        xc=[]\n",
    "        yc=[]\n",
    "        res=self.peaks*2\n",
    "        a=2*math.pi/res\n",
    "        sf=0.5\n",
    "        for i in range(res):\n",
    "            if i%2==0:\n",
    "                radius=self.rad*sf\n",
    "            else:\n",
    "                radius=self.rad\n",
    "            xc.append(self.xpos+math.cos(i*a-a/2)*radius)\n",
    "            yc.append(self.ypos+math.sin(i*a-a/2)*radius)\n",
    "        \n",
    "        plt.fill(xc,yc,c=self.color)\n",
    "        \n",
    "        \n",
    "circle1=Circle(3, 6, 6, [1,0,0],3)\n",
    "\n",
    "circle1"
   ]
  },
  {
   "cell_type": "code",
   "execution_count": 97,
   "metadata": {},
   "outputs": [
    {
     "ename": "NameError",
     "evalue": "name 'self' is not defined",
     "output_type": "error",
     "traceback": [
      "\u001b[1;31m---------------------------------------------------------------------------\u001b[0m",
      "\u001b[1;31mNameError\u001b[0m                                 Traceback (most recent call last)",
      "\u001b[1;32m<ipython-input-97-a94516f4c08f>\u001b[0m in \u001b[0;36m<module>\u001b[1;34m\u001b[0m\n\u001b[0;32m      8\u001b[0m \u001b[1;33m\u001b[0m\u001b[0m\n\u001b[0;32m      9\u001b[0m \u001b[1;33m\u001b[0m\u001b[0m\n\u001b[1;32m---> 10\u001b[1;33m \u001b[0mplt\u001b[0m\u001b[1;33m.\u001b[0m\u001b[0mfill\u001b[0m\u001b[1;33m(\u001b[0m\u001b[0mself\u001b[0m\u001b[1;33m.\u001b[0m\u001b[0morigin\u001b[0m\u001b[1;33m,\u001b[0m \u001b[0mself\u001b[0m\u001b[1;33m.\u001b[0m\u001b[0mradius\u001b[0m\u001b[1;33m)\u001b[0m\u001b[1;33m\u001b[0m\u001b[1;33m\u001b[0m\u001b[0m\n\u001b[0m",
      "\u001b[1;31mNameError\u001b[0m: name 'self' is not defined"
     ]
    }
   ],
   "source": [
    "import math\n",
    "import matplotlib.pyplot as plt\n",
    "import math\n",
    "\n",
    "def __init__(self,  radius, origin = (0,0,0)):\n",
    "        self.origin = origin\n",
    "        self.radius = radius\n",
    "        \n",
    "        \n",
    "plt.fill(self.origin, self.radius)"
   ]
  },
  {
   "cell_type": "code",
   "execution_count": 109,
   "metadata": {},
   "outputs": [],
   "source": [
    "import matplotlib.pyplot as plt\n",
    "import math"
   ]
  },
  {
   "cell_type": "code",
   "execution_count": 110,
   "metadata": {},
   "outputs": [],
   "source": [
    "class Polygon:\n",
    "    def __init__(self, xlist, ylist, col):\n",
    "        self.xlist=xlist\n",
    "        self.ylist=ylist\n",
    "        self.col=col\n",
    "    def display(self):\n",
    "        plt.fill(self.xlist, self.ylist, c=self.col)"
   ]
  },
  {
   "cell_type": "code",
   "execution_count": 111,
   "metadata": {},
   "outputs": [],
   "source": [
    "class Circle:\n",
    "    def __init__(self, radius, xpos, ypos, colr):\n",
    "        self.rad=radius\n",
    "        self.colr=colr\n",
    "        self.xpos=xpos\n",
    "        self.ypos=ypos\n",
    "    def display(self):\n",
    "        xc=[]\n",
    "        yc=[]\n",
    "        res=50\n",
    "        a=2*math.pi/res\n",
    "        for i in range(res):\n",
    "            xc.append(self.xpos+math.cos(i*a)*self.rad)\n",
    "            yc.append(self.ypos+math.sin(i*a)*self.rad)\n",
    "            \n",
    "        plt.fill(xc, yc, c=self.colr)   "
   ]
  },
  {
   "cell_type": "code",
   "execution_count": 116,
   "metadata": {},
   "outputs": [
    {
     "data": {
      "image/png": "[encoded data removed]",
      "text/plain": [
       "<Figure size 432x288 with 1 Axes>"
      ]
     },
     "metadata": {
      "needs_background": "light"
     },
     "output_type": "display_data"
    }
   ],
   "source": [
    "plt.figure(figsize=(6,4))\n",
    "plt.axis('equal')\n",
    "\n",
    "bg=Polygon([0,1,1,0],[0,0,1,1],[1,1,1])\n",
    "bg.display()\n",
    "\n",
    "circle=Circle(0.29,0.5,0.5,[1,0,0])\n",
    "circle.display()"
   ]
  },
  {
   "cell_type": "code",
   "execution_count": 2,
   "metadata": {},
   "outputs": [],
   "source": [
    "import matplotlib.pyplot as plt\n",
    "import math"
   ]
  },
  {
   "cell_type": "code",
   "execution_count": 3,
   "metadata": {},
   "outputs": [],
   "source": [
    "class Polygon:\n",
    "    def __init__(self, xlist, ylist, col):\n",
    "        self.xlist=xlist\n",
    "        self.ylist=ylist\n",
    "        self.col=col\n",
    "    def display(self):\n",
    "        plt.fill(self.xlist, self.ylist, c=self.col)"
   ]
  },
  {
   "cell_type": "code",
   "execution_count": 4,
   "metadata": {},
   "outputs": [],
   "source": [
    "class Circle:\n",
    "    def __init__(self, radius, xpos, ypos, colr):\n",
    "        self.rad=radius\n",
    "        self.colr=colr\n",
    "        self.xpos=xpos\n",
    "        self.ypos=ypos\n",
    "    def display(self):\n",
    "        xc=[]\n",
    "        yc=[]\n",
    "        res=50\n",
    "        a=2*math.pi/res\n",
    "        for i in range(res):\n",
    "            xc.append(self.xpos+math.cos(i*a)*self.rad)\n",
    "            yc.append(self.ypos+math.sin(i*a)*self.rad)\n",
    "            \n",
    "        plt.fill(xc, yc, c=self.colr)   "
   ]
  },
  {
   "cell_type": "code",
   "execution_count": 5,
   "metadata": {},
   "outputs": [],
   "source": [
    "class Line:\n",
    "    def __init__(self, a, xpos, ypos, color):\n",
    "        self.a=a\n",
    "        self.xpos=xpos\n",
    "        self.ypos=ypos\n",
    "        self.colo=color\n",
    "    def display(self):\n",
    "        xc=[]\n",
    "        yc=[]\n",
    "        res=50\n",
    "        a=yc/xc\n",
    "        for i in range(res):\n",
    "            xc.append(i)\n",
    "            yc.append(i)\n",
    "        plt.fill(xc, xy, c=self.color)\n",
    "    "
   ]
  },
  {
   "cell_type": "code",
   "execution_count": 7,
   "metadata": {},
   "outputs": [
    {
     "ename": "TypeError",
     "evalue": "unsupported operand type(s) for /: 'list' and 'list'",
     "output_type": "error",
     "traceback": [
      "\u001b[1;31m---------------------------------------------------------------------------\u001b[0m",
      "\u001b[1;31mTypeError\u001b[0m                                 Traceback (most recent call last)",
      "\u001b[1;32m<ipython-input-7-c2650e5dafc1>\u001b[0m in \u001b[0;36m<module>\u001b[1;34m\u001b[0m\n\u001b[0;32m     13\u001b[0m     \u001b[1;32mfor\u001b[0m \u001b[0mh\u001b[0m \u001b[1;32min\u001b[0m \u001b[0mrange\u001b[0m\u001b[1;33m(\u001b[0m\u001b[0mnum2\u001b[0m\u001b[1;33m)\u001b[0m\u001b[1;33m:\u001b[0m\u001b[1;33m\u001b[0m\u001b[1;33m\u001b[0m\u001b[0m\n\u001b[0;32m     14\u001b[0m         \u001b[0mline\u001b[0m\u001b[1;33m=\u001b[0m\u001b[0mLine\u001b[0m\u001b[1;33m(\u001b[0m\u001b[0mi\u001b[0m\u001b[1;33m,\u001b[0m \u001b[0mh\u001b[0m\u001b[1;33m,\u001b[0m \u001b[0mh\u001b[0m\u001b[1;33m*\u001b[0m\u001b[0mi\u001b[0m\u001b[1;33m,\u001b[0m \u001b[1;33m[\u001b[0m\u001b[1;36m1\u001b[0m\u001b[1;33m,\u001b[0m\u001b[1;36m0\u001b[0m\u001b[1;33m,\u001b[0m\u001b[1;36m0\u001b[0m\u001b[1;33m]\u001b[0m\u001b[1;33m)\u001b[0m\u001b[1;33m\u001b[0m\u001b[1;33m\u001b[0m\u001b[0m\n\u001b[1;32m---> 15\u001b[1;33m         \u001b[0mline\u001b[0m\u001b[1;33m.\u001b[0m\u001b[0mdisplay\u001b[0m\u001b[1;33m(\u001b[0m\u001b[1;33m)\u001b[0m\u001b[1;33m\u001b[0m\u001b[1;33m\u001b[0m\u001b[0m\n\u001b[0m",
      "\u001b[1;32m<ipython-input-5-e5a73c8db70b>\u001b[0m in \u001b[0;36mdisplay\u001b[1;34m(self)\u001b[0m\n\u001b[0;32m      9\u001b[0m         \u001b[0myc\u001b[0m\u001b[1;33m=\u001b[0m\u001b[1;33m[\u001b[0m\u001b[1;33m]\u001b[0m\u001b[1;33m\u001b[0m\u001b[1;33m\u001b[0m\u001b[0m\n\u001b[0;32m     10\u001b[0m         \u001b[0mres\u001b[0m\u001b[1;33m=\u001b[0m\u001b[1;36m50\u001b[0m\u001b[1;33m\u001b[0m\u001b[1;33m\u001b[0m\u001b[0m\n\u001b[1;32m---> 11\u001b[1;33m         \u001b[0ma\u001b[0m\u001b[1;33m=\u001b[0m\u001b[0myc\u001b[0m\u001b[1;33m/\u001b[0m\u001b[0mxc\u001b[0m\u001b[1;33m\u001b[0m\u001b[1;33m\u001b[0m\u001b[0m\n\u001b[0m\u001b[0;32m     12\u001b[0m         \u001b[1;32mfor\u001b[0m \u001b[0mi\u001b[0m \u001b[1;32min\u001b[0m \u001b[0mrange\u001b[0m\u001b[1;33m(\u001b[0m\u001b[0mres\u001b[0m\u001b[1;33m)\u001b[0m\u001b[1;33m:\u001b[0m\u001b[1;33m\u001b[0m\u001b[1;33m\u001b[0m\u001b[0m\n\u001b[0;32m     13\u001b[0m             \u001b[0mxc\u001b[0m\u001b[1;33m.\u001b[0m\u001b[0mappend\u001b[0m\u001b[1;33m(\u001b[0m\u001b[0mi\u001b[0m\u001b[1;33m)\u001b[0m\u001b[1;33m\u001b[0m\u001b[1;33m\u001b[0m\u001b[0m\n",
      "\u001b[1;31mTypeError\u001b[0m: unsupported operand type(s) for /: 'list' and 'list'"
     ]
    },
    {
     "data": {
      "image/png": "[encoded data removed]",
      "text/plain": [
       "<Figure size 432x288 with 1 Axes>"
      ]
     },
     "metadata": {
      "needs_background": "light"
     },
     "output_type": "display_data"
    }
   ],
   "source": [
    "plt.figure(figsize=(6,4))\n",
    "plt.axis('equal')\n",
    "\n",
    "bg=Polygon([0,1,1,0],[0,0,1,1],[1,1,1])\n",
    "bg.display()\n",
    "\n",
    "circle=Circle(0.29,0.5,0.5,[1,0,0])\n",
    "circle.display()\n",
    "\n",
    "num1=10\n",
    "num2=10\n",
    "for i in range(num1):\n",
    "    for h in range(num2): \n",
    "        line=Line(i, h, h*i, [1,0,0])\n",
    "        line.display()"
   ]
  },
  {
   "cell_type": "code",
   "execution_count": null,
   "metadata": {},
   "outputs": [],
   "source": []
  },
  {
   "cell_type": "code",
   "execution_count": 9,
   "metadata": {},
   "outputs": [
    {
     "ename": "TypeError",
     "evalue": "unsupported operand type(s) for /: 'list' and 'list'",
     "output_type": "error",
     "traceback": [
      "\u001b[1;31m---------------------------------------------------------------------------\u001b[0m",
      "\u001b[1;31mTypeError\u001b[0m                                 Traceback (most recent call last)",
      "\u001b[1;32m<ipython-input-9-bc29f8836190>\u001b[0m in \u001b[0;36m<module>\u001b[1;34m\u001b[0m\n\u001b[0;32m      4\u001b[0m     \u001b[1;32mfor\u001b[0m \u001b[0mh\u001b[0m \u001b[1;32min\u001b[0m \u001b[0mrange\u001b[0m\u001b[1;33m(\u001b[0m\u001b[0mnum2\u001b[0m\u001b[1;33m)\u001b[0m\u001b[1;33m:\u001b[0m\u001b[1;33m\u001b[0m\u001b[1;33m\u001b[0m\u001b[0m\n\u001b[0;32m      5\u001b[0m         \u001b[0mline\u001b[0m\u001b[1;33m=\u001b[0m\u001b[0mLine\u001b[0m\u001b[1;33m(\u001b[0m\u001b[0mi\u001b[0m\u001b[1;33m,\u001b[0m \u001b[0mh\u001b[0m\u001b[1;33m,\u001b[0m \u001b[0mh\u001b[0m\u001b[1;33m*\u001b[0m\u001b[0mi\u001b[0m\u001b[1;33m,\u001b[0m \u001b[1;33m[\u001b[0m\u001b[1;36m1\u001b[0m\u001b[1;33m,\u001b[0m\u001b[1;36m0\u001b[0m\u001b[1;33m,\u001b[0m\u001b[1;36m0\u001b[0m\u001b[1;33m]\u001b[0m\u001b[1;33m)\u001b[0m\u001b[1;33m\u001b[0m\u001b[1;33m\u001b[0m\u001b[0m\n\u001b[1;32m----> 6\u001b[1;33m         \u001b[0mline\u001b[0m\u001b[1;33m.\u001b[0m\u001b[0mdisplay\u001b[0m\u001b[1;33m(\u001b[0m\u001b[1;33m)\u001b[0m\u001b[1;33m\u001b[0m\u001b[1;33m\u001b[0m\u001b[0m\n\u001b[0m",
      "\u001b[1;32m<ipython-input-5-e5a73c8db70b>\u001b[0m in \u001b[0;36mdisplay\u001b[1;34m(self)\u001b[0m\n\u001b[0;32m      9\u001b[0m         \u001b[0myc\u001b[0m\u001b[1;33m=\u001b[0m\u001b[1;33m[\u001b[0m\u001b[1;33m]\u001b[0m\u001b[1;33m\u001b[0m\u001b[1;33m\u001b[0m\u001b[0m\n\u001b[0;32m     10\u001b[0m         \u001b[0mres\u001b[0m\u001b[1;33m=\u001b[0m\u001b[1;36m50\u001b[0m\u001b[1;33m\u001b[0m\u001b[1;33m\u001b[0m\u001b[0m\n\u001b[1;32m---> 11\u001b[1;33m         \u001b[0ma\u001b[0m\u001b[1;33m=\u001b[0m\u001b[0myc\u001b[0m\u001b[1;33m/\u001b[0m\u001b[0mxc\u001b[0m\u001b[1;33m\u001b[0m\u001b[1;33m\u001b[0m\u001b[0m\n\u001b[0m\u001b[0;32m     12\u001b[0m         \u001b[1;32mfor\u001b[0m \u001b[0mi\u001b[0m \u001b[1;32min\u001b[0m \u001b[0mrange\u001b[0m\u001b[1;33m(\u001b[0m\u001b[0mres\u001b[0m\u001b[1;33m)\u001b[0m\u001b[1;33m:\u001b[0m\u001b[1;33m\u001b[0m\u001b[1;33m\u001b[0m\u001b[0m\n\u001b[0;32m     13\u001b[0m             \u001b[0mxc\u001b[0m\u001b[1;33m.\u001b[0m\u001b[0mappend\u001b[0m\u001b[1;33m(\u001b[0m\u001b[0mi\u001b[0m\u001b[1;33m)\u001b[0m\u001b[1;33m\u001b[0m\u001b[1;33m\u001b[0m\u001b[0m\n",
      "\u001b[1;31mTypeError\u001b[0m: unsupported operand type(s) for /: 'list' and 'list'"
     ]
    }
   ],
   "source": [
    "num1=10\n",
    "num2=10\n",
    "for i in range(num1):\n",
    "    for h in range(num2): \n",
    "        line=Line(i, h, h*i, [1,0,0])\n",
    "        line.display()"
   ]
  },
  {
   "cell_type": "code",
   "execution_count": null,
   "metadata": {},
   "outputs": [],
   "source": []
  },
  {
   "cell_type": "code",
   "execution_count": 10,
   "metadata": {},
   "outputs": [],
   "source": [
    "import matplotlib.pyplot as plt\n",
    "import math"
   ]
  },
  {
   "cell_type": "code",
   "execution_count": 11,
   "metadata": {},
   "outputs": [],
   "source": [
    "class Polygon:\n",
    "    def __init__(self):\n",
    "        self.x=[]\n",
    "        self.y=[]\n",
    "        self.col=[]\n",
    "    def display(self):\n",
    "        plt.fill(self.xlist, self.ylist, c=self.col)"
   ]
  },
  {
   "cell_type": "code",
   "execution_count": 12,
   "metadata": {},
   "outputs": [],
   "source": [
    "def rect(x1, y1, x2, y2, c):\n",
    "    r=Polygon()\n",
    "    r.x=[x1, x2, x2, x1]\n",
    "    r.y=[y1, y1, y2, y2]\n",
    "    r.col=c\n",
    "    return r"
   ]
  },
  {
   "cell_type": "code",
   "execution_count": 13,
   "metadata": {},
   "outputs": [],
   "source": [
    "def display_flag(canvas,objects):\n",
    "    plt.figure(figsize=canvas)\n",
    "    plt.axis('off')\n",
    "    for o in objects:\n",
    "        plt.fill(o.x, o.y, c=o.col)"
   ]
  },
  {
   "cell_type": "code",
   "execution_count": 46,
   "metadata": {},
   "outputs": [
    {
     "data": {
      "image/png": "[encoded data removed]",
      "text/plain": [
       "<Figure size 324x216 with 1 Axes>"
      ]
     },
     "metadata": {
      "needs_background": "light"
     },
     "output_type": "display_data"
    }
   ],
   "source": [
    "objs=[]\n",
    "\n",
    "bg=rect(0,0,1,1,[0,0,0])\n",
    "objs.append(bg)\n",
    "\n",
    "belt1=rect(0,1/3,1,2/3,[1,0,0])\n",
    "objs.append(belt1)\n",
    "\n",
    "belt2=rect(0,0,1,1/3,[1,1,0])\n",
    "objs.append(belt2)\n",
    "\n",
    "display_flag((4.5,3),objs)\n"
   ]
  },
  {
   "cell_type": "code",
   "execution_count": null,
   "metadata": {},
   "outputs": [],
   "source": []
  },
  {
   "cell_type": "code",
   "execution_count": null,
   "metadata": {},
   "outputs": [],
   "source": [
    "import matplotlib.pyplot as plt\n",
    "import math"
   ]
  },
  {
   "cell_type": "code",
   "execution_count": 47,
   "metadata": {},
   "outputs": [],
   "source": [
    "class Polygon:\n",
    "    def __init__(self):\n",
    "        self.x=[]\n",
    "        self.y=[]\n",
    "        self.col=[]\n",
    "    def display(self):\n",
    "        plt.fill(self.xlist, self.ylist, c=self.col)"
   ]
  },
  {
   "cell_type": "code",
   "execution_count": 48,
   "metadata": {},
   "outputs": [],
   "source": [
    "def rect(x1, y1, x2, y2, c):\n",
    "    r=Polygon()\n",
    "    r.x=[x1, x2, x2, x1]\n",
    "    r.y=[y1, y1, y2, y2]\n",
    "    r.col=c\n",
    "    return r"
   ]
  },
  {
   "cell_type": "code",
   "execution_count": 49,
   "metadata": {},
   "outputs": [],
   "source": [
    "def display_flag(canvas,objects):\n",
    "    plt.figure(figsize=canvas)\n",
    "    plt.axis('off')\n",
    "    for o in objects:\n",
    "        plt.fill(o.x, o.y, c=o.col)"
   ]
  },
  {
   "cell_type": "code",
   "execution_count": 70,
   "metadata": {},
   "outputs": [
    {
     "data": {
      "image/png": "[encoded data removed]",
      "text/plain": [
       "<Figure size 324x216 with 1 Axes>"
      ]
     },
     "metadata": {
      "needs_background": "light"
     },
     "output_type": "display_data"
    }
   ],
   "source": [
    "objs=[]\n",
    "\n",
    "#rec1=rect(0,0,1,1/9,[1,0,0])\n",
    "#objs.append(rect1)\n",
    "\n",
    "#rec2=rect(0,(1/9)*3,1,(1/9)*4,[1,0,0])\n",
    "#objs.append(rect2)\n",
    "\n",
    "num=5\n",
    "for i in range(num):\n",
    "    rec=rect(0,(1/9)*(2*i+1),1,(1/9)*(2*i+2),[0,0,1])\n",
    "    objs.append(rec)\n",
    "    \n",
    "rec2=rect(0,(1/9)*5,4/9,1,[0,0,1])\n",
    "objs.append(rec2)\n",
    "\n",
    "rec3=rect(1.5/9, 5/9, 2/9, 1.2, [1,1,1])\n",
    "objs.append(rec3)\n",
    "\n",
    "rec4=rect(0, (1/9)*7, 4/9, (1/9)*8, [1,1,1])\n",
    "objs.append(rec4)\n",
    "\n",
    "display_flag((4.5,3),objs)"
   ]
  },
  {
   "cell_type": "code",
   "execution_count": null,
   "metadata": {},
   "outputs": [],
   "source": []
  },
  {
   "cell_type": "code",
   "execution_count": 119,
   "metadata": {},
   "outputs": [],
   "source": [
    "import matplotlib.pyplot as plt\n",
    "import math"
   ]
  },
  {
   "cell_type": "code",
   "execution_count": 120,
   "metadata": {},
   "outputs": [],
   "source": [
    "class Polygon:\n",
    "    def __init__(self):\n",
    "        self.x=[]\n",
    "        self.y=[]\n",
    "        self.col=[]\n",
    "    def display(self):\n",
    "        plt.fil(self.xlist, self.ylist, c=self.col)\n",
    "        "
   ]
  },
  {
   "cell_type": "code",
   "execution_count": 165,
   "metadata": {},
   "outputs": [],
   "source": [
    "def rect(x0, y0, x1, y1, x2, y2, c):\n",
    "    r=Polygon()\n",
    "    r.x=[x0, x1, x2, x1, x0]\n",
    "    r.y=[y1, y0, y1, y2, y1]\n",
    "    r.col=c\n",
    "    return r\n",
    "\n",
    "def rect2(x1, y1, x2, y2, c):\n",
    "    r=Polygon()\n",
    "    r.x=[x1, x2, x2, x1]\n",
    "    r.y=[y1, y1, y2, y2]\n",
    "    r.col=c\n",
    "    return r\n",
    "\n",
    "class Circle:\n",
    "    def __init__(self, radius, xpos, ypos, colr):\n",
    "        self.rad=radius\n",
    "        self.colr=colr\n",
    "        self.xpos=xpos\n",
    "        self.ypos=ypos\n",
    "    def display(self):\n",
    "        xc=[]\n",
    "        yc=[]\n",
    "        res=50\n",
    "        a=2*math.pi/res\n",
    "        for i in range(res):\n",
    "            xc.append(self.xpos+math.cos(i*a)*self.rad)\n",
    "            yc.append(self.ypos+math.sin(i*a)*self.rad)\n",
    "        plt.fill(xc, yc, c=self.colr)   \n",
    "\n",
    "def display_flag(canvas,objects):\n",
    "    plt.figure(figsize=canvas)\n",
    "    plt.axis('on')\n",
    "    for o in objects:\n",
    "        plt.fill(o.x, o.y, c=o.col)"
   ]
  },
  {
   "cell_type": "code",
   "execution_count": 180,
   "metadata": {
    "scrolled": true
   },
   "outputs": [
    {
     "data": {
      "image/png": "[encoded data removed]",
      "text/plain": [
       "<Figure size 360x288 with 1 Axes>"
      ]
     },
     "metadata": {
      "needs_background": "light"
     },
     "output_type": "display_data"
    }
   ],
   "source": [
    "objs=[]\n",
    "\n",
    "bg=rect2(0,0,5,4,[0,0.7,0])\n",
    "objs.append(bg)\n",
    "\n",
    "rec1=rect(0.3, 0.3, 2.5, 2, 4.7, 3.7, [0.9,0.9,0])\n",
    "objs.append(rec1)\n",
    "\n",
    "display_flag((5,4),objs)\n",
    "\n",
    "circle=Circle(0.95,2.5,2,[0,0,1])\n",
    "circle.display()"
   ]
  },
  {
   "cell_type": "code",
   "execution_count": null,
   "metadata": {},
   "outputs": [],
   "source": []
  },
  {
   "cell_type": "code",
   "execution_count": null,
   "metadata": {},
   "outputs": [],
   "source": []
  },
  {
   "cell_type": "code",
   "execution_count": null,
   "metadata": {},
   "outputs": [],
   "source": []
  },
  {
   "cell_type": "code",
   "execution_count": null,
   "metadata": {},
   "outputs": [],
   "source": []
  },
  {
   "cell_type": "code",
   "execution_count": null,
   "metadata": {},
   "outputs": [],
   "source": []
  },
  {
   "cell_type": "markdown",
   "metadata": {},
   "source": [
    "## varid"
   ]
  },
  {
   "cell_type": "code",
   "execution_count": null,
   "metadata": {},
   "outputs": [],
   "source": []
  },
  {
   "cell_type": "code",
   "execution_count": null,
   "metadata": {},
   "outputs": [],
   "source": []
  },
  {
   "cell_type": "code",
   "execution_count": null,
   "metadata": {},
   "outputs": [],
   "source": []
  },
  {
   "cell_type": "code",
   "execution_count": null,
   "metadata": {},
   "outputs": [],
   "source": []
  },
  {
   "cell_type": "code",
   "execution_count": null,
   "metadata": {},
   "outputs": [],
   "source": []
  },
  {
   "cell_type": "code",
   "execution_count": null,
   "metadata": {},
   "outputs": [],
   "source": []
  },
  {
   "cell_type": "code",
   "execution_count": null,
   "metadata": {},
   "outputs": [],
   "source": []
  },
  {
   "cell_type": "code",
   "execution_count": null,
   "metadata": {},
   "outputs": [],
   "source": []
  },
  {
   "cell_type": "code",
   "execution_count": null,
   "metadata": {},
   "outputs": [],
   "source": []
  },
  {
   "cell_type": "code",
   "execution_count": null,
   "metadata": {},
   "outputs": [],
   "source": []
  },
  {
   "cell_type": "code",
   "execution_count": null,
   "metadata": {},
   "outputs": [],
   "source": []
  },
  {
   "cell_type": "code",
   "execution_count": null,
   "metadata": {},
   "outputs": [],
   "source": []
  },
  {
   "cell_type": "code",
   "execution_count": null,
   "metadata": {},
   "outputs": [],
   "source": []
  },
  {
   "cell_type": "code",
   "execution_count": null,
   "metadata": {},
   "outputs": [],
   "source": []
  }
 ],
 "metadata": {
  "kernelspec": {
   "display_name": "Python 3",
   "language": "python",
   "name": "python3"
  },
  "language_info": {
   "codemirror_mode": {
    "name": "ipython",
    "version": 3
   },
   "file_extension": ".py",
   "mimetype": "text/x-python",
   "name": "python",
   "nbconvert_exporter": "python",
   "pygments_lexer": "ipython3",
   "version": "3.7.3"
  }
 },
 "nbformat": 4,
 "nbformat_minor": 2
}
