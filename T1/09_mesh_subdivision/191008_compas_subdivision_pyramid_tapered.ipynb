{
 "cells": [
  {
   "cell_type": "code",
   "execution_count": 1,
   "metadata": {},
   "outputs": [],
   "source": [
    "from compas.datastructures import Mesh\n",
    "from compas.datastructures import subdivision as sd\n",
    "import ipyvolume as ipv\n",
    "from utilities import draw_compas_mesh\n",
    "from compas.geometry import Vector"
   ]
  },
  {
   "cell_type": "code",
   "execution_count": 2,
   "metadata": {},
   "outputs": [
    {
     "name": "stdout",
     "output_type": "stream",
     "text": [
      "\n",
      "================================================================================\n",
      "Mesh summary\n",
      "================================================================================\n",
      "\n",
      "- name: Mesh\n",
      "- vertices: 20\n",
      "- edges: 30\n",
      "- faces: 12\n",
      "- vertex degree: 3/3\n",
      "- face degree: 5/5\n",
      "\n",
      "================================================================================\n",
      "\n"
     ]
    }
   ],
   "source": [
    "mesh = Mesh.from_polyhedron(12)\n",
    "mesh.summary()"
   ]
  },
  {
   "cell_type": "code",
   "execution_count": 3,
   "metadata": {},
   "outputs": [],
   "source": [
    "mesh2 = sd.mesh_subdivide_tri(mesh)\n",
    "mesh3 = sd.trimesh_subdivide_loop(mesh2)"
   ]
  },
  {
   "cell_type": "code",
   "execution_count": 4,
   "metadata": {},
   "outputs": [
    {
     "data": {
      "application/vnd.jupyter.widget-view+json": {
       "model_id": "1e34eae0f0e546a49fb9de94642fd9e8",
       "version_major": 2,
       "version_minor": 0
      },
      "text/plain": [
       "VBox(children=(Figure(camera=PerspectiveCamera(fov=46.0, position=(0.0, 0.0, 2.0), quaternion=(0.0, 0.0, 0.0, …"
      ]
     },
     "metadata": {},
     "output_type": "display_data"
    },
    {
     "data": {
      "application/vnd.jupyter.widget-view+json": {
       "model_id": "65fb7002184348a3be0f18cd054fdfb4",
       "version_major": 2,
       "version_minor": 0
      },
      "text/plain": [
       "Mesh(color=array('white', dtype='<U5'), line_material=ShaderMaterial(), material=ShaderMaterial(side='DoubleSi…"
      ]
     },
     "metadata": {},
     "output_type": "display_data"
    }
   ],
   "source": [
    "draw_compas_mesh(mesh3)"
   ]
  },
  {
   "cell_type": "code",
   "execution_count": 5,
   "metadata": {},
   "outputs": [
    {
     "data": {
      "application/vnd.jupyter.widget-view+json": {
       "model_id": "285624b7ece448e5a161d87ac79f9c6b",
       "version_major": 2,
       "version_minor": 0
      },
      "text/plain": [
       "VBox(children=(Figure(camera=PerspectiveCamera(fov=46.0, position=(0.0, 0.0, 2.0), quaternion=(0.0, 0.0, 0.0, …"
      ]
     },
     "metadata": {},
     "output_type": "display_data"
    },
    {
     "data": {
      "application/vnd.jupyter.widget-view+json": {
       "model_id": "eda4601b46cb47c193c108f7b33e8b3d",
       "version_major": 2,
       "version_minor": 0
      },
      "text/plain": [
       "Mesh(color=array('white', dtype='<U5'), line_material=ShaderMaterial(), material=ShaderMaterial(side='DoubleSi…"
      ]
     },
     "metadata": {},
     "output_type": "display_data"
    }
   ],
   "source": [
    "subd = mesh3.copy()\n",
    "height = .2\n",
    "\n",
    "for fkey in mesh3.faces():\n",
    "    centroid = mesh3.face_centroid(fkey)\n",
    "    centroid_vector = Vector(*centroid)\n",
    "    normal = mesh3.face_normal(fkey)\n",
    "    normal_vector = Vector(*normal)\n",
    "    new_vertex = centroid_vector + normal_vector * height\n",
    "    subd.insert_vertex(fkey, xyz=new_vertex)\n",
    "\n",
    "draw_compas_mesh(subd)"
   ]
  },
  {
   "cell_type": "code",
   "execution_count": 6,
   "metadata": {},
   "outputs": [],
   "source": [
    "def mesh_subdivide_pyramid(mesh, k=1, height=1.0):\n",
    "    \"\"\"Subdivide a mesh using insertion of vertex at centroid + height * face normal.\n",
    "\n",
    "    Parameters\n",
    "    ----------\n",
    "    mesh : Mesh\n",
    "        The mesh object that will be subdivided.\n",
    "    k : int, optional\n",
    "        The number of levels of subdivision. Default is ``1``.\n",
    "    height : float, optional\n",
    "        The distance of the new vertex to the face.\n",
    "\n",
    "    Returns\n",
    "    -------\n",
    "    Mesh\n",
    "        A new subdivided mesh.\n",
    "    \"\"\"\n",
    "    if k != 1:\n",
    "        raise NotImplementedError\n",
    "    \n",
    "    subd = mesh.copy()\n",
    " \n",
    "    for fkey in mesh.faces():\n",
    "        centroid = mesh.face_centroid(fkey)\n",
    "        centroid_vector = Vector(*centroid)\n",
    "        normal = mesh.face_normal(fkey)\n",
    "        normal_vector = Vector(*normal)\n",
    "        new_vertex = centroid_vector + normal_vector * height\n",
    "        subd.insert_vertex(fkey, xyz=new_vertex)\n",
    "        \n",
    "    return subd\n",
    "\n",
    "\n"
   ]
  },
  {
   "cell_type": "code",
   "execution_count": 7,
   "metadata": {},
   "outputs": [
    {
     "data": {
      "application/vnd.jupyter.widget-view+json": {
       "model_id": "5f017f15c04845ab86f7b0040c7e9a1e",
       "version_major": 2,
       "version_minor": 0
      },
      "text/plain": [
       "VBox(children=(Figure(camera=PerspectiveCamera(fov=46.0, position=(0.0, 0.0, 2.0), quaternion=(0.0, 0.0, 0.0, …"
      ]
     },
     "metadata": {},
     "output_type": "display_data"
    },
    {
     "data": {
      "application/vnd.jupyter.widget-view+json": {
       "model_id": "228a761b78ad446684c4e622c075dd23",
       "version_major": 2,
       "version_minor": 0
      },
      "text/plain": [
       "Mesh(color=array('white', dtype='<U5'), line_material=ShaderMaterial(), material=ShaderMaterial(side='DoubleSi…"
      ]
     },
     "metadata": {},
     "output_type": "display_data"
    }
   ],
   "source": [
    "our_mesh = mesh_subdivide_pyramid(mesh3, height=0.3)\n",
    "draw_compas_mesh(our_mesh)"
   ]
  },
  {
   "cell_type": "code",
   "execution_count": 8,
   "metadata": {},
   "outputs": [],
   "source": [
    "def mesh_subdivide_tapered(mesh, k=1, height=1.0, ratio=0.5):\n",
    "    \"\"\"\n",
    "    \"\"\"\n",
    "    if ratio == int(1.):\n",
    "        return mesh_subdivide_pyramid(mesh, k, height)\n",
    "    \n",
    "    if k != 1:\n",
    "        raise NotImplementedError\n",
    "    \n",
    "    subd = mesh.copy()\n",
    "    \n",
    "    for fkey in mesh.faces():\n",
    "        centroid = mesh.face_centroid(fkey)\n",
    "        centroid_vector = Vector(*centroid)\n",
    "        normal = mesh.face_normal(fkey)\n",
    "        normal_vector = Vector(*normal)\n",
    "        normal_vector *= height\n",
    "        \n",
    "        face_verts = mesh.face_vertices(fkey)\n",
    "        new_verts = []\n",
    "        \n",
    "        for v in face_verts:\n",
    "            v_coords = mesh.vertex_coordinates(v)\n",
    "            v_vector = Vector(*v_coords)\n",
    "            \n",
    "            vert_to_center = centroid_vector - v_vector\n",
    "            vert_to_center *= ratio\n",
    "            new_vertex = v_vector + vert_to_center + normal_vector\n",
    "            x, y, z = new_vertex\n",
    "            new_verts.append(subd.add_vertex(x=x, y=y, z=z))\n",
    "        \n",
    "        for i, v in enumerate(face_verts):\n",
    "            next_v = face_verts[(i+1) % len(face_verts)]\n",
    "            new_v = new_verts[i]\n",
    "            next_new_v = new_verts[(i+1) % len(face_verts)]\n",
    "            new_face_key = subd.add_face([v, next_v, next_new_v, new_v])\n",
    "            subd.set_face_attribute(new_face_key, 'material', 'frame')\n",
    "        \n",
    "        top_face_key = subd.add_face(new_verts)\n",
    "        subd.set_face_attribute(top_face_key, 'material', 'glass')\n",
    "        del subd.face[fkey]\n",
    "        \n",
    "    return subd\n",
    "            \n",
    "        "
   ]
  },
  {
   "cell_type": "code",
   "execution_count": 9,
   "metadata": {},
   "outputs": [
    {
     "data": {
      "application/vnd.jupyter.widget-view+json": {
       "model_id": "cf611aa874104b4d8e35808da85194f2",
       "version_major": 2,
       "version_minor": 0
      },
      "text/plain": [
       "VBox(children=(Figure(camera=PerspectiveCamera(fov=46.0, position=(0.0, 0.0, 2.0), quaternion=(0.0, 0.0, 0.0, …"
      ]
     },
     "metadata": {},
     "output_type": "display_data"
    },
    {
     "data": {
      "application/vnd.jupyter.widget-view+json": {
       "model_id": "e2c7d159e269496b98807358513f56c6",
       "version_major": 2,
       "version_minor": 0
      },
      "text/plain": [
       "Mesh(color=array('white', dtype='<U5'), line_material=ShaderMaterial(), material=ShaderMaterial(side='DoubleSi…"
      ]
     },
     "metadata": {},
     "output_type": "display_data"
    }
   ],
   "source": [
    "tapered_mesh = mesh_subdivide_tapered(mesh3, height=0.2, ratio=.3)\n",
    "draw_compas_mesh(tapered_mesh)\n",
    "\n",
    "\n",
    "# tapered_mesh.get_faces_attribute(tapered_mesh.faces(), 'material')"
   ]
  },
  {
   "cell_type": "code",
   "execution_count": 10,
   "metadata": {},
   "outputs": [],
   "source": [
    "from utilities import export_obj_by_attribute\n",
    "export_obj_by_attribute('spacestation.obj', tapered_mesh, 'material')"
   ]
  },
  {
   "cell_type": "code",
   "execution_count": null,
   "metadata": {},
   "outputs": [],
   "source": []
  }
 ],
 "metadata": {
  "kernelspec": {
   "display_name": "Python 3",
   "language": "python",
   "name": "python3"
  },
  "language_info": {
   "codemirror_mode": {
    "name": "ipython",
    "version": 3
   },
   "file_extension": ".py",
   "mimetype": "text/x-python",
   "name": "python",
   "nbconvert_exporter": "python",
   "pygments_lexer": "ipython3",
   "version": "3.6.7"
  }
 },
 "nbformat": 4,
 "nbformat_minor": 4
}
