{
 "cells": [
  {
   "cell_type": "code",
   "execution_count": 1,
   "metadata": {},
   "outputs": [],
   "source": [
    "from compas.datastructures import Mesh\n",
    "import ipyvolume as ipv\n",
    "from utilities import draw_compas_mesh"
   ]
  },
  {
   "cell_type": "code",
   "execution_count": 2,
   "metadata": {},
   "outputs": [],
   "source": [
    "from shapes import Torus"
   ]
  },
  {
   "cell_type": "code",
   "execution_count": 3,
   "metadata": {},
   "outputs": [],
   "source": [
    "origin = (0,0,0)\n",
    "normal = (0,0,1)\n",
    "plane = (origin, normal)\n",
    "r_axis = 3.0\n",
    "r_pipe = 1.5\n",
    "torus = Torus(plane, r_axis, r_pipe)"
   ]
  },
  {
   "cell_type": "code",
   "execution_count": 50,
   "metadata": {},
   "outputs": [],
   "source": [
    "vs, fs = torus.to_vertices_and_faces(u=11,v=11)\n",
    "mesh = Mesh.from_vertices_and_faces(vs, fs)"
   ]
  },
  {
   "cell_type": "code",
   "execution_count": 51,
   "metadata": {},
   "outputs": [
    {
     "data": {
      "application/vnd.jupyter.widget-view+json": {
       "model_id": "d5efaed38c394b3ca4a0a3064095ebb9",
       "version_major": 2,
       "version_minor": 0
      },
      "text/plain": [
       "VBox(children=(Figure(camera=PerspectiveCamera(fov=46.0, position=(0.0, 0.0, 2.0), quaternion=(0.0, 0.0, 0.0, …"
      ]
     },
     "metadata": {},
     "output_type": "display_data"
    },
    {
     "data": {
      "application/vnd.jupyter.widget-view+json": {
       "model_id": "5446940bb099491aae104e0eb7bfa6a3",
       "version_major": 2,
       "version_minor": 0
      },
      "text/plain": [
       "Mesh(color=array('white', dtype='<U5'), line_material=ShaderMaterial(), material=ShaderMaterial(side='DoubleSi…"
      ]
     },
     "metadata": {},
     "output_type": "display_data"
    }
   ],
   "source": [
    "draw_compas_mesh(mesh)"
   ]
  },
  {
   "cell_type": "code",
   "execution_count": 10,
   "metadata": {},
   "outputs": [],
   "source": [
    "from shapes import Sphere, Cylinder"
   ]
  },
  {
   "cell_type": "code",
   "execution_count": 16,
   "metadata": {},
   "outputs": [],
   "source": [
    "from compas.datastructures import meshes_join"
   ]
  },
  {
   "cell_type": "code",
   "execution_count": 55,
   "metadata": {},
   "outputs": [],
   "source": [
    "vertex_spheres = []\n",
    "for v in mesh.vertices():\n",
    "    v_coords = mesh.vertex_coordinates(v)\n",
    "    sphere = Sphere(v_coords, 0.2)\n",
    "    vs, fs = sphere.to_vertices_and_faces(u=12, v=12)\n",
    "    sphere_mesh = Mesh.from_vertices_and_faces(vs, fs)\n",
    "    vertex_spheres.append(sphere_mesh)"
   ]
  },
  {
   "cell_type": "code",
   "execution_count": 56,
   "metadata": {},
   "outputs": [],
   "source": [
    "spheres_mesh = meshes_join(vertex_spheres)\n",
    "torus_and_spheres = meshes_join([spheres_mesh, mesh])"
   ]
  },
  {
   "cell_type": "code",
   "execution_count": 57,
   "metadata": {},
   "outputs": [
    {
     "data": {
      "application/vnd.jupyter.widget-view+json": {
       "model_id": "b03bbde47ab746fd82ef8cdf50e3ed86",
       "version_major": 2,
       "version_minor": 0
      },
      "text/plain": [
       "VBox(children=(Figure(camera=PerspectiveCamera(fov=46.0, position=(0.0, 0.0, 2.0), quaternion=(0.0, 0.0, 0.0, …"
      ]
     },
     "metadata": {},
     "output_type": "display_data"
    },
    {
     "data": {
      "application/vnd.jupyter.widget-view+json": {
       "model_id": "0d27addd850c4efdaa821458d807ec66",
       "version_major": 2,
       "version_minor": 0
      },
      "text/plain": [
       "Mesh(color=array('white', dtype='<U5'), line_material=ShaderMaterial(), material=ShaderMaterial(side='DoubleSi…"
      ]
     },
     "metadata": {},
     "output_type": "display_data"
    }
   ],
   "source": [
    "draw_compas_mesh(torus_and_spheres)"
   ]
  },
  {
   "cell_type": "code",
   "execution_count": 24,
   "metadata": {},
   "outputs": [
    {
     "name": "stdout",
     "output_type": "stream",
     "text": [
      "\n",
      "================================================================================\n",
      "Mesh summary\n",
      "================================================================================\n",
      "\n",
      "- name: Mesh\n",
      "- vertices: 64\n",
      "- edges: 128\n",
      "- faces: 64\n",
      "- vertex degree: 4/4\n",
      "- face degree: 4/4\n",
      "\n",
      "================================================================================\n",
      "\n"
     ]
    }
   ],
   "source": [
    "mesh.summary()"
   ]
  },
  {
   "cell_type": "code",
   "execution_count": 28,
   "metadata": {},
   "outputs": [
    {
     "name": "stdout",
     "output_type": "stream",
     "text": [
      "\n",
      "================================================================================\n",
      "Mesh summary\n",
      "================================================================================\n",
      "\n",
      "- name: Mesh\n",
      "- vertices: 134\n",
      "- edges: 276\n",
      "- faces: 144\n",
      "- vertex degree: 4/12\n",
      "- face degree: 3/4\n",
      "\n",
      "================================================================================\n",
      "\n"
     ]
    }
   ],
   "source": [
    "sphere_mesh.summary()"
   ]
  },
  {
   "cell_type": "code",
   "execution_count": 29,
   "metadata": {},
   "outputs": [],
   "source": [
    "from utils import whiteboard as wb"
   ]
  },
  {
   "cell_type": "code",
   "execution_count": 34,
   "metadata": {},
   "outputs": [],
   "source": [
    "from compas.geometry import Circle"
   ]
  },
  {
   "cell_type": "code",
   "execution_count": 58,
   "metadata": {},
   "outputs": [],
   "source": [
    "edge_cylinders = []\n",
    "for e in mesh.edges():\n",
    "    e_mid = mesh.edge_midpoint(e[0], e[1])\n",
    "    e_dir = mesh.edge_direction(e[0], e[1])\n",
    "    e_len = mesh.edge_length(e[0], e[1])\n",
    "    circle = Circle((e_mid, e_dir), 0.1)\n",
    "    cylinder = Cylinder(circle, e_len)\n",
    "    vs, fs = cylinder.to_vertices_and_faces(u=16)\n",
    "    cyl_mesh = Mesh.from_vertices_and_faces(vs, fs)\n",
    "    edge_cylinders.append(cyl_mesh)"
   ]
  },
  {
   "cell_type": "code",
   "execution_count": 59,
   "metadata": {},
   "outputs": [
    {
     "data": {
      "application/vnd.jupyter.widget-view+json": {
       "model_id": "06e3b617dc6c482fab12986a24ecf2eb",
       "version_major": 2,
       "version_minor": 0
      },
      "text/plain": [
       "VBox(children=(Figure(camera=PerspectiveCamera(fov=46.0, position=(0.0, 0.0, 2.0), quaternion=(0.0, 0.0, 0.0, …"
      ]
     },
     "metadata": {},
     "output_type": "display_data"
    },
    {
     "data": {
      "application/vnd.jupyter.widget-view+json": {
       "model_id": "caaf0586a7094f04a771c0fe2dab3f36",
       "version_major": 2,
       "version_minor": 0
      },
      "text/plain": [
       "Mesh(color=array('white', dtype='<U5'), line_material=ShaderMaterial(), material=ShaderMaterial(side='DoubleSi…"
      ]
     },
     "metadata": {},
     "output_type": "display_data"
    }
   ],
   "source": [
    "all_cylinders = meshes_join(edge_cylinders)\n",
    "draw_compas_mesh(all_cylinders)"
   ]
  },
  {
   "cell_type": "code",
   "execution_count": 32,
   "metadata": {},
   "outputs": [],
   "source": [
    "mesh.edge_direction?"
   ]
  },
  {
   "cell_type": "code",
   "execution_count": 33,
   "metadata": {},
   "outputs": [],
   "source": [
    "mesh.edge_vector?"
   ]
  },
  {
   "cell_type": "code",
   "execution_count": 44,
   "metadata": {},
   "outputs": [],
   "source": [
    "all_cylinders.set_faces_attribute(all_cylinders.faces(), 'material', 'matt')\n",
    "spheres_mesh.set_faces_attribute(spheres_mesh.faces(), 'material', 'shiny')"
   ]
  },
  {
   "cell_type": "code",
   "execution_count": 60,
   "metadata": {},
   "outputs": [],
   "source": [
    "atomium = meshes_join([all_cylinders, spheres_mesh, mesh])"
   ]
  },
  {
   "cell_type": "code",
   "execution_count": 61,
   "metadata": {},
   "outputs": [
    {
     "data": {
      "application/vnd.jupyter.widget-view+json": {
       "model_id": "13047d2d335c4caa8f1068d65645dc7c",
       "version_major": 2,
       "version_minor": 0
      },
      "text/plain": [
       "VBox(children=(Figure(camera=PerspectiveCamera(fov=46.0, position=(0.0, 0.0, 2.0), quaternion=(0.0, 0.0, 0.0, …"
      ]
     },
     "metadata": {},
     "output_type": "display_data"
    },
    {
     "data": {
      "application/vnd.jupyter.widget-view+json": {
       "model_id": "6da7bf4de05246ce8a78c471da8c78f9",
       "version_major": 2,
       "version_minor": 0
      },
      "text/plain": [
       "Mesh(color=array('white', dtype='<U5'), line_material=ShaderMaterial(), material=ShaderMaterial(side='DoubleSi…"
      ]
     },
     "metadata": {},
     "output_type": "display_data"
    }
   ],
   "source": [
    "draw_compas_mesh(atomium)"
   ]
  },
  {
   "cell_type": "code",
   "execution_count": null,
   "metadata": {},
   "outputs": [],
   "source": []
  }
 ],
 "metadata": {
  "kernelspec": {
   "display_name": "Python 3",
   "language": "python",
   "name": "python3"
  },
  "language_info": {
   "codemirror_mode": {
    "name": "ipython",
    "version": 3
   },
   "file_extension": ".py",
   "mimetype": "text/x-python",
   "name": "python",
   "nbconvert_exporter": "python",
   "pygments_lexer": "ipython3",
   "version": "3.6.7"
  }
 },
 "nbformat": 4,
 "nbformat_minor": 2
}
