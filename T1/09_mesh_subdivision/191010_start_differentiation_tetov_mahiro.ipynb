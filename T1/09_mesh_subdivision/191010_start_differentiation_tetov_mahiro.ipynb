{
 "cells": [
  {
   "cell_type": "code",
   "execution_count": 170,
   "metadata": {},
   "outputs": [
    {
     "data": {
      "application/vnd.jupyter.widget-view+json": {
       "model_id": "9669cb8276824ac387504c7dc865cf2d",
       "version_major": 2,
       "version_minor": 0
      },
      "text/plain": [
       "VBox(children=(Figure(camera=PerspectiveCamera(fov=46.0, position=(0.0, 0.0, 2.0), quaternion=(0.0, 0.0, 0.0, …"
      ]
     },
     "metadata": {},
     "output_type": "display_data"
    },
    {
     "data": {
      "application/vnd.jupyter.widget-view+json": {
       "model_id": "aba58092f6b249c9b4486b81d10f80e8",
       "version_major": 2,
       "version_minor": 0
      },
      "text/plain": [
       "Mesh(color=array('white', dtype='<U5'), line_material=ShaderMaterial(), material=ShaderMaterial(side='DoubleSi…"
      ]
     },
     "metadata": {},
     "output_type": "display_data"
    }
   ],
   "source": [
    "from compas.datastructures import Mesh\n",
    "from compas.datastructures import subdivision as sd\n",
    "from compas_plotters import MeshPlotter\n",
    "from compas.geometry import midpoint_point_point\n",
    "import random\n",
    "from statistics import mean\n",
    "\n",
    "from utilities import draw_compas_mesh, export_obj_by_attribute\n",
    "import mysubdivision as msd\n",
    "\n",
    "def plot(m):\n",
    "    plotter = MeshPlotter(m)\n",
    "    plotter.draw_edges()\n",
    "    plotter.draw_faces()\n",
    "    plotter.show()\n",
    "\n",
    "mesh = Mesh.from_json('ring_1.json')\n",
    "\n",
    "draw_compas_mesh(mesh,size=10)"
   ]
  },
  {
   "cell_type": "code",
   "execution_count": null,
   "metadata": {},
   "outputs": [],
   "source": []
  },
  {
   "cell_type": "code",
   "execution_count": 171,
   "metadata": {},
   "outputs": [],
   "source": [
    "# Start subdividing\n",
    "\n",
    "mesh = Mesh.from_json('ring_1.json')\n",
    "\n",
    "def subdivide_by_ftype(mesh):\n",
    "    fkeys = list(mesh.faces())\n",
    "    for fk in fkeys:\n",
    "        location = mesh.get_face_attribute(fk, 'location')\n",
    "    \n",
    "        # OUTER RING ANTON\n",
    "        if location == 'outer':\n",
    "            new_keys = msd.taper_face(mesh, fk, height=.5, ratio=0.1)\n",
    "            \n",
    "            areas = []\n",
    "            \n",
    "            for new_key in new_keys:\n",
    "                areas.append(mesh.face_area(new_key))\n",
    "                \n",
    "            for new_key in new_keys:\n",
    "                if mesh.face_area(new_key) > mean(areas):\n",
    "                    mesh.set_face_attribute(new_key, 'location', 'hub')\n",
    "                else:\n",
    "                    mesh.set_face_attribute(new_key, 'location', 'circulation')\n",
    "        \n",
    "        elif location == 'circulation':\n",
    "            new_keys = msd.pyramid_face(mesh, fk, height=1)\n",
    "            \n",
    "            if random.random()<0.2:\n",
    "                mesh.set_faces_attribute(new_keys, 'location', 'depot')\n",
    "            else:\n",
    "                mesh.set_faces_attribute(new_keys, 'location', 'conduits')\n",
    "        \n",
    "        elif location == 'conduits':\n",
    "            new_key = msd.segment_face(mesh, fk, num=10, start_index=0)\n",
    "            mesh.set_face_attribute(new_key, 'location', 'line')\n",
    "             \n",
    "        elif location == 'hub':\n",
    "            new_keys = msd.segment_face(mesh, fk, num=10, start_index=0)\n",
    "            mesh.set_faces_attribute(new_keys, 'location', 'part_hub')\n",
    "        \n",
    "        elif location == 'construction':\n",
    "            pass\n",
    "        \n",
    "        # INNER RING MAHIRO\n",
    "        elif location == 'inner':\n",
    "            pass\n",
    "        \n",
    "        elif location == 'mountain':\n",
    "            pass\n",
    "        \n",
    "        elif location == 'lake':\n",
    "            pass\n",
    "               \n",
    "        # SIDES\n",
    "        elif location == 'sides':\n",
    "            pass\n",
    "        \n",
    "        else:\n",
    "            pass\n",
    "\n",
    "for _ in range(5):\n",
    "    subdivide_by_ftype(mesh)"
   ]
  },
  {
   "cell_type": "code",
   "execution_count": 172,
   "metadata": {},
   "outputs": [
    {
     "data": {
      "application/vnd.jupyter.widget-view+json": {
       "model_id": "0b84494229274867b44cf9ccf4ab09df",
       "version_major": 2,
       "version_minor": 0
      },
      "text/plain": [
       "VBox(children=(Figure(camera=PerspectiveCamera(fov=46.0, position=(0.0, 0.0, 2.0), quaternion=(0.0, 0.0, 0.0, …"
      ]
     },
     "metadata": {},
     "output_type": "display_data"
    }
   ],
   "source": [
    "draw_compas_mesh(mesh)\n",
    "\n",
    "export_obj_by_attribute('outer.obj', mesh, 'location')"
   ]
  },
  {
   "cell_type": "code",
   "execution_count": null,
   "metadata": {},
   "outputs": [],
   "source": []
  }
 ],
 "metadata": {
  "kernelspec": {
   "display_name": "Python 3",
   "language": "python",
   "name": "python3"
  },
  "language_info": {
   "codemirror_mode": {
    "name": "ipython",
    "version": 3
   },
   "file_extension": ".py",
   "mimetype": "text/x-python",
   "name": "python",
   "nbconvert_exporter": "python",
   "pygments_lexer": "ipython3",
   "version": "3.6.7"
  }
 },
 "nbformat": 4,
 "nbformat_minor": 4
}
