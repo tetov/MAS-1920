{
 "cells": [
  {
   "cell_type": "code",
   "execution_count": 2,
   "metadata": {},
   "outputs": [
    {
     "data": {
      "application/vnd.jupyter.widget-view+json": {
       "model_id": "90961281e7ab4ae0a4cad1b3b00ed0ae",
       "version_major": 2,
       "version_minor": 0
      },
      "text/plain": [
       "VBox(children=(Figure(camera=PerspectiveCamera(fov=46.0, position=(0.0, 0.0, 2.0), quaternion=(0.0, 0.0, 0.0, …"
      ]
     },
     "metadata": {},
     "output_type": "display_data"
    },
    {
     "data": {
      "application/vnd.jupyter.widget-view+json": {
       "model_id": "3f4fb53eca3546138311d13c52a15055",
       "version_major": 2,
       "version_minor": 0
      },
      "text/plain": [
       "Mesh(color=array('white', dtype='<U5'), line_material=ShaderMaterial(), material=ShaderMaterial(side='DoubleSi…"
      ]
     },
     "metadata": {},
     "output_type": "display_data"
    }
   ],
   "source": [
    "from compas.datastructures import Mesh\n",
    "from compas.datastructures import subdivision as sd\n",
    "from compas_plotters import MeshPlotter\n",
    "from compas.geometry import midpoint_point_point, Vector\n",
    "import random\n",
    "from statistics import mean\n",
    "\n",
    "from noise import pnoise1, snoise2, pnoise2, perlin\n",
    "from utilities import draw_compas_mesh, export_obj_by_attribute\n",
    "import mysubdivision as msd\n",
    "\n",
    "\n",
    "def plot(m):\n",
    "    plotter = MeshPlotter(m)\n",
    "    plotter.draw_edges()\n",
    "    plotter.draw_faces()\n",
    "    plotter.show()\n",
    "\n",
    "mesh = Mesh.from_json('ring_1.json')\n",
    "\n",
    "draw_compas_mesh(mesh,size=10)"
   ]
  },
  {
   "cell_type": "code",
   "execution_count": 3,
   "metadata": {},
   "outputs": [],
   "source": [
    "def noises(bigY, bigX, octaves=1):\n",
    "    freq = 16.0 * octaves\n",
    "\n",
    "    noise_list = []\n",
    "\n",
    "    for y in range(bigY):\n",
    "        noise_list.append(pnoise2(-y / freq, y / freq, octaves))\n",
    "    \n",
    "    return noise_list"
   ]
  },
  {
   "cell_type": "code",
   "execution_count": 8,
   "metadata": {},
   "outputs": [
    {
     "name": "stdout",
     "output_type": "stream",
     "text": [
      "[651.2481062569183, 597.9700109537937, 544.5345299689353, 490.15774517586016, 433.5835178948209, 374.5187330118337, 315.4617215157581, 262.6136139040011, 225.05270996025433, 212.2052828470149, 230.44921870263957, 280.15662396987517, 354.48153268280805, 440.72908949875705, 524.3397915388247, 594.6684172824607, 651.2481062569183, 702.2779780249016, 739.0654871282051, 747.2582495338027, 716.7835498566969, 646.2320870215962, 545.0321918522388, 432.18380018623645, 331.60155903442035, 265.41233803086436, 247.38907999256224, 278.81561311473064, 348.40670702110117, 436.6092452420818, 523.0412802794416, 594.5583705108893, 651.2481062569183, 705.9411675545543, 764.693257787734, 822.2241959330745, 868.9126946190157, 896.5234346869416, 902.0220135881851, 888.6575546324264, 864.3458044052503, 838.24922357544, 817.0095107750666, 802.1613002417579, 789.810709407003, 772.7955783608091, 744.4985193576233, 702.6395929356402, 651.2481062569183, 596.5629136082883, 538.1873182250089, 483.5664465425883, 447.2841885361172, 443.9493293413833, 481.1734246238004, 555.260279713373, 651.2481062569183, 747.2359328004635, 821.3227878900362, 858.5468704708406, 855.2120239777194, 818.9297659712482, 764.3088688856025, 705.9333243087734, 651.2481062569183, 599.9784756740833, 559.872756014762, 538.7621551064735, 539.3113347304851, 558.6407376973431, 589.5956726452644, 623.1723982565228, 651.2481062569183, 668.7518810414691, 674.6578641668764, 671.577392869307, 664.1732672392733, 657.0151972485382, 652.7388183181733, 651.3620651251707, 651.2481062569183, 651.1262604810917, 649.3730283152046, 642.1865980050848, 624.6222746332669, 592.9422808316539, 547.1391226488113, 492.32268423717943, 438.1504081085863, 396.33487039524687, 377.0644410156933, 385.64351661773145, 420.6583569124658, 474.50493829075475, 536.312229963235, 596.4410543369984, 651.2481062569183, 702.5138056906535, 742.4312747496214, 762.0868360756435]\n",
      "[0.0, -0.06250430643558502, -0.125193253159523, -0.18898651003837585, -0.2553577423095703, -0.3246508240699768, -0.39393478631973267, -0.45593464374542236, -0.5, -0.515072226524353, -0.49366897344589233, -0.43535369634628296, -0.3481578826904297, -0.24697476625442505, -0.14888513088226318, -0.06637763977050781, 0.0, 0.059866756200790405, 0.10302478820085526, 0.11263629794120789, 0.07688426971435547, -0.005884647369384766, -0.12460941076278687, -0.2569998502731323, -0.375, -0.4526512622833252, -0.473795622587204, -0.436926931142807, -0.3552846908569336, -0.2518080472946167, -0.15040850639343262, -0.06650674343109131, 0.0, 0.06416430324316025, 0.133090540766716, 0.20058415830135345, 0.2553577423095703, 0.28774985671043396, 0.2942006289958954, 0.2785218358039856, 0.25, 0.21938425302505493, 0.19446644186973572, 0.17704695463180542, 0.16255760192871094, 0.14259594678878784, 0.10939866304397583, 0.06029099225997925, 0.0, -0.06415507197380066, -0.13263961672782898, -0.196719229221344, -0.23928451538085938, -0.24319687485694885, -0.19952665269374847, -0.1126101166009903, 0.0, 0.1126101166009903, 0.19952665269374847, 0.24319685995578766, 0.23928451538085938, 0.196719229221344, 0.1326395869255066, 0.06415510177612305, 0.0, -0.06014803424477577, -0.10719889402389526, -0.13196523487567902, -0.13132095336914062, -0.1086442619562149, -0.0723288357257843, -0.03293760120868683, 0.0, 0.02053491771221161, 0.027463644742965698, 0.0238497257232666, 0.015163421630859375, 0.006765782833099365, 0.0017488598823547363, 0.00013369321823120117, -0.0, -0.00014294590801000595, -0.002199786715209484, -0.010630697011947632, -0.031236648559570312, -0.06840269267559052, -0.12213762104511261, -0.1864466667175293, -0.25, -0.2990567684173584, -0.3216642737388611, -0.3115995526313782, -0.2705211639404297, -0.20734992623329163, -0.13483941555023193, -0.06429803371429443, 0.0, 0.060143422335386276, 0.10697343200445175, 0.1300327628850937]\n"
     ]
    }
   ],
   "source": [
    "# Start subdividing\n",
    "\n",
    "# weird setup\n",
    "inner_faces = []\n",
    "for inner_face in mesh.faces_where({'location': 'inner'}):\n",
    "    inner_faces.append(inner_face)\n",
    "    \n",
    "bigY = len(inner_faces)\n",
    "\n",
    "noise_values = noises(bigY, 3)\n",
    "min_noise = min(noise_values)\n",
    "max_noise = max(noise_values)\n",
    "\n",
    "print(remap_noise[0:100])\n",
    "print(noise_values[0:100])\n",
    "    "
   ]
  },
  {
   "cell_type": "code",
   "execution_count": 22,
   "metadata": {},
   "outputs": [],
   "source": [
    "mesh = Mesh.from_json('ring_1.json')\n",
    "\n",
    "\n",
    "def move_vertices(mesh, fk, height):\n",
    "    vertices = mesh.face_vertices(fk)\n",
    "    vertices_coord = []\n",
    "    \n",
    "    face_location = mesh.face_centroid(fk)\n",
    "\n",
    "    direction = Vector.from_start_end(face_location, [0,0,0])\n",
    "    direction.unitize()\n",
    "    direction = [i * height * pnoise1(fk, 2) for i in direction]\n",
    "\n",
    "    for v in vertices:\n",
    "        vertices_coord = mesh.vertex_coordinates(v)\n",
    "\n",
    "        new_loc = Vector.sum_vectors([direction, vertices_coord])\n",
    "\n",
    "        mesh.vertex[v]['x'] = new_loc[0]\n",
    "        mesh.vertex[v]['y'] = new_loc[1]\n",
    "        mesh.vertex[v]['z'] = new_loc[2]\n",
    "        \n",
    "\n",
    "\n",
    "def subdivide_by_ftype(mesh):\n",
    "    fkeys = list(mesh.faces())\n",
    "    for fk in fkeys:\n",
    "        location = mesh.get_face_attribute(fk, 'location')\n",
    "    \n",
    "        # OUTER RING MAHIRO \n",
    "        if location == 'outer':\n",
    "            new_keys = msd.taper_face(mesh, fk, height=.5, ratio=0.1)\n",
    "            \n",
    "            areas = []\n",
    "            \n",
    "            for new_key in new_keys:\n",
    "                areas.append(mesh.face_area(new_key))\n",
    "                \n",
    "            for new_key in new_keys:\n",
    "                if mesh.face_area(new_key) > mean(areas):\n",
    "                    mesh.set_face_attribute(new_key, 'location', 'hub')\n",
    "                else:\n",
    "                    mesh.set_face_attribute(new_key, 'location', 'circulation')\n",
    "        \n",
    "        elif location == 'circulation':\n",
    "            new_keys = msd.pyramid_face(mesh, fk, height=1)\n",
    "            \n",
    "            if random.random()<0.2:\n",
    "                mesh.set_faces_attribute(new_keys, 'location', 'depot')\n",
    "            else:\n",
    "                mesh.set_faces_attribute(new_keys, 'location', 'conduits')\n",
    "        \n",
    "        elif location == 'conduits':\n",
    "            new_key = msd.segment_face(mesh, fk, num=10, start_index=0)\n",
    "            mesh.set_face_attribute(new_key, 'location', 'line')\n",
    "             \n",
    "        elif location == 'hub':\n",
    "            new_keys = msd.segment_face(mesh, fk, num=10, start_index=0)\n",
    "            mesh.set_faces_attribute(new_keys, 'location', 'part_hub')\n",
    "        \n",
    "        elif location == 'construction':\n",
    "            pass\n",
    "        \n",
    "        # INNER RING TETOV\n",
    "        elif location == 'inner':\n",
    "            mesh.set_face_attribute(fk, 'location', 'inner_segmented')\n",
    "            \n",
    "        elif location == 'inner_segmented':\n",
    "            \n",
    "            noise_value = perlin.randint(-1,1)\n",
    "            \n",
    "            new_keys = msd.pyramid_face(mesh, fk, height=noise_value)\n",
    "            \n",
    "            new_value = (((noise_value - min_noise) * (bigY) - 0) / (max_noise - min_noise)) + 0\n",
    "            \n",
    "            if fk > noise_value:\n",
    "                mesh.set_faces_attribute(new_keys, 'location', 'mountain_region')\n",
    "            else:\n",
    "                mesh.set_faces_attribute(new_keys, 'location', 'sea')\n",
    "        \n",
    "        elif location == 'mountain_region':\n",
    "            move_vertices(mesh, fk, 2.5)\n",
    "            \n",
    "            new_keys = msd.segment_face(mesh, fk, num=4)\n",
    "            \n",
    "            mesh.set_face_attribute(new_keys, 'location', 'mountain')\n",
    "            \n",
    "        elif location == 'mountain':\n",
    "            new_keys = msd.taper_face(mesh, fk, height=pnoise1(fk, 2)*10, ratio=perlin.randint(0,1))\n",
    "            mesh.set_faces_attribute(new_keys, 'location', 'peaks')\n",
    "        \n",
    "        elif location == 'sea':\n",
    "            move_vertices(mesh, fk, -2.5)\n",
    "            \n",
    "            mesh.set_face_attribute(fk, 'location', 'sea_grave')\n",
    "\n",
    "        elif location == 'sea_grave':\n",
    "            new_keys = msd.taper_face(mesh, fk, height=pnoise1(fk, 2)*-10, ratio=perlin.randint(0,1))\n",
    "            mesh.set_faces_attribute(new_keys, 'location', 'sea_bottom')\n",
    "             \n",
    "        # SIDES\n",
    "        elif location == 'sides':\n",
    "            pass\n",
    "        \n",
    "        else:\n",
    "            pass\n",
    "Mesh.face_vertices\n",
    "for _ in range(5):\n",
    "    subdivide_by_ftype(mesh)"
   ]
  },
  {
   "cell_type": "code",
   "execution_count": 23,
   "metadata": {},
   "outputs": [
    {
     "data": {
      "application/vnd.jupyter.widget-view+json": {
       "model_id": "60c5d7c2929b44a1a2b1f0bf38aa2061",
       "version_major": 2,
       "version_minor": 0
      },
      "text/plain": [
       "VBox(children=(Figure(camera=PerspectiveCamera(fov=46.0, position=(0.0, 0.0, 2.0), quaternion=(0.0, 0.0, 0.0, …"
      ]
     },
     "metadata": {},
     "output_type": "display_data"
    }
   ],
   "source": [
    "draw_compas_mesh(mesh)\n",
    "\n",
    "export_obj_by_attribute('inner.obj', mesh, 'location')"
   ]
  },
  {
   "cell_type": "code",
   "execution_count": null,
   "metadata": {},
   "outputs": [],
   "source": []
  }
 ],
 "metadata": {
  "kernelspec": {
   "display_name": "Python 3",
   "language": "python",
   "name": "python3"
  },
  "language_info": {
   "codemirror_mode": {
    "name": "ipython",
    "version": 3
   },
   "file_extension": ".py",
   "mimetype": "text/x-python",
   "name": "python",
   "nbconvert_exporter": "python",
   "pygments_lexer": "ipython3",
   "version": "3.6.9"
  }
 },
 "nbformat": 4,
 "nbformat_minor": 4
}
