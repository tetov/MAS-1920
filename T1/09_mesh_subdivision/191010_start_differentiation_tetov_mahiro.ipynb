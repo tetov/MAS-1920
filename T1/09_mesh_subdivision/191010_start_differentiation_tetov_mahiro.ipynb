{
 "cells": [
  {
   "cell_type": "code",
   "execution_count": 6,
   "metadata": {},
   "outputs": [
    {
     "data": {
      "application/vnd.jupyter.widget-view+json": {
       "model_id": "c0b34281ca084207992b10b9a313c1aa",
       "version_major": 2,
       "version_minor": 0
      },
      "text/plain": [
       "VBox(children=(Figure(camera=PerspectiveCamera(fov=46.0, position=(0.0, 0.0, 2.0), quaternion=(0.0, 0.0, 0.0, …"
      ]
     },
     "metadata": {},
     "output_type": "display_data"
    },
    {
     "data": {
      "application/vnd.jupyter.widget-view+json": {
       "model_id": "f837109171504aad990678eb90f7991a",
       "version_major": 2,
       "version_minor": 0
      },
      "text/plain": [
       "Mesh(color=array('white', dtype='<U5'), line_material=ShaderMaterial(), material=ShaderMaterial(side='DoubleSi…"
      ]
     },
     "metadata": {},
     "output_type": "display_data"
    }
   ],
   "source": [
    "from compas.datastructures import Mesh\n",
    "from compas.datastructures import subdivision as sd\n",
    "from compas_plotters import MeshPlotter\n",
    "from compas.geometry import midpoint_point_point, Vector, distance_point_point, convex_hull\n",
    "from shapes import Sphere, Cylinder\n",
    "import random\n",
    "from statistics import mean\n",
    "\n",
    "\n",
    "from noise import pnoise1, snoise2, pnoise2, perlin\n",
    "from utilities import draw_compas_mesh, export_obj_by_attribute\n",
    "import mysubdivision as msd\n",
    "\n",
    "\n",
    "def plot(m):\n",
    "    plotter = MeshPlotter(m)\n",
    "    plotter.draw_edges()\n",
    "    plotter.draw_faces()\n",
    "    plotter.show()\n",
    "\n",
    "mesh = Mesh.from_json('ring_1.json')\n",
    "\n",
    "draw_compas_mesh(mesh,size=35"
   ]
  },
  {
   "cell_type": "code",
   "execution_count": 2,
   "metadata": {},
   "outputs": [],
   "source": [
    "def noises(bigY, bigX, octaves=1):\n",
    "    freq = 16.0 * octaves\n",
    "\n",
    "    noise_list = []\n",
    "\n",
    "    for y in range(bigY):\n",
    "        noise_list.append(pnoise2(-y / freq, y / freq, octaves))\n",
    "    \n",
    "    return noise_list"
   ]
  },
  {
   "cell_type": "code",
   "execution_count": 3,
   "metadata": {},
   "outputs": [
    {
     "name": "stdout",
     "output_type": "stream",
     "text": [
      "[0.0, -0.06250430643558502, -0.125193253159523, -0.18898651003837585, -0.2553577423095703, -0.3246508240699768, -0.39393478631973267, -0.45593464374542236, -0.5, -0.515072226524353, -0.49366897344589233, -0.43535369634628296, -0.3481578826904297, -0.24697476625442505, -0.14888513088226318, -0.06637763977050781, 0.0, 0.059866756200790405, 0.10302478820085526, 0.11263629794120789, 0.07688426971435547, -0.005884647369384766, -0.12460941076278687, -0.2569998502731323, -0.375, -0.4526512622833252, -0.473795622587204, -0.436926931142807, -0.3552846908569336, -0.2518080472946167, -0.15040850639343262, -0.06650674343109131, 0.0, 0.06416430324316025, 0.133090540766716, 0.20058415830135345, 0.2553577423095703, 0.28774985671043396, 0.2942006289958954, 0.2785218358039856, 0.25, 0.21938425302505493, 0.19446644186973572, 0.17704695463180542, 0.16255760192871094, 0.14259594678878784, 0.10939866304397583, 0.06029099225997925, 0.0, -0.06415507197380066, -0.13263961672782898, -0.196719229221344, -0.23928451538085938, -0.24319687485694885, -0.19952665269374847, -0.1126101166009903, 0.0, 0.1126101166009903, 0.19952665269374847, 0.24319685995578766, 0.23928451538085938, 0.196719229221344, 0.1326395869255066, 0.06415510177612305, 0.0, -0.06014803424477577, -0.10719889402389526, -0.13196523487567902, -0.13132095336914062, -0.1086442619562149, -0.0723288357257843, -0.03293760120868683, 0.0, 0.02053491771221161, 0.027463644742965698, 0.0238497257232666, 0.015163421630859375, 0.006765782833099365, 0.0017488598823547363, 0.00013369321823120117, -0.0, -0.00014294590801000595, -0.002199786715209484, -0.010630697011947632, -0.031236648559570312, -0.06840269267559052, -0.12213762104511261, -0.1864466667175293, -0.25, -0.2990567684173584, -0.3216642737388611, -0.3115995526313782, -0.2705211639404297, -0.20734992623329163, -0.13483941555023193, -0.06429803371429443, 0.0, 0.060143422335386276, 0.10697343200445175, 0.1300327628850937]\n"
     ]
    }
   ],
   "source": [
    "# Start subdividing\n",
    "\n",
    "# weird setup\n",
    "inner_faces = []\n",
    "for inner_face in mesh.faces_where({'location': 'inner'}):\n",
    "    inner_faces.append(inner_face)\n",
    "    \n",
    "bigY = len(inner_faces)\n",
    "\n",
    "noise_values = noises(bigY, 3)\n",
    "min_noise = min(noise_values)\n",
    "max_noise = max(noise_values)\n",
    "\n",
    "print(noise_values[0:100])\n",
    "    "
   ]
  },
  {
   "cell_type": "code",
   "execution_count": 7,
   "metadata": {},
   "outputs": [],
   "source": [
    "mesh = Mesh.from_json('ring_1.json')\n",
    "\n",
    "\n",
    "def move_vertices(mesh, fk, height):\n",
    "    vertices = mesh.face_vertices(fk)\n",
    "    vertices_coord = []\n",
    "    \n",
    "    face_location = mesh.face_centroid(fk)\n",
    "\n",
    "    if height < 0:\n",
    "        direction = Vector.from_start_end([0,0,0], face_location )\n",
    "    else:\n",
    "        direction = Vector.from_start_end(face_location, [0,0,0])\n",
    "    direction.unitize()\n",
    "    direction = [i * abs(height) * abs(pnoise1(fk, 2)) for i in direction]\n",
    "\n",
    "    for v in vertices:\n",
    "        vertices_coord = mesh.vertex_coordinates(v)\n",
    "\n",
    "        new_loc = Vector.sum_vectors([direction, vertices_coord])\n",
    "\n",
    "        mesh.vertex[v]['x'] = new_loc[0]\n",
    "        mesh.vertex[v]['y'] = new_loc[1]\n",
    "        mesh.vertex[v]['z'] = new_loc[2]\n",
    "        \n",
    "\n",
    "\n",
    "def subdivide_by_ftype(mesh):\n",
    "    fkeys = list(mesh.faces())\n",
    "    for fk in fkeys:\n",
    "        location = mesh.get_face_attribute(fk, 'location')\n",
    "    \n",
    "        # OUTER RING MAHIRO \n",
    "        if location == 'outer':\n",
    "            \n",
    "            new_keys = msd.taper_face(mesh, fk, height=random.randint(0,2), ratio=0.05)\n",
    "            areas = [] \n",
    "            for new_key in new_keys:\n",
    "                ind = new_keys.index(new_key)\n",
    "                areas.append(mesh.face_area(new_key))\n",
    "                if mesh.face_area(new_key) > mean(areas):\n",
    "                    mesh.set_face_attribute(new_key, 'location', 'hub')\n",
    "                else:\n",
    "                    mesh.set_face_attribute(new_key, 'location', 'circulation')\n",
    "        \n",
    "        elif location == 'circulation':\n",
    "              # these are side volume\n",
    "            new_keys = msd.taper_face(mesh, fk, height=1.5, ratio=0.01)\n",
    "            if random.randint(0, 3) < 1:\n",
    "                mesh.set_faces_attribute(new_keys, 'location', 'depot')\n",
    "            else:\n",
    "                mesh.set_faces_attribute(new_keys, 'location', 'conduits')\n",
    "        \n",
    "        elif location == 'conduits':\n",
    "            new_keys = msd.segment_face(mesh, fk, num=3, start_index=0)\n",
    "            for new_key in new_keys:\n",
    "                ind = new_keys.index(new_key)\n",
    "                if ind > 2:\n",
    "                    mesh.set_face_attribute(new_key, 'location', 'line')\n",
    "                else:\n",
    "                    mesh.set_face_attribute(new_key, 'location', 'line2')\n",
    "                    \n",
    "                    \n",
    "        elif location == 'hub':\n",
    "            new_keys = msd.segment_face(mesh, fk, num=5, start_index=0)\n",
    "            for new_key in new_keys:\n",
    "                ind = new_keys.index(new_key)\n",
    "                if ind == 0:\n",
    "                    mesh.set_face_attribute(new_key, 'location', 'part_hub_0')\n",
    "                elif ind == 1:\n",
    "                    mesh.set_face_attribute(new_key, 'location', 'part_hub_1')\n",
    "                elif ind == 2:\n",
    "                    mesh.set_face_attribute(new_key, 'location', 'part_hub_2')\n",
    "                else:\n",
    "                    mesh.set_face_attribute(new_key, 'location', 'None')\n",
    "        \n",
    "        elif location == 'part_hub_0':\n",
    "            new_keys = msd.taper_face(mesh, fk, height=1, ratio=0.02)\n",
    "            mesh.set_faces_attribute(new_keys, 'location', 'part_hub_00')\n",
    "        elif location == \"part_hub_1\":\n",
    "            new_keys = msd.taper_face(mesh, fk, height=1, ratio=0.03)\n",
    "            mesh.set_faces_attribute(new_keys, 'location', 'part_hub_11')\n",
    "        elif location == \"part_hub_2\":\n",
    "            new_keys = msd.taper_face(mesh, fk, height=1, ratio=0.02)\n",
    "            mesh.set_faces_attribute(new_keys, 'location', 'part_hub_22')\n",
    "        \n",
    "        elif location == 'line':\n",
    "            pass\n",
    "        \n",
    "        elif location == 'line2':\n",
    "            new_keys = msd.taper_face(mesh, fk, height=1, ratio=0.02)\n",
    "            for new_key in new_keys:\n",
    "                ind = new_keys.index(new_key)\n",
    "                if ind % 2 == 0:\n",
    "                    mesh.set_face_attribute(new_key, 'location', 'line2_0')\n",
    "                elif ind % 2 == 1:\n",
    "                    mesh.set_face_attribute(new_key, 'location', 'line2_1')        \n",
    "        \n",
    "        \n",
    "        elif location == 'inner':\n",
    "            new_keys = []\n",
    "            temp_keys = msd.segment_face(mesh, fk, num=4, start_index=0)\n",
    "            \n",
    "            for key in temp_keys:\n",
    "                new_key = msd.segment_face(mesh, key, num=4, start_index=0)\n",
    "                new_keys.append(new_key)\n",
    "            \n",
    "            new_keys += temp_keys\n",
    "            \n",
    "            mesh.set_faces_attribute(temp_keys, 'location', 'inner_segmented')\n",
    "            \n",
    "        elif location == 'inner_segmented':\n",
    "            \n",
    "            noise_value = random.randint(0, bigY)\n",
    "            \n",
    "            new_keys = msd.pyramid_face(mesh, fk, height=random.random()+1)\n",
    "                       \n",
    "            if fk > noise_value:\n",
    "                mesh.set_faces_attribute(new_keys, 'location', 'mountain_region')\n",
    "            else:\n",
    "                mesh.set_faces_attribute(new_keys, 'location', 'sea')\n",
    "        \n",
    "        elif location == 'mountain_region':\n",
    "            move_vertices(mesh, fk, 8)\n",
    "            \n",
    "            new_keys = msd.segment_face(mesh, fk, num=4)\n",
    "            \n",
    "            mesh.set_face_attribute(new_keys, 'location', 'mountain')\n",
    "            \n",
    "        elif location == 'mountain':\n",
    "            new_keys = msd.taper_face(mesh, fk, height=pnoise1(fk, 2)*10, ratio=perlin.randint(0,1))\n",
    "            mesh.set_faces_attribute(new_keys, 'location', 'peaks')\n",
    "            \n",
    "        elif location == 'sea':\n",
    "            new_keys = msd.taper_face(mesh, fk, height=pnoise1(fk, 2)*-10, ratio=perlin.randint(0,1))\n",
    "            mesh.set_faces_attribute(new_keys, 'location', 'sea_grave')\n",
    "             \n",
    "        \n",
    "        elif location == 'sea_grave':\n",
    "            move_vertices(mesh, fk, -8)\n",
    "            \n",
    "            mesh.set_face_attribute(fk, 'location', 'sea_bottom')\n",
    "\n",
    "        # SIDES\n",
    "        elif location == 'sides':\n",
    "            pass\n",
    "        \n",
    "        else:\n",
    "            pass\n",
    "        \n",
    "for _ in range(12):\n",
    "    subdivide_by_ftype(mesh)"
   ]
  },
  {
   "cell_type": "code",
   "execution_count": 10,
   "metadata": {},
   "outputs": [
    {
     "data": {
      "application/vnd.jupyter.widget-view+json": {
       "model_id": "890626934f714089bf1c27762ddcddb4",
       "version_major": 2,
       "version_minor": 0
      },
      "text/plain": [
       "VBox(children=(Figure(camera=PerspectiveCamera(fov=46.0, position=(0.0, 0.0, 2.0), quaternion=(0.0, 0.0, 0.0, …"
      ]
     },
     "metadata": {},
     "output_type": "display_data"
    }
   ],
   "source": [
    "draw_compas_mesh(mesh, size=35)\n",
    "\n",
    "export_obj_by_attribute('inner.obj', mesh, 'location')"
   ]
  },
  {
   "cell_type": "code",
   "execution_count": null,
   "metadata": {},
   "outputs": [],
   "source": [
    "radius = 5\n",
    "origin = (0., 0., 0.)\n",
    "count = 0\n",
    "points = []\n",
    "\n",
    "# generate 200 random points inside a sphere with given radius\n",
    "while count < 200:\n",
    "    x = (random.random() - 0.5) * radius * 2\n",
    "    y = (random.random() - 0.5) * radius * 2\n",
    "    z = (random.random() - 0.5) * radius * 2\n",
    "    pt = x, y, z\n",
    "    if distance_point_point(origin, pt) <= radius:\n",
    "        points.append(pt)\n",
    "        count += 1\n",
    "\n",
    "# calculate the faces that define the convex hull\n",
    "faces =  convex_hull(points)\n",
    "\n",
    "# create a mesh from these\n",
    "mesh2 = Mesh.from_vertices_and_faces(points, faces)\n",
    "\n",
    "# remove unreferenced vertices (inside of hull)\n",
    "vkeys = list(mesh2.vertices())\n",
    "for v in vkeys:\n",
    "    if mesh2.vertex_degree(v)==0:\n",
    "        del mesh2.vertex[v]\n",
    "        \n",
    "mesh3 = sd.mesh_subdivide_catmullclark(mesh2)\n",
    "        \n",
    "draw_compas_mesh(mesh3)\n",
    "mesh3.to_obj('sun.obj')"
   ]
  },
  {
   "cell_type": "code",
   "execution_count": null,
   "metadata": {},
   "outputs": [],
   "source": []
  }
 ],
 "metadata": {
  "kernelspec": {
   "display_name": "Python 3",
   "language": "python",
   "name": "python3"
  },
  "language_info": {
   "codemirror_mode": {
    "name": "ipython",
    "version": 3
   },
   "file_extension": ".py",
   "mimetype": "text/x-python",
   "name": "python",
   "nbconvert_exporter": "python",
   "pygments_lexer": "ipython3",
   "version": "3.6.9"
  }
 },
 "nbformat": 4,
 "nbformat_minor": 4
}
