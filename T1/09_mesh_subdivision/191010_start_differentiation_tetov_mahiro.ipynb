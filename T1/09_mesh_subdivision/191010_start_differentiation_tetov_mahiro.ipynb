{
 "cells": [
  {
   "cell_type": "code",
   "execution_count": 74,
   "metadata": {},
   "outputs": [
    {
     "data": {
      "application/vnd.jupyter.widget-view+json": {
       "model_id": "ff935d755dea47eda2711d9884f0ffa5",
       "version_major": 2,
       "version_minor": 0
      },
      "text/plain": [
       "VBox(children=(Figure(camera=PerspectiveCamera(fov=46.0, position=(0.0, 0.0, 2.0), quaternion=(0.0, 0.0, 0.0, …"
      ]
     },
     "metadata": {},
     "output_type": "display_data"
    },
    {
     "data": {
      "application/vnd.jupyter.widget-view+json": {
       "model_id": "8a02c3a73c324fbeb05bb917fc000f63",
       "version_major": 2,
       "version_minor": 0
      },
      "text/plain": [
       "Mesh(color=array('white', dtype='<U5'), line_material=ShaderMaterial(), material=ShaderMaterial(side='DoubleSi…"
      ]
     },
     "metadata": {},
     "output_type": "display_data"
    }
   ],
   "source": [
    "from compas.datastructures import Mesh\n",
    "from compas.datastructures import subdivision as sd\n",
    "from compas_plotters import MeshPlotter\n",
    "from compas.geometry import midpoint_point_point, Vector\n",
    "import random\n",
    "from statistics import mean\n",
    "\n",
    "from noise import pnoise1, snoise2\n",
    "from utilities import draw_compas_mesh, export_obj_by_attribute\n",
    "import mysubdivision as msd\n",
    "\n",
    "\n",
    "def plot(m):\n",
    "    plotter = MeshPlotter(m)\n",
    "    plotter.draw_edges()\n",
    "    plotter.draw_faces()\n",
    "    plotter.show()\n",
    "\n",
    "mesh = Mesh.from_json('ring_1.json')\n",
    "\n",
    "draw_compas_mesh(mesh,size=10)"
   ]
  },
  {
   "cell_type": "code",
   "execution_count": 75,
   "metadata": {},
   "outputs": [],
   "source": [
    "def noises(bigY, bigX, octaves=1):\n",
    "    freq = 16.0 * octaves\n",
    "\n",
    "    noise_list = []\n",
    "\n",
    "    for y in range(bigY):\n",
    "        for x in range(bigX):\n",
    "            noise_list.append(pnoise2(x / freq, y / freq, octaves))\n",
    "    \n",
    "    return noise_list"
   ]
  },
  {
   "cell_type": "code",
   "execution_count": 76,
   "metadata": {},
   "outputs": [
    {
     "name": "stdout",
     "output_type": "stream",
     "text": [
      "[0.0, 0.06028175354003906, 0.10894775390625, 0.1387310028076172, 0.146484375, 0.1324939727783203, 0.09979248046875, 0.05347251892089844, 0.0, -0.05347251892089844, -0.09979248046875, -0.1324939727783203, -0.146484375, -0.1387310028076172, -0.10894775390625, -0.06028175354003906, 0.0, 0.06444096565246582, 0.1370391845703125, 0.21798062324523926, 0.3017578125, 0.3800022602081299, 0.4438018798828125, 0.4855034351348877, 0.5, 0.4855034351348877, 0.4438018798828125, 0.3800022602081299, 0.3017578125, 0.21798062324523926, 0.1370391845703125, 0.06444096565246582, 0.0, -0.06236135959625244, -0.12299346923828125, -0.17835581302642822, -0.22412109375, -0.2562481164932251, -0.27179718017578125, -0.26948797702789307, -0.25, -0.21601545810699463, -0.17200469970703125, -0.12375414371490479, -0.07763671875, -0.039624810218811035, -0.01404571533203125, -0.002079606056213379, 0.0, 0.0, 0.0, 0.0, 0.0, 0.0, 0.0, 0.0, 0.0, 0.0, 0.0, 0.0, 0.0, 0.0, 0.0, 0.0, 0.0, -0.002079606056213379, -0.01404571533203125, -0.039624810218811035, -0.07763671875, -0.12375414371490479, -0.17200469970703125, -0.21601545810699463, -0.25, -0.26948797702789307, -0.27179718017578125, -0.2562481164932251, -0.22412109375, -0.17835581302642822, -0.12299346923828125, -0.06236135959625244, 0.0, 0.06236135959625244, 0.12299346923828125, 0.17835581302642822, 0.22412109375, 0.2562481164932251, 0.27179718017578125, 0.26948797702789307, 0.25, 0.21601545810699463, 0.17200469970703125, 0.12375414371490479, 0.07763671875, 0.039624810218811035, 0.01404571533203125, 0.002079606056213379, 0.0, -0.002079606056213379, -0.01404571533203125, -0.039624810218811035]\n"
     ]
    }
   ],
   "source": [
    "# Start subdividing\n",
    "\n",
    "# weird setup\n",
    "inner_faces = []\n",
    "for inner_face in mesh.faces_where({'location': 'inner'}):\n",
    "    inner_faces.append(inner_face)\n",
    "    \n",
    "bigY = int(len(inner_faces) * .8)\n",
    "bigX = len(inner_faces) - bigY\n",
    "\n",
    "noise_values = noises(bigY, bigX)\n",
    "\n",
    "print(noise_values[0:100])\n",
    "    "
   ]
  },
  {
   "cell_type": "code",
   "execution_count": 77,
   "metadata": {},
   "outputs": [],
   "source": [
    "mesh = Mesh.from_json('ring_1.json')\n",
    "\n",
    "def subdivide_by_ftype(mesh):\n",
    "    fkeys = list(mesh.faces())\n",
    "    for fk in fkeys:\n",
    "        location = mesh.get_face_attribute(fk, 'location')\n",
    "    \n",
    "        # OUTER RING MAHIRO \n",
    "        if location == 'outer':\n",
    "            new_keys = msd.taper_face(mesh, fk, height=.5, ratio=0.1)\n",
    "            \n",
    "            areas = []\n",
    "            \n",
    "            for new_key in new_keys:\n",
    "                areas.append(mesh.face_area(new_key))\n",
    "                \n",
    "            for new_key in new_keys:\n",
    "                if mesh.face_area(new_key) > mean(areas):\n",
    "                    mesh.set_face_attribute(new_key, 'location', 'hub')\n",
    "                else:\n",
    "                    mesh.set_face_attribute(new_key, 'location', 'circulation')\n",
    "        \n",
    "        elif location == 'circulation':\n",
    "            new_keys = msd.pyramid_face(mesh, fk, height=1)\n",
    "            \n",
    "            if random.random()<0.2:\n",
    "                mesh.set_faces_attribute(new_keys, 'location', 'depot')\n",
    "            else:\n",
    "                mesh.set_faces_attribute(new_keys, 'location', 'conduits')\n",
    "        \n",
    "        elif location == 'conduits':\n",
    "            new_key = msd.segment_face(mesh, fk, num=10, start_index=0)\n",
    "            mesh.set_face_attribute(new_key, 'location', 'line')\n",
    "             \n",
    "        elif location == 'hub':\n",
    "            new_keys = msd.segment_face(mesh, fk, num=10, start_index=0)\n",
    "            mesh.set_faces_attribute(new_keys, 'location', 'part_hub')\n",
    "        \n",
    "        elif location == 'construction':\n",
    "            pass\n",
    "        \n",
    "        # INNER RING TETOV\n",
    "        elif location == 'inner':\n",
    "            \n",
    "            noise_value = noise_values.pop()\n",
    "            \n",
    "            new_keys = msd.pyramid_face(mesh, fk, height=noise_value)\n",
    "            \n",
    "            if fk > noise_value:\n",
    "                mesh.set_faces_attribute(new_keys, 'location', 'mountain_region')\n",
    "            else:\n",
    "                mesh.set_faces_attribute(new_keys, 'location', 'sea')\n",
    "        \n",
    "        elif location == 'mountain_region':\n",
    "            \n",
    "            mount_vertices = mesh.face_vertices(fk)\n",
    "            mount_vertices_coord = []\n",
    "            for v in mount_vertices:\n",
    "                mount_vertices_coord = mesh.vertex_coordinates(v)\n",
    "            \n",
    "            face_location = mesh.face_centroid(fk)\n",
    "            \n",
    "            direction = Vector.from_start_end(face_location, [0,0,0])\n",
    "            direction.unitize()\n",
    "            direction = [i * .3 * pnoise1(fk, 2) for i in direction]\n",
    "\n",
    "            \n",
    "            for v in mount_vertices:\n",
    "                mount_vertices_coord = mesh.vertex_coordinates(v)\n",
    "                \n",
    "                new_loc = Vector.sum_vectors([direction, mount_vertices_coord])\n",
    "            \n",
    "                mesh.vertex[v]['x'] = new_loc[0]\n",
    "                mesh.vertex[v]['y'] = new_loc[1]\n",
    "                mesh.vertex[v]['z'] = new_loc[2]\n",
    "            \n",
    "            mesh.set_face_attribute(fk, 'location', 'mountain')\n",
    "            \n",
    "        elif location == 'mountain':\n",
    "            pass\n",
    "        \n",
    "        elif location == 'sea':\n",
    "            pass\n",
    "               \n",
    "        # SIDES\n",
    "        elif location == 'sides':\n",
    "            pass\n",
    "        \n",
    "        else:\n",
    "            pass\n",
    "Mesh.face_vertices\n",
    "for _ in range(5):\n",
    "    subdivide_by_ftype(mesh)"
   ]
  },
  {
   "cell_type": "code",
   "execution_count": 78,
   "metadata": {},
   "outputs": [
    {
     "data": {
      "application/vnd.jupyter.widget-view+json": {
       "model_id": "b300f53673424a69a8b2e56b4def53a6",
       "version_major": 2,
       "version_minor": 0
      },
      "text/plain": [
       "VBox(children=(Figure(camera=PerspectiveCamera(fov=46.0, position=(0.0, 0.0, 2.0), quaternion=(0.0, 0.0, 0.0, …"
      ]
     },
     "metadata": {},
     "output_type": "display_data"
    }
   ],
   "source": [
    "draw_compas_mesh(mesh)\n",
    "\n",
    "export_obj_by_attribute('inner.obj', mesh, 'location')"
   ]
  },
  {
   "cell_type": "code",
   "execution_count": null,
   "metadata": {},
   "outputs": [],
   "source": []
  }
 ],
 "metadata": {
  "kernelspec": {
   "display_name": "Python 3",
   "language": "python",
   "name": "python3"
  },
  "language_info": {
   "codemirror_mode": {
    "name": "ipython",
    "version": 3
   },
   "file_extension": ".py",
   "mimetype": "text/x-python",
   "name": "python",
   "nbconvert_exporter": "python",
   "pygments_lexer": "ipython3",
   "version": "3.6.9"
  }
 },
 "nbformat": 4,
 "nbformat_minor": 4
}
