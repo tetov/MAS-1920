{
 "cells": [
  {
   "cell_type": "code",
   "execution_count": 28,
   "metadata": {},
   "outputs": [],
   "source": [
    "from compas.datastructures import Mesh\n",
    "import compas.datastructures.mesh.subdivision as sd\n",
    "from compas.geometry import Circle\n",
    "import ipyvolume as ipv\n",
    "from utilities import draw_compas_mesh\n",
    "from shapes import *\n",
    "from compas.datastructures import meshes_join"
   ]
  },
  {
   "cell_type": "code",
   "execution_count": 29,
   "metadata": {},
   "outputs": [],
   "source": [
    "origin = (0,0,0)\n",
    "normal = (0,0,1)\n",
    "plane = (origin, normal)\n",
    "r_axis = 3\n",
    "r_pipe = 1.5\n",
    "\n",
    "torus = Torus(plane, r_axis, r_pipe)\n"
   ]
  },
  {
   "cell_type": "code",
   "execution_count": 58,
   "metadata": {},
   "outputs": [
    {
     "data": {
      "application/vnd.jupyter.widget-view+json": {
       "model_id": "15d8c61ae26a4f2f8de162169af19d61",
       "version_major": 2,
       "version_minor": 0
      },
      "text/plain": [
       "VBox(children=(Figure(camera=PerspectiveCamera(fov=46.0, position=(0.0, 0.0, 2.0), quaternion=(0.0, 0.0, 0.0, …"
      ]
     },
     "metadata": {},
     "output_type": "display_data"
    },
    {
     "data": {
      "application/vnd.jupyter.widget-view+json": {
       "model_id": "ca2668d254bb41218d07f8dadcfa4bf8",
       "version_major": 2,
       "version_minor": 0
      },
      "text/plain": [
       "Mesh(color=array('white', dtype='<U5'), line_material=ShaderMaterial(), material=ShaderMaterial(side='DoubleSi…"
      ]
     },
     "metadata": {},
     "output_type": "display_data"
    }
   ],
   "source": [
    "vs, fs = torus.to_vertices_and_faces(u = 8, v = 8)\n",
    "\n",
    "mesh = Mesh.from_vertices_and_faces(vs, fs)\n",
    "\n",
    "#subd = sd.mesh_subdivide_catmullclark(mesh, k=1)\n",
    "\n",
    "#draw_compas_mesh(subd)\n",
    "\n",
    "draw_compas_mesh(mesh)\n",
    "#mesh = subd\n"
   ]
  },
  {
   "cell_type": "code",
   "execution_count": 59,
   "metadata": {},
   "outputs": [
    {
     "data": {
      "application/vnd.jupyter.widget-view+json": {
       "model_id": "f31292524be54a95934c86831da0afd4",
       "version_major": 2,
       "version_minor": 0
      },
      "text/plain": [
       "VBox(children=(Figure(camera=PerspectiveCamera(fov=46.0, position=(0.0, 0.0, 2.0), quaternion=(0.0, 0.0, 0.0, …"
      ]
     },
     "metadata": {},
     "output_type": "display_data"
    },
    {
     "data": {
      "application/vnd.jupyter.widget-view+json": {
       "model_id": "b3e640d9998d4af6a0d7d80df041efc9",
       "version_major": 2,
       "version_minor": 0
      },
      "text/plain": [
       "Mesh(color=array('white', dtype='<U5'), line_material=ShaderMaterial(), material=ShaderMaterial(side='DoubleSi…"
      ]
     },
     "metadata": {},
     "output_type": "display_data"
    }
   ],
   "source": [
    "\n",
    "r_spheres = .3\n",
    "\n",
    "vertex_spheres = []\n",
    "\n",
    "for v in mesh.vertices():\n",
    "    v_coord = mesh.vertex_coordinates(v)\n",
    "    sphere = Sphere(v_coord, r_spheres)\n",
    "    vs, fs = sphere.to_vertices_and_faces(u = 8, v = 8)\n",
    "    sphere_mesh = Mesh.from_vertices_and_faces(vs, fs)\n",
    "    vertex_spheres.append(sphere_mesh)\n",
    "\n",
    "    \n",
    "spheres_mesh = meshes_join(vertex_spheres)   \n",
    "\n",
    "draw_compas_mesh(spheres_mesh)\n",
    "\n",
    "\n"
   ]
  },
  {
   "cell_type": "code",
   "execution_count": 60,
   "metadata": {},
   "outputs": [
    {
     "data": {
      "application/vnd.jupyter.widget-view+json": {
       "model_id": "fdfc6a65d16a441eb23fc91e1a5764c4",
       "version_major": 2,
       "version_minor": 0
      },
      "text/plain": [
       "VBox(children=(Figure(camera=PerspectiveCamera(fov=46.0, position=(0.0, 0.0, 2.0), quaternion=(0.0, 0.0, 0.0, …"
      ]
     },
     "metadata": {},
     "output_type": "display_data"
    },
    {
     "data": {
      "application/vnd.jupyter.widget-view+json": {
       "model_id": "5f62908896654810a1e23f92bec50a20",
       "version_major": 2,
       "version_minor": 0
      },
      "text/plain": [
       "Mesh(color=array('white', dtype='<U5'), line_material=ShaderMaterial(), material=ShaderMaterial(side='DoubleSi…"
      ]
     },
     "metadata": {},
     "output_type": "display_data"
    }
   ],
   "source": [
    "torus_w_spheres_mesh = meshes_join(vertex_spheres + [mesh])\n",
    "\n",
    "draw_compas_mesh(torus_w_spheres_mesh)"
   ]
  },
  {
   "cell_type": "code",
   "execution_count": 61,
   "metadata": {},
   "outputs": [],
   "source": [
    "edge_cylinders = []\n",
    "\n",
    "for e in mesh.edges():\n",
    "    edge_midpt = mesh.edge_midpoint(*e)\n",
    "    edge_dir = mesh.edge_direction(*e)\n",
    "    circle = Circle((edge_midpt, edge_dir), .1)\n",
    "    \n",
    "    edge_len = mesh.edge_length(*e)\n",
    "    \n",
    "    cylinder = Cylinder(circle, edge_len)\n",
    "    \n",
    "     \n",
    "    vs, fs = cylinder.to_vertices_and_faces(u = 8, v = 8)\n",
    "    cyl_mesh = Mesh.from_vertices_and_faces(vs, fs)\n",
    "    edge_cylinders.append(cyl_mesh)\n",
    "   \n",
    "   \n",
    "\n",
    "all_cylinders = meshes_join(edge_cylinders+vertex_spheres)"
   ]
  },
  {
   "cell_type": "code",
   "execution_count": 62,
   "metadata": {},
   "outputs": [
    {
     "data": {
      "application/vnd.jupyter.widget-view+json": {
       "model_id": "88ea0b29fc194bf7a2aef3a5336e7d55",
       "version_major": 2,
       "version_minor": 0
      },
      "text/plain": [
       "VBox(children=(Figure(camera=PerspectiveCamera(fov=46.0, position=(0.0, 0.0, 2.0), quaternion=(0.0, 0.0, 0.0, …"
      ]
     },
     "metadata": {},
     "output_type": "display_data"
    },
    {
     "data": {
      "application/vnd.jupyter.widget-view+json": {
       "model_id": "5d649f8e3b0046c19ac44f5f7ea2fd52",
       "version_major": 2,
       "version_minor": 0
      },
      "text/plain": [
       "Mesh(color=array('white', dtype='<U5'), line_material=ShaderMaterial(), material=ShaderMaterial(side='DoubleSi…"
      ]
     },
     "metadata": {},
     "output_type": "display_data"
    }
   ],
   "source": [
    "all_cylinders.set_faces_attribute(all_cylinders.faces(), 'material', 'matte')\n",
    "spheres_mesh.set_faces_attribute(spheres_mesh.faces(), 'material', 'glossy')\n",
    "\n",
    "atomium = meshes_join([all_cylinders, spheres_mesh])\n",
    "\n",
    "\n",
    "atomium.get_face_attribute(atomium.get_any_face(), 'material')\n",
    "\n",
    "atomium_w_walls = meshes_join([atomium, mesh])\n",
    "\n",
    "draw_compas_mesh(atomium_w_walls)\n"
   ]
  },
  {
   "cell_type": "code",
   "execution_count": null,
   "metadata": {},
   "outputs": [],
   "source": []
  }
 ],
 "metadata": {
  "kernelspec": {
   "display_name": "Python 3",
   "language": "python",
   "name": "python3"
  },
  "language_info": {
   "codemirror_mode": {
    "name": "ipython",
    "version": 3
   },
   "file_extension": ".py",
   "mimetype": "text/x-python",
   "name": "python",
   "nbconvert_exporter": "python",
   "pygments_lexer": "ipython3",
   "version": "3.6.7"
  }
 },
 "nbformat": 4,
 "nbformat_minor": 4
}
