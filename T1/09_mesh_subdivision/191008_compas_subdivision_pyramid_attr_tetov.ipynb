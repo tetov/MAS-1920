{
 "cells": [
  {
   "cell_type": "code",
   "execution_count": 1,
   "metadata": {},
   "outputs": [],
   "source": [
    "from compas.datastructures import Mesh\n",
    "from compas.datastructures import subdivision as sd\n",
    "import ipyvolume as ipv\n",
    "from utilities import draw_compas_mesh\n",
    "from compas.geometry import Vector"
   ]
  },
  {
   "cell_type": "code",
   "execution_count": 2,
   "metadata": {},
   "outputs": [
    {
     "name": "stdout",
     "output_type": "stream",
     "text": [
      "\n",
      "================================================================================\n",
      "Mesh summary\n",
      "================================================================================\n",
      "\n",
      "- name: Mesh\n",
      "- vertices: 20\n",
      "- edges: 30\n",
      "- faces: 12\n",
      "- vertex degree: 3/3\n",
      "- face degree: 5/5\n",
      "\n",
      "================================================================================\n",
      "\n"
     ]
    }
   ],
   "source": [
    "mesh = Mesh.from_polyhedron(12)\n",
    "mesh.summary()"
   ]
  },
  {
   "cell_type": "code",
   "execution_count": 3,
   "metadata": {},
   "outputs": [],
   "source": [
    "mesh2 = sd.mesh_subdivide_tri(mesh)\n",
    "mesh3 = sd.trimesh_subdivide_loop(mesh2)"
   ]
  },
  {
   "cell_type": "code",
   "execution_count": 4,
   "metadata": {},
   "outputs": [
    {
     "data": {
      "application/vnd.jupyter.widget-view+json": {
       "model_id": "e8fefe6771e34ca1b80884663189370d",
       "version_major": 2,
       "version_minor": 0
      },
      "text/plain": [
       "VBox(children=(Figure(camera=PerspectiveCamera(fov=46.0, position=(0.0, 0.0, 2.0), quaternion=(0.0, 0.0, 0.0, …"
      ]
     },
     "metadata": {},
     "output_type": "display_data"
    },
    {
     "data": {
      "application/vnd.jupyter.widget-view+json": {
       "model_id": "0b8f16a7f6be41db9f5250cd9a51abda",
       "version_major": 2,
       "version_minor": 0
      },
      "text/plain": [
       "Mesh(color=array('white', dtype='<U5'), line_material=ShaderMaterial(), material=ShaderMaterial(side='DoubleSi…"
      ]
     },
     "metadata": {},
     "output_type": "display_data"
    }
   ],
   "source": [
    "draw_compas_mesh(mesh3)"
   ]
  },
  {
   "cell_type": "code",
   "execution_count": 5,
   "metadata": {},
   "outputs": [
    {
     "data": {
      "application/vnd.jupyter.widget-view+json": {
       "model_id": "eceb4b97f5a24741aa5ace4449a47e4d",
       "version_major": 2,
       "version_minor": 0
      },
      "text/plain": [
       "VBox(children=(Figure(camera=PerspectiveCamera(fov=46.0, position=(0.0, 0.0, 2.0), quaternion=(0.0, 0.0, 0.0, …"
      ]
     },
     "metadata": {},
     "output_type": "display_data"
    },
    {
     "data": {
      "application/vnd.jupyter.widget-view+json": {
       "model_id": "54f285c3748d41d3a11efde888b20262",
       "version_major": 2,
       "version_minor": 0
      },
      "text/plain": [
       "Mesh(color=array('white', dtype='<U5'), line_material=ShaderMaterial(), material=ShaderMaterial(side='DoubleSi…"
      ]
     },
     "metadata": {},
     "output_type": "display_data"
    }
   ],
   "source": [
    "subd = mesh3.copy()\n",
    "height = .2\n",
    "\n",
    "for fkey in mesh3.faces():\n",
    "    centroid = mesh3.face_centroid(fkey)\n",
    "    centroid_vector = Vector(*centroid)\n",
    "    normal = mesh3.face_normal(fkey)\n",
    "    normal_vector = Vector(*normal)\n",
    "    new_vertex = centroid_vector + normal_vector * height\n",
    "    subd.insert_vertex(fkey, xyz=new_vertex)\n",
    "\n",
    "draw_compas_mesh(subd)"
   ]
  },
  {
   "cell_type": "code",
   "execution_count": 6,
   "metadata": {},
   "outputs": [],
   "source": [
    "def mesh_subdivide_pyramid(mesh, k=1, height=1.0):\n",
    "    \"\"\"Subdivide a mesh using insertion of vertex at centroid + height * face normal.\n",
    "\n",
    "    Parameters\n",
    "    ----------\n",
    "    mesh : Mesh\n",
    "        The mesh object that will be subdivided.\n",
    "    k : int, optional\n",
    "        The number of levels of subdivision. Default is ``1``.\n",
    "    height : float, optional\n",
    "        The distance of the new vertex to the face.\n",
    "\n",
    "    Returns\n",
    "    -------\n",
    "    Mesh\n",
    "        A new subdivided mesh.\n",
    "    \"\"\"\n",
    "    if k != 1:\n",
    "        raise NotImplementedError\n",
    "    \n",
    "    subd = mesh.copy()\n",
    " \n",
    "    for fkey in mesh.faces():\n",
    "        centroid = mesh.face_centroid(fkey)\n",
    "        centroid_vector = Vector(*centroid)\n",
    "        normal = mesh.face_normal(fkey)\n",
    "        normal_vector = Vector(*normal)\n",
    "        new_vertex = centroid_vector + normal_vector * height\n",
    "        subd.insert_vertex(fkey, xyz=new_vertex)\n",
    "        \n",
    "    return subd\n",
    "\n",
    "\n"
   ]
  },
  {
   "cell_type": "code",
   "execution_count": 7,
   "metadata": {},
   "outputs": [
    {
     "data": {
      "application/vnd.jupyter.widget-view+json": {
       "model_id": "83abb5b135764fa8ac300998fa76643b",
       "version_major": 2,
       "version_minor": 0
      },
      "text/plain": [
       "VBox(children=(Figure(camera=PerspectiveCamera(fov=46.0, position=(0.0, 0.0, 2.0), quaternion=(0.0, 0.0, 0.0, …"
      ]
     },
     "metadata": {},
     "output_type": "display_data"
    },
    {
     "data": {
      "application/vnd.jupyter.widget-view+json": {
       "model_id": "4d0f74ea239e4a9f9217c0c61286bc12",
       "version_major": 2,
       "version_minor": 0
      },
      "text/plain": [
       "Mesh(color=array('white', dtype='<U5'), line_material=ShaderMaterial(), material=ShaderMaterial(side='DoubleSi…"
      ]
     },
     "metadata": {},
     "output_type": "display_data"
    }
   ],
   "source": [
    "our_mesh = mesh_subdivide_pyramid(mesh3, height=0.3)\n",
    "draw_compas_mesh(our_mesh)"
   ]
  },
  {
   "cell_type": "code",
   "execution_count": 8,
   "metadata": {},
   "outputs": [],
   "source": [
    "def mesh_subdivide_tapered(mesh, k=1, height=1.0, ratio=0.5):\n",
    "    \"\"\"\n",
    "    \"\"\"\n",
    "    if ratio == int(1.):\n",
    "        return mesh_subdivide_pyramid(mesh, k, height)\n",
    "    \n",
    "    \n",
    "    #ubd = mesh.copy()\n",
    "    \n",
    "    for _ in range(k):\n",
    "    \n",
    "        subd = mesh.copy()\n",
    "        for fkey in mesh.faces():\n",
    "            centroid = mesh.face_centroid(fkey)\n",
    "            centroid_vector = Vector(*centroid)\n",
    "            normal = mesh.face_normal(fkey)\n",
    "            normal_vector = Vector(*normal)\n",
    "            normal_vector *= height\n",
    "\n",
    "            face_verts = mesh.face_vertices(fkey)\n",
    "            new_verts = []\n",
    "\n",
    "            for v in face_verts:\n",
    "                v_coords = mesh.vertex_coordinates(v)\n",
    "                v_vector = Vector(*v_coords)\n",
    "\n",
    "                vert_to_center = centroid_vector - v_vector\n",
    "                vert_to_center *= ratio\n",
    "                new_vertex = v_vector + vert_to_center + normal_vector\n",
    "                x, y, z = new_vertex\n",
    "                new_verts.append(subd.add_vertex(x=x, y=y, z=z))\n",
    "\n",
    "            for i, v in enumerate(face_verts):\n",
    "                next_v = face_verts[(i+1) % len(face_verts)]\n",
    "                new_v = new_verts[i]\n",
    "                next_new_v = new_verts[(i+1) % len(face_verts)]\n",
    "                new_face_key = subd.add_face([v, next_v, next_new_v, new_v])\n",
    "                subd.set_face_attribute(new_face_key, 'material', 'frame')\n",
    "\n",
    "            top_face_key = subd.add_face(new_verts)\n",
    "            subd.set_face_attribute(top_face_key, 'material', 'glass')\n",
    "            del subd.face[fkey]\n",
    "        mesh = subd\n",
    "        \n",
    "    return subd\n",
    "            \n",
    " #"
   ]
  },
  {
   "cell_type": "code",
   "execution_count": 9,
   "metadata": {},
   "outputs": [],
   "source": [
    "mesh4 = sd.mesh_subdivide_catmullclark(mesh3)\n",
    "#tapered_mesh = mesh_subdivide_tapered(mesh2, k=5, height=0.3, ratio=.4)\n",
    "#draw_compas_mesh(tapered_mesh)\n",
    "\n",
    "\n",
    "# tapered_mesh.get_faces_attribute(tapered_mesh.faces(), 'material')"
   ]
  },
  {
   "cell_type": "code",
   "execution_count": 24,
   "metadata": {},
   "outputs": [
    {
     "name": "stdout",
     "output_type": "stream",
     "text": [
      "[[33, 0, 32], [32, 13, 96], [96, 20, 33], [32, 96, 33], [96, 13, 85], [85, 11, 86], [86, 20, 96], [85, 86, 96], [86, 11, 38], [38, 1, 39], [39, 20, 86], [38, 39, 86], [39, 1, 40], [40, 3, 50], [50, 20, 39], [40, 50, 39], [50, 3, 34], [34, 0, 33], [33, 20, 50], [34, 33, 50], [35, 0, 34], [34, 3, 51], [51, 21, 35], [34, 51, 35], [51, 3, 44], [44, 2, 45], [45, 21, 51], [44, 45, 51], [45, 2, 46], [46, 8, 73], [73, 21, 45], [46, 73, 45], [73, 8, 74], [74, 10, 81], [81, 21, 73], [74, 81, 73], [81, 10, 36], [36, 0, 35], [35, 21, 81], [36, 35, 81], [37, 0, 36], [36, 10, 82], [82, 22, 37], [36, 82, 37], [82, 10, 83], [83, 18, 116], [116, 22, 82], [83, 116, 82], [116, 18, 90], [90, 12, 91], [91, 22, 116], [90, 91, 116], [91, 12, 92], [92, 13, 97], [97, 22, 91], [92, 97, 91], [97, 13, 32], [32, 0, 37], [37, 22, 97], [32, 37, 97], [42, 1, 41], [41, 4, 53], [53, 23, 42], [41, 53, 42], [53, 4, 54], [54, 7, 69], [69, 23, 53], [54, 69, 53], [69, 7, 47], [47, 2, 48], [48, 23, 69], [47, 48, 69], [48, 2, 44], [44, 3, 52], [52, 23, 48], [44, 52, 48], [52, 3, 40], [40, 1, 42], [42, 23, 52], [40, 42, 52], [43, 1, 38], [38, 11, 87], [87, 24, 43], [38, 87, 43], [87, 11, 88], [88, 14, 99], [99, 24, 87], [88, 99, 87], [99, 14, 58], [58, 5, 59], [59, 24, 99], [58, 59, 99], [59, 5, 55], [55, 4, 56], [56, 24, 59], [55, 56, 59], [56, 4, 41], [41, 1, 43], [43, 24, 56], [41, 43, 56], [49, 2, 47], [47, 7, 70], [70, 25, 49], [47, 70, 49], [70, 7, 71], [71, 9, 77], [77, 25, 70], [71, 77, 70], [77, 9, 63], [63, 6, 64], [64, 25, 77], [63, 64, 77], [64, 6, 65], [65, 8, 75], [75, 25, 64], [65, 75, 64], [75, 8, 46], [46, 2, 49], [49, 25, 75], [46, 49, 75], [61, 5, 60], [60, 15, 103], [103, 26, 61], [60, 103, 61], [103, 15, 78], [78, 9, 79], [79, 26, 103], [78, 79, 103], [79, 9, 71], [71, 7, 72], [72, 26, 79], [71, 72, 79], [72, 7, 54], [54, 4, 57], [57, 26, 72], [54, 57, 72], [57, 4, 55], [55, 5, 61], [61, 26, 57], [55, 61, 57], [62, 5, 58], [58, 14, 100], [100, 27, 62], [58, 100, 62], [100, 14, 101], [101, 17, 112], [112, 27, 100], [101, 112, 100], [112, 17, 113], [113, 19, 119], [119, 27, 112], [113, 119, 112], [119, 19, 104], [104, 15, 105], [105, 27, 119], [104, 105, 119], [105, 15, 60], [60, 5, 62], [62, 27, 105], [60, 62, 105], [67, 6, 66], [66, 16, 107], [107, 28, 67], [66, 107, 67], [107, 16, 108], [108, 18, 117], [117, 28, 107], [108, 117, 107], [117, 18, 83], [83, 10, 84], [84, 28, 117], [83, 84, 117], [84, 10, 74], [74, 8, 76], [76, 28, 84], [74, 76, 84], [76, 8, 65], [65, 6, 67], [67, 28, 76], [65, 67, 76], [68, 6, 63], [63, 9, 80], [80, 29, 68], [63, 80, 68], [80, 9, 78], [78, 15, 106], [106, 29, 80], [78, 106, 80], [106, 15, 104], [104, 19, 120], [120, 29, 106], [104, 120, 106], [120, 19, 109], [109, 16, 110], [110, 29, 120], [109, 110, 120], [110, 16, 66], [66, 6, 68], [68, 29, 110], [66, 68, 110], [94, 12, 93], [93, 17, 114], [114, 30, 94], [93, 114, 94], [114, 17, 101], [101, 14, 102], [102, 30, 114], [101, 102, 114], [102, 14, 88], [88, 11, 89], [89, 30, 102], [88, 89, 102], [89, 11, 85], [85, 13, 98], [98, 30, 89], [85, 98, 89], [98, 13, 92], [92, 12, 94], [94, 30, 98], [92, 94, 98], [95, 12, 90], [90, 18, 118], [118, 31, 95], [90, 118, 95], [118, 18, 108], [108, 16, 111], [111, 31, 118], [108, 111, 118], [111, 16, 109], [109, 19, 121], [121, 31, 111], [109, 121, 111], [121, 19, 113], [113, 17, 115], [115, 31, 121], [113, 115, 121], [115, 17, 93], [93, 12, 95], [95, 31, 115], [93, 95, 115]]\n"
     ]
    },
    {
     "data": {
      "text/plain": [
       "\u001b[1;31mSignature:\u001b[0m \u001b[0msd\u001b[0m\u001b[1;33m.\u001b[0m\u001b[0mmesh_subdivide_doosabin\u001b[0m\u001b[1;33m(\u001b[0m\u001b[0mmesh\u001b[0m\u001b[1;33m,\u001b[0m \u001b[0mk\u001b[0m\u001b[1;33m=\u001b[0m\u001b[1;36m1\u001b[0m\u001b[1;33m,\u001b[0m \u001b[0mfixed\u001b[0m\u001b[1;33m=\u001b[0m\u001b[1;32mNone\u001b[0m\u001b[1;33m)\u001b[0m\u001b[1;33m\u001b[0m\u001b[1;33m\u001b[0m\u001b[0m\n",
       "\u001b[1;31mDocstring:\u001b[0m\n",
       "Subdivide a mesh following the doo-sabin scheme.\n",
       "\n",
       "Parameters\n",
       "----------\n",
       "mesh : Mesh\n",
       "    The mesh object that will be subdivided.\n",
       "k : int\n",
       "    Optional. The number of levels of subdivision. Default is ``1``.\n",
       "fixed : list\n",
       "    Optional. A list of fixed vertices. Default is ``None``.\n",
       "\n",
       "Returns\n",
       "-------\n",
       "Mesh\n",
       "    A new subdivided mesh.\n",
       "\u001b[1;31mFile:\u001b[0m      c:\\tools\\miniconda3\\envs\\mas1920t1\\lib\\site-packages\\compas\\datastructures\\mesh\\subdivision.py\n",
       "\u001b[1;31mType:\u001b[0m      function\n"
      ]
     },
     "metadata": {},
     "output_type": "display_data"
    }
   ],
   "source": [
    "face_verts_list = []\n",
    "\n",
    "mesh.faces()\n",
    "\n",
    "for f_vert in mesh3.faces():\n",
    "    face_verts_list.append(mesh3.face_vertices(f_vert))\n"
   ]
  },
  {
   "cell_type": "code",
   "execution_count": 42,
   "metadata": {},
   "outputs": [
    {
     "ename": "TypeError",
     "evalue": "'int' object is not subscriptable",
     "output_type": "error",
     "traceback": [
      "\u001b[1;31m---------------------------------------------------------------------------\u001b[0m",
      "\u001b[1;31mTypeError\u001b[0m                                 Traceback (most recent call last)",
      "\u001b[1;32m<ipython-input-42-e615ba1ff940>\u001b[0m in \u001b[0;36m<module>\u001b[1;34m\u001b[0m\n\u001b[1;32m----> 1\u001b[1;33m \u001b[0mfirst_vertices\u001b[0m \u001b[1;33m=\u001b[0m \u001b[1;33m[\u001b[0m\u001b[0mv\u001b[0m\u001b[1;33m[\u001b[0m\u001b[1;36m0\u001b[0m\u001b[1;33m]\u001b[0m \u001b[1;32mfor\u001b[0m \u001b[0mv\u001b[0m \u001b[1;32min\u001b[0m \u001b[0mface_verts_list\u001b[0m\u001b[1;33m[\u001b[0m\u001b[1;36m0\u001b[0m\u001b[1;33m]\u001b[0m\u001b[1;33m]\u001b[0m\u001b[1;33m\u001b[0m\u001b[1;33m\u001b[0m\u001b[0m\n\u001b[0m\u001b[0;32m      2\u001b[0m \u001b[1;33m\u001b[0m\u001b[0m\n\u001b[0;32m      3\u001b[0m \u001b[0mdosa\u001b[0m \u001b[1;33m=\u001b[0m \u001b[0msd\u001b[0m\u001b[1;33m.\u001b[0m\u001b[0mmesh_subdivide_doosabin\u001b[0m\u001b[1;33m(\u001b[0m\u001b[0mmesh3\u001b[0m\u001b[1;33m,\u001b[0m \u001b[0mk\u001b[0m\u001b[1;33m=\u001b[0m\u001b[1;36m5\u001b[0m\u001b[1;33m,\u001b[0m \u001b[0mfixed\u001b[0m\u001b[1;33m=\u001b[0m\u001b[0mmesh3\u001b[0m\u001b[1;33m.\u001b[0m\u001b[0mvertex_coordinates\u001b[0m\u001b[1;33m(\u001b[0m\u001b[0mfirst_vertices\u001b[0m\u001b[1;33m)\u001b[0m\u001b[1;33m)\u001b[0m\u001b[1;33m\u001b[0m\u001b[1;33m\u001b[0m\u001b[0m\n\u001b[0;32m      4\u001b[0m \u001b[0mdraw_compas_mesh\u001b[0m\u001b[1;33m(\u001b[0m\u001b[0mdosa\u001b[0m\u001b[1;33m)\u001b[0m\u001b[1;33m\u001b[0m\u001b[1;33m\u001b[0m\u001b[0m\n",
      "\u001b[1;32m<ipython-input-42-e615ba1ff940>\u001b[0m in \u001b[0;36m<listcomp>\u001b[1;34m(.0)\u001b[0m\n\u001b[1;32m----> 1\u001b[1;33m \u001b[0mfirst_vertices\u001b[0m \u001b[1;33m=\u001b[0m \u001b[1;33m[\u001b[0m\u001b[0mv\u001b[0m\u001b[1;33m[\u001b[0m\u001b[1;36m0\u001b[0m\u001b[1;33m]\u001b[0m \u001b[1;32mfor\u001b[0m \u001b[0mv\u001b[0m \u001b[1;32min\u001b[0m \u001b[0mface_verts_list\u001b[0m\u001b[1;33m[\u001b[0m\u001b[1;36m0\u001b[0m\u001b[1;33m]\u001b[0m\u001b[1;33m]\u001b[0m\u001b[1;33m\u001b[0m\u001b[1;33m\u001b[0m\u001b[0m\n\u001b[0m\u001b[0;32m      2\u001b[0m \u001b[1;33m\u001b[0m\u001b[0m\n\u001b[0;32m      3\u001b[0m \u001b[0mdosa\u001b[0m \u001b[1;33m=\u001b[0m \u001b[0msd\u001b[0m\u001b[1;33m.\u001b[0m\u001b[0mmesh_subdivide_doosabin\u001b[0m\u001b[1;33m(\u001b[0m\u001b[0mmesh3\u001b[0m\u001b[1;33m,\u001b[0m \u001b[0mk\u001b[0m\u001b[1;33m=\u001b[0m\u001b[1;36m5\u001b[0m\u001b[1;33m,\u001b[0m \u001b[0mfixed\u001b[0m\u001b[1;33m=\u001b[0m\u001b[0mmesh3\u001b[0m\u001b[1;33m.\u001b[0m\u001b[0mvertex_coordinates\u001b[0m\u001b[1;33m(\u001b[0m\u001b[0mfirst_vertices\u001b[0m\u001b[1;33m)\u001b[0m\u001b[1;33m)\u001b[0m\u001b[1;33m\u001b[0m\u001b[1;33m\u001b[0m\u001b[0m\n\u001b[0;32m      4\u001b[0m \u001b[0mdraw_compas_mesh\u001b[0m\u001b[1;33m(\u001b[0m\u001b[0mdosa\u001b[0m\u001b[1;33m)\u001b[0m\u001b[1;33m\u001b[0m\u001b[1;33m\u001b[0m\u001b[0m\n",
      "\u001b[1;31mTypeError\u001b[0m: 'int' object is not subscriptable"
     ]
    }
   ],
   "source": [
    "\n",
    "first_vertices = [v[0] for v in face_verts_list[0]]\n",
    "\n",
    "dosa = sd.mesh_subdivide_doosabin(mesh3, k=5, fixed=mesh3.vertex_coordinates(first_vertices))\n",
    "draw_compas_mesh(dosa)\n"
   ]
  },
  {
   "cell_type": "code",
   "execution_count": 10,
   "metadata": {},
   "outputs": [],
   "source": [
    "from utilities import export_obj_by_attribute\n",
    "#export_obj_by_attribute('spacestation.obj', tapered_mesh, 'material')"
   ]
  },
  {
   "cell_type": "code",
   "execution_count": null,
   "metadata": {},
   "outputs": [],
   "source": []
  }
 ],
 "metadata": {
  "kernelspec": {
   "display_name": "Python 3",
   "language": "python",
   "name": "python3"
  },
  "language_info": {
   "codemirror_mode": {
    "name": "ipython",
    "version": 3
   },
   "file_extension": ".py",
   "mimetype": "text/x-python",
   "name": "python",
   "nbconvert_exporter": "python",
   "pygments_lexer": "ipython3",
   "version": "3.6.7"
  }
 },
 "nbformat": 4,
 "nbformat_minor": 4
}
