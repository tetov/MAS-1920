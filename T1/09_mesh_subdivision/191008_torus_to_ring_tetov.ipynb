{
 "cells": [
  {
   "cell_type": "code",
   "execution_count": 19,
   "metadata": {},
   "outputs": [
    {
     "data": {
      "application/vnd.jupyter.widget-view+json": {
       "model_id": "b15c0253f56d4d32b85f1b9d12901158",
       "version_major": 2,
       "version_minor": 0
      },
      "text/plain": [
       "VBox(children=(Figure(camera=PerspectiveCamera(fov=46.0, position=(0.0, 0.0, 2.0), quaternion=(0.0, 0.0, 0.0, …"
      ]
     },
     "metadata": {},
     "output_type": "display_data"
    },
    {
     "data": {
      "application/vnd.jupyter.widget-view+json": {
       "model_id": "cb1b91f4b0004fedaba77d9abfc167a3",
       "version_major": 2,
       "version_minor": 0
      },
      "text/plain": [
       "Mesh(color=array('white', dtype='<U5'), line_material=ShaderMaterial(), material=ShaderMaterial(side='DoubleSi…"
      ]
     },
     "metadata": {},
     "output_type": "display_data"
    }
   ],
   "source": [
    "from compas.datastructures import Mesh\n",
    "import compas.datastructures.mesh.subdivision as sd\n",
    "from compas.geometry import Circle\n",
    "import ipyvolume as ipv\n",
    "from utilities import draw_compas_mesh\n",
    "from shapes import *\n",
    "from compas.datastructures import meshes_join\n",
    "from compas.geometry import distance_point_point\n",
    "\n",
    "\n",
    "origin = (0,0,0)\n",
    "normal = (0,0,1)\n",
    "plane = (origin, normal)\n",
    "r_axis = 5\n",
    "r_pipe = .5\n",
    "\n",
    "torus = Torus(plane, r_axis, r_pipe)\n",
    "\n",
    "vs, fs = torus.to_vertices_and_faces(u = 12, v = 4)\n",
    "\n",
    "mesh = Mesh.from_vertices_and_faces(vs, fs)\n",
    "\n",
    "#subd = sd.mesh_subdivide_catmullclark(mesh, k=1)\n",
    "\n",
    "#draw_compas_mesh(subd)\n",
    "\n",
    "draw_compas_mesh(mesh)\n",
    "#mesh = subd"
   ]
  },
  {
   "cell_type": "code",
   "execution_count": 33,
   "metadata": {},
   "outputs": [
    {
     "name": "stdout",
     "output_type": "stream",
     "text": [
      "[5.499999999999999, 5.024937810560445, 4.5, 5.024937810560445, 5.5, 5.024937810560444, 4.499999999999999, 5.024937810560444, 5.5, 5.024937810560444, 4.499999999999999, 5.024937810560444, 5.499999999999999, 5.024937810560445, 4.5, 5.024937810560445, 5.499999999999999, 5.024937810560444, 4.499999999999999, 5.024937810560444, 5.499999999999999, 5.024937810560446, 4.5, 5.024937810560446, 5.499999999999999, 5.024937810560445, 4.5, 5.024937810560445, 5.499999999999999, 5.024937810560446, 4.5, 5.024937810560446, 5.5, 5.024937810560446, 4.5, 5.024937810560446, 5.499999999999999, 5.024937810560445, 4.5, 5.024937810560445, 5.5, 5.024937810560445, 4.499999999999999, 5.024937810560445, 5.5, 5.024937810560444, 4.5, 5.024937810560444]\n"
     ]
    }
   ],
   "source": [
    "distances = []\n",
    "\n",
    "for v in mesh.vertices():\n",
    "    v_coord = mesh.vertex_coordinates(v)\n",
    "    distance_to_mid = distance_point_point(origin, v_coord)\n",
    "    distances.append(distance_to_mid)\n",
    "\n",
    "print(distances)"
   ]
  },
  {
   "cell_type": "code",
   "execution_count": 38,
   "metadata": {},
   "outputs": [
    {
     "name": "stdout",
     "output_type": "stream",
     "text": [
      "4.5\n",
      "5.5\n"
     ]
    }
   ],
   "source": [
    "distance_outer_ring = round(max(distances), 1)\n",
    "distance_inner_ring = round(min(distances), 1)\n",
    "\n",
    "print(distance_inner_ring)\n",
    "print(distance_outer_ring)"
   ]
  },
  {
   "cell_type": "code",
   "execution_count": 45,
   "metadata": {},
   "outputs": [
    {
     "name": "stdout",
     "output_type": "stream",
     "text": [
      "[[3.889087296526011, 3.889087296526011, 0.0], [3.5355339059327373, 3.5355339059327373, 0.4999999999999999], [3.181980515339464, 3.181980515339464, 6.123233995736765e-17], [3.5355339059327373, 3.5355339059327373, -0.4999999999999999], [1.4235047480638647, 5.312592044589875, 0.0], [1.2940952255126041, 4.829629131445341, 0.4999999999999999], [1.1646857029613438, 4.346666218300807, 6.123233995736765e-17], [1.2940952255126041, 4.829629131445341, -0.4999999999999999], [-1.4235047480638636, 5.312592044589875, 0.0], [-1.2940952255126033, 4.829629131445341, 0.4999999999999999], [-1.1646857029613427, 4.346666218300807, 6.123233995736765e-17], [-1.2940952255126033, 4.829629131445341, -0.4999999999999999], [-3.8890872965260104, 3.8890872965260113, 0.0], [-3.5355339059327373, 3.5355339059327373, 0.4999999999999999], [-3.181980515339464, 3.181980515339464, 6.123233995736765e-17], [-3.5355339059327373, 3.5355339059327373, -0.4999999999999999], [-5.312592044589874, 1.4235047480638654, 0.0], [-4.829629131445341, 1.2940952255126046, 0.4999999999999999], [-4.346666218300807, 1.164685702961344, 6.123233995736765e-17], [-4.829629131445341, 1.2940952255126046, -0.4999999999999999], [-5.312592044589875, -1.4235047480638623, 0.0], [-4.829629131445342, -1.2940952255126021, 0.4999999999999999], [-4.346666218300808, -1.164685702961342, 6.123233995736765e-17], [-4.829629131445342, -1.2940952255126021, -0.4999999999999999], [-3.8890872965260113, -3.8890872965260104, 0.0], [-3.5355339059327378, -3.535533905932737, 0.4999999999999999], [-3.1819805153394642, -3.1819805153394634, 6.123233995736765e-17], [-3.5355339059327378, -3.535533905932737, -0.4999999999999999], [-1.4235047480638654, -5.312592044589874, 0.0], [-1.2940952255126057, -4.8296291314453415, 0.4999999999999999], [-1.1646857029613449, -4.346666218300807, 6.123233995736765e-17], [-1.2940952255126057, -4.8296291314453415, -0.4999999999999999], [1.4235047480638616, -5.312592044589876, 0.0], [1.294095225512602, -4.829629131445342, 0.4999999999999999], [1.1646857029613418, -4.346666218300808, 6.123233995736765e-17], [1.294095225512602, -4.829629131445342, -0.4999999999999999], [3.88908729652601, -3.8890872965260117, 0.0], [3.535533905932737, -3.5355339059327378, 0.4999999999999999], [3.1819805153394634, -3.1819805153394642, 6.123233995736765e-17], [3.535533905932737, -3.5355339059327378, -0.4999999999999999], [5.312592044589874, -1.4235047480638683, 0.0], [4.829629131445341, -1.2940952255126077, 0.4999999999999999], [4.346666218300806, -1.1646857029613469, 6.123233995736765e-17], [4.829629131445341, -1.2940952255126077, -0.4999999999999999], [5.312592044589876, 1.4235047480638616, 0.0], [4.8296291314453415, 1.294095225512601, 0.4999999999999999], [4.346666218300808, 1.1646857029613413, 6.123233995736765e-17], [4.8296291314453415, 1.294095225512601, -0.4999999999999999]]\n"
     ]
    },
    {
     "ename": "TypeError",
     "evalue": "'bool' object is not iterable",
     "output_type": "error",
     "traceback": [
      "\u001b[1;31m---------------------------------------------------------------------------\u001b[0m",
      "\u001b[1;31mTypeError\u001b[0m                                 Traceback (most recent call last)",
      "\u001b[1;32m<ipython-input-45-8302e0fa3c54>\u001b[0m in \u001b[0;36m<module>\u001b[1;34m\u001b[0m\n\u001b[0;32m     12\u001b[0m \u001b[1;33m\u001b[0m\u001b[0m\n\u001b[0;32m     13\u001b[0m \u001b[0mprint\u001b[0m\u001b[1;33m(\u001b[0m\u001b[0mpoint_list\u001b[0m\u001b[1;33m)\u001b[0m\u001b[1;33m\u001b[0m\u001b[1;33m\u001b[0m\u001b[0m\n\u001b[1;32m---> 14\u001b[1;33m \u001b[0mnew_mesh\u001b[0m \u001b[1;33m=\u001b[0m \u001b[0mMesh\u001b[0m\u001b[1;33m.\u001b[0m\u001b[0mfrom_points\u001b[0m\u001b[1;33m(\u001b[0m\u001b[0mpoint_list\u001b[0m\u001b[1;33m)\u001b[0m\u001b[1;33m\u001b[0m\u001b[1;33m\u001b[0m\u001b[0m\n\u001b[0m\u001b[0;32m     15\u001b[0m \u001b[0mdraw_compas_mesh\u001b[0m\u001b[1;33m(\u001b[0m\u001b[0mnew_mesh\u001b[0m\u001b[1;33m)\u001b[0m\u001b[1;33m\u001b[0m\u001b[1;33m\u001b[0m\u001b[0m\n\u001b[0;32m     16\u001b[0m \u001b[1;33m\u001b[0m\u001b[0m\n",
      "\u001b[1;32mC:\\tools\\miniconda3\\envs\\mas1920t1\\lib\\site-packages\\compas\\datastructures\\mesh\\_mesh.py\u001b[0m in \u001b[0;36mfrom_points\u001b[1;34m(cls, points, boundary, holes)\u001b[0m\n\u001b[0;32m    753\u001b[0m         \"\"\"\n\u001b[0;32m    754\u001b[0m         \u001b[1;32mfrom\u001b[0m \u001b[0mcompas\u001b[0m\u001b[1;33m.\u001b[0m\u001b[0mgeometry\u001b[0m \u001b[1;32mimport\u001b[0m \u001b[0mdelaunay_from_points\u001b[0m\u001b[1;33m\u001b[0m\u001b[1;33m\u001b[0m\u001b[0m\n\u001b[1;32m--> 755\u001b[1;33m         \u001b[0mfaces\u001b[0m \u001b[1;33m=\u001b[0m \u001b[0mdelaunay_from_points\u001b[0m\u001b[1;33m(\u001b[0m\u001b[0mpoints\u001b[0m\u001b[1;33m,\u001b[0m \u001b[0mboundary\u001b[0m\u001b[1;33m=\u001b[0m\u001b[0mboundary\u001b[0m\u001b[1;33m,\u001b[0m \u001b[0mholes\u001b[0m\u001b[1;33m=\u001b[0m\u001b[0mholes\u001b[0m\u001b[1;33m)\u001b[0m\u001b[1;33m\u001b[0m\u001b[1;33m\u001b[0m\u001b[0m\n\u001b[0m\u001b[0;32m    756\u001b[0m         \u001b[1;32mreturn\u001b[0m \u001b[0mcls\u001b[0m\u001b[1;33m.\u001b[0m\u001b[0mfrom_vertices_and_faces\u001b[0m\u001b[1;33m(\u001b[0m\u001b[0mpoints\u001b[0m\u001b[1;33m,\u001b[0m \u001b[0mfaces\u001b[0m\u001b[1;33m)\u001b[0m\u001b[1;33m\u001b[0m\u001b[1;33m\u001b[0m\u001b[0m\n\u001b[0;32m    757\u001b[0m \u001b[1;33m\u001b[0m\u001b[0m\n",
      "\u001b[1;32mC:\\tools\\miniconda3\\envs\\mas1920t1\\lib\\site-packages\\compas\\geometry\\triangulation\\triangulation.py\u001b[0m in \u001b[0;36mdelaunay_from_points\u001b[1;34m(points, boundary, holes, tiny)\u001b[0m\n\u001b[0;32m    154\u001b[0m \u001b[1;33m\u001b[0m\u001b[0m\n\u001b[0;32m    155\u001b[0m                 \u001b[1;32mif\u001b[0m \u001b[0mis_point_in_circle_xy\u001b[0m\u001b[1;33m(\u001b[0m\u001b[0mpt\u001b[0m\u001b[1;33m,\u001b[0m \u001b[0mcircle\u001b[0m\u001b[1;33m)\u001b[0m\u001b[1;33m:\u001b[0m\u001b[1;33m\u001b[0m\u001b[1;33m\u001b[0m\u001b[0m\n\u001b[1;32m--> 156\u001b[1;33m                     \u001b[0mfkey\u001b[0m\u001b[1;33m,\u001b[0m \u001b[0mfkey_op\u001b[0m \u001b[1;33m=\u001b[0m \u001b[0mtrimesh_swap_edge\u001b[0m\u001b[1;33m(\u001b[0m\u001b[0mmesh\u001b[0m\u001b[1;33m,\u001b[0m \u001b[0mu\u001b[0m\u001b[1;33m,\u001b[0m \u001b[0mv\u001b[0m\u001b[1;33m)\u001b[0m\u001b[1;33m\u001b[0m\u001b[1;33m\u001b[0m\u001b[0m\n\u001b[0m\u001b[0;32m    157\u001b[0m                     \u001b[0mnewtris\u001b[0m\u001b[1;33m.\u001b[0m\u001b[0mappend\u001b[0m\u001b[1;33m(\u001b[0m\u001b[0mfkey\u001b[0m\u001b[1;33m)\u001b[0m\u001b[1;33m\u001b[0m\u001b[1;33m\u001b[0m\u001b[0m\n\u001b[0;32m    158\u001b[0m                     \u001b[0mnewtris\u001b[0m\u001b[1;33m.\u001b[0m\u001b[0mappend\u001b[0m\u001b[1;33m(\u001b[0m\u001b[0mfkey_op\u001b[0m\u001b[1;33m)\u001b[0m\u001b[1;33m\u001b[0m\u001b[1;33m\u001b[0m\u001b[0m\n",
      "\u001b[1;31mTypeError\u001b[0m: 'bool' object is not iterable"
     ]
    }
   ],
   "source": [
    "point_list = []\n",
    "\n",
    "for v in mesh.vertices():\n",
    "    v_coord = mesh.vertex_coordinates(v)\n",
    "    point_list.append(v_coord)\n",
    "    distance_to_mid = distance_point_point(origin, v_coord)\n",
    "     \n",
    "    if distance_to_mid == distance_outer_ring:\n",
    "        mesh.set_vertex_attribute(v, 'location', 'outer')\n",
    "    else:\n",
    "        mesh.set_vertex_attribute(v, 'location', 'inner')\n",
    "\n",
    "        \n",
    "new_mesh = Mesh()\n",
    "\n",
    "for pt in point_list:\n",
    "    new_mesh.add_vertex(x=pt[0], y=pt[1], z=pt[0])\n",
    "        \n",
    "print(point_list)\n",
    "new_mesh = Mesh.from_points(point_list)\n",
    "draw_compas_mesh(new_mesh)\n",
    "\n"
   ]
  },
  {
   "cell_type": "code",
   "execution_count": null,
   "metadata": {},
   "outputs": [],
   "source": []
  }
 ],
 "metadata": {
  "kernelspec": {
   "display_name": "Python 3",
   "language": "python",
   "name": "python3"
  },
  "language_info": {
   "codemirror_mode": {
    "name": "ipython",
    "version": 3
   },
   "file_extension": ".py",
   "mimetype": "text/x-python",
   "name": "python",
   "nbconvert_exporter": "python",
   "pygments_lexer": "ipython3",
   "version": "3.6.7"
  }
 },
 "nbformat": 4,
 "nbformat_minor": 2
}
