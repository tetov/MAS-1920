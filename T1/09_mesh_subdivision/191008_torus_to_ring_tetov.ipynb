{
 "cells": [
  {
   "cell_type": "code",
   "execution_count": 1,
   "metadata": {},
   "outputs": [
    {
     "data": {
      "application/vnd.jupyter.widget-view+json": {
       "model_id": "71eb47e7524049f4b6ac8128cbd4346c",
       "version_major": 2,
       "version_minor": 0
      },
      "text/plain": [
       "VBox(children=(Figure(camera=PerspectiveCamera(fov=46.0, position=(0.0, 0.0, 2.0), quaternion=(0.0, 0.0, 0.0, …"
      ]
     },
     "metadata": {},
     "output_type": "display_data"
    },
    {
     "data": {
      "application/vnd.jupyter.widget-view+json": {
       "model_id": "f920154e71ed4af0b389bbb1726977e6",
       "version_major": 2,
       "version_minor": 0
      },
      "text/plain": [
       "Mesh(color=array('white', dtype='<U5'), line_material=ShaderMaterial(), material=ShaderMaterial(side='DoubleSi…"
      ]
     },
     "metadata": {},
     "output_type": "display_data"
    }
   ],
   "source": [
    "import compas.datastructures.mesh.subdivision as sd\n",
    "import ipyvolume as ipv\n",
    "from utilities import draw_compas_mesh, export_obj_by_attribute\n",
    "from shapes import *\n",
    "from compas.datastructures import Mesh, meshes_join\n",
    "from compas.geometry import distance_point_point, Vector, Circle\n",
    "from statistics import median, variance\n",
    "\n",
    "\n",
    "origin = (0,0,0)\n",
    "normal = (0,0,1)\n",
    "plane = (origin, normal)\n",
    "r_axis = 5\n",
    "r_pipe = .5\n",
    "\n",
    "torus = Torus(plane, r_axis, r_pipe)\n",
    "\n",
    "vs, fs = torus.to_vertices_and_faces(u = 30, v = 6)\n",
    "\n",
    "mesh = Mesh.from_vertices_and_faces(vs, fs)\n",
    "\n",
    "mesh = sd.mesh_subdivide_catmullclark(mesh, k=1)\n",
    "mesh = sd.mesh_subdivide_doosabin(mesh)\n",
    "\n",
    "#draw_compas_mesh(subd)\n",
    "\n",
    "draw_compas_mesh(mesh)\n",
    "#mesh = subd"
   ]
  },
  {
   "cell_type": "code",
   "execution_count": 2,
   "metadata": {},
   "outputs": [],
   "source": [
    "distances = []\n",
    "\n",
    "for v in mesh.vertices():\n",
    "    v_coord = mesh.vertex_coordinates(v)\n",
    "    distance_to_mid = distance_point_point(origin, v_coord)\n",
    "    distances.append(distance_to_mid)\n",
    "\n"
   ]
  },
  {
   "cell_type": "code",
   "execution_count": 3,
   "metadata": {},
   "outputs": [
    {
     "name": "stdout",
     "output_type": "stream",
     "text": [
      "4.5\n",
      "5.4\n"
     ]
    }
   ],
   "source": [
    "distance_outer_ring = round(max(distances), 1)\n",
    "distance_inner_ring = round(min(distances), 1)\n",
    "\n",
    "print(distance_inner_ring)\n",
    "print(distance_outer_ring)"
   ]
  },
  {
   "cell_type": "code",
   "execution_count": 4,
   "metadata": {},
   "outputs": [
    {
     "data": {
      "application/vnd.jupyter.widget-view+json": {
       "model_id": "3217575b342d45a88d8d43013c8379ac",
       "version_major": 2,
       "version_minor": 0
      },
      "text/plain": [
       "VBox(children=(Figure(camera=PerspectiveCamera(fov=46.0, position=(0.0, 0.0, 2.0), quaternion=(0.0, 0.0, 0.0, …"
      ]
     },
     "metadata": {},
     "output_type": "display_data"
    },
    {
     "data": {
      "application/vnd.jupyter.widget-view+json": {
       "model_id": "a8c3703d6aea442fbfecd067bb6d0ea0",
       "version_major": 2,
       "version_minor": 0
      },
      "text/plain": [
       "Mesh(color=array('white', dtype='<U5'), line_material=ShaderMaterial(), material=ShaderMaterial(side='DoubleSi…"
      ]
     },
     "metadata": {},
     "output_type": "display_data"
    }
   ],
   "source": [
    "point_list = []\n",
    "\n",
    "# distance to move outer and inner vertex\n",
    "distance = 50\n",
    "\n",
    "for v in mesh.vertices():\n",
    "    v_coord = mesh.vertex_coordinates(v)\n",
    "    point_list.append(v_coord)\n",
    "    distance_to_mid = distance_point_point(origin, v_coord)\n",
    "     \n",
    "    if distance_to_mid == distance_outer_ring:\n",
    "        mesh.set_vertex_attribute(v, 'location', 'outer')\n",
    "    else:\n",
    "        mesh.set_vertex_attribute(v, 'location', 'inner')\n",
    "\n",
    "\n",
    "\n",
    "for vk in mesh.vertices():\n",
    "    vtype = mesh.get_vertex_attribute(vk, 'location')\n",
    "    if vtype:\n",
    "        v_coord = mesh.vertex_coordinates(vk)\n",
    "        move_vector = Vector.from_start_end(origin, v_coord)\n",
    "        move_vector.unitize()\n",
    "        move_vector.__imul__(distance)\n",
    "        \n",
    "        if vtype == 'outer':\n",
    "   \n",
    "            new_coord = Vector.sum_vectors([v_coord, move_vector])\n",
    "            mesh.vertex[vk]['x'] = new_coord[0]\n",
    "            mesh.vertex[vk]['y'] = new_coord[1]\n",
    "            mesh.vertex[vk]['z'] = new_coord[2]\n",
    "        elif vtype == 'inner':\n",
    "            new_coord = Vector.sum_vectors([v_coord, move_vector])\n",
    "            mesh.vertex[vk]['x'] = new_coord[0]\n",
    "            mesh.vertex[vk]['y'] = new_coord[1]\n",
    "            mesh.vertex[vk]['z'] = new_coord[2]\n",
    "            \n",
    "\n",
    "draw_compas_mesh(mesh)"
   ]
  },
  {
   "cell_type": "code",
   "execution_count": 5,
   "metadata": {},
   "outputs": [],
   "source": [
    "distances = []\n",
    "for fkey in mesh.faces():\n",
    "    f_centroid = mesh.face_centroid(fkey)\n",
    "    distances.append(distance_point_point(origin, f_centroid))\n",
    "\n",
    "\n",
    "median_distance = median(distances)\n",
    "median_distance = round(median_distance, 10)\n",
    "\n",
    "variance_dist = variance(distances)"
   ]
  },
  {
   "cell_type": "code",
   "execution_count": 6,
   "metadata": {},
   "outputs": [],
   "source": [
    "for fkey in mesh.faces():\n",
    "    f_centroid = mesh.face_centroid(fkey)\n",
    "    distance = distance_point_point(origin, f_centroid)\n",
    "    distance = round(distance, 9)\n",
    "    \n",
    "    if distance > median_distance + variance_dist:\n",
    "        mesh.set_face_attribute(fkey, 'location', 'outer')\n",
    "    elif distance < median_distance - variance_dist:\n",
    "        mesh.set_face_attribute(fkey, 'location', 'inner')\n",
    "    else:\n",
    "        mesh.set_face_attribute(fkey, 'location', 'sides')"
   ]
  },
  {
   "cell_type": "code",
   "execution_count": 7,
   "metadata": {},
   "outputs": [],
   "source": [
    "export_obj_by_attribute('ring_1.obj', mesh, 'location')\n",
    "mesh.to_json('ring_1.json', pretty=True)"
   ]
  }
 ],
 "metadata": {
  "kernelspec": {
   "display_name": "Python 3",
   "language": "python",
   "name": "python3"
  },
  "language_info": {
   "codemirror_mode": {
    "name": "ipython",
    "version": 3
   },
   "file_extension": ".py",
   "mimetype": "text/x-python",
   "name": "python",
   "nbconvert_exporter": "python",
   "pygments_lexer": "ipython3",
   "version": "3.6.7"
  }
 },
 "nbformat": 4,
 "nbformat_minor": 4
}
