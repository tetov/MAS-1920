{
 "cells": [
  {
   "cell_type": "markdown",
   "metadata": {
    "slideshow": {
     "slide_type": "slide"
    }
   },
   "source": [
    "# Ring world\n",
    "Mahiro Goto & Anton T"
   ]
  },
  {
   "cell_type": "markdown",
   "metadata": {
    "slideshow": {
     "slide_type": "slide"
    }
   },
   "source": [
    "## Inspiration"
   ]
  },
  {
   "cell_type": "markdown",
   "metadata": {
    "slideshow": {
     "slide_type": "slide"
    }
   },
   "source": [
    "![Halo](./inspiration/p2wkgfV.jpg)\n",
    "From Halo (2001) by _Bungie Inc_"
   ]
  },
  {
   "cell_type": "markdown",
   "metadata": {
    "slideshow": {
     "slide_type": "slide"
    }
   },
   "source": [
    "![Michael-Gossage](./inspiration/michael-gossage-asset.jpg)\n",
    "By Michael Gossage"
   ]
  },
  {
   "cell_type": "markdown",
   "metadata": {
    "slideshow": {
     "slide_type": "slide"
    }
   },
   "source": [
    "![Ringworld Eric M. Jones](./inspiration/Ringworld_drawing.jpg)\n",
    "By Eric M. Jones. Inspired by Larry Niven's _Ringworld_ (1970)"
   ]
  },
  {
   "cell_type": "markdown",
   "metadata": {
    "slideshow": {
     "slide_type": "slide"
    }
   },
   "source": [
    "![HR Giger Alien set](./inspiration/JIssa6P.jpg)\n",
    "From set of Alien (1979)"
   ]
  },
  {
   "cell_type": "code",
   "execution_count": 7,
   "metadata": {
    "jupyter": {
     "source_hidden": true
    }
   },
   "outputs": [],
   "source": [
    "from compas.datastructures import Mesh\n",
    "from compas.datastructures import subdivision as sd\n",
    "from compas_plotters import MeshPlotter\n",
    "from compas.geometry import midpoint_point_point, Vector, distance_point_point, convex_hull\n",
    "from shapes import Sphere, Cylinder\n",
    "import random\n",
    "from statistics import mean\n",
    "\n",
    "\n",
    "from noise import pnoise1, snoise2, pnoise2, perlin\n",
    "from utilities import draw_compas_mesh, export_obj_by_attribute\n",
    "import mysubdivision as msd\n",
    "\n",
    "\n",
    "def plot(m):\n",
    "    plotter = MeshPlotter(m)\n",
    "    plotter.draw_edges()\n",
    "    plotter.draw_faces()\n",
    "    plotter.show()\n",
    "\n",
    "mesh = Mesh.from_json('ring_1.json')"
   ]
  },
  {
   "cell_type": "code",
   "execution_count": 8,
   "metadata": {},
   "outputs": [
    {
     "data": {
      "application/vnd.jupyter.widget-view+json": {
       "model_id": "16de985182154dae89cace7b6612b198",
       "version_major": 2,
       "version_minor": 0
      },
      "text/plain": [
       "VBox(children=(Figure(camera=PerspectiveCamera(fov=46.0, position=(0.0, 0.0, 2.0), quaternion=(0.0, 0.0, 0.0, …"
      ]
     },
     "metadata": {},
     "output_type": "display_data"
    },
    {
     "data": {
      "application/vnd.jupyter.widget-view+json": {
       "model_id": "70523b7e7113463dbab8fba5d47ca62e",
       "version_major": 2,
       "version_minor": 0
      },
      "text/plain": [
       "Mesh(color=array('white', dtype='<U5'), line_material=ShaderMaterial(), material=ShaderMaterial(side='DoubleSi…"
      ]
     },
     "metadata": {},
     "output_type": "display_data"
    }
   ],
   "source": [
    "draw_compas_mesh(mesh,size=35)"
   ]
  },
  {
   "cell_type": "code",
   "execution_count": 12,
   "metadata": {},
   "outputs": [],
   "source": [
    "# Start subdividing\n",
    "\n",
    "mesh = Mesh.from_json('ring_1.json')\n",
    "\n",
    "def subdivide_by_ftype(mesh):\n",
    "    fkeys = list(mesh.faces())\n",
    "    for fk in fkeys:\n",
    "        location = mesh.get_face_attribute(fk, 'location')\n",
    "    \n",
    "        # OUTER RING ANTON\n",
    "        if location == 'outer':\n",
    "            new_keys = msd.taper_face(mesh, fk, height=random.randint(0,2), ratio=0.05)\n",
    "            areas = [] \n",
    "            for new_key in new_keys:\n",
    "                ind = new_keys.index(new_key)\n",
    "                areas.append(mesh.face_area(new_key))\n",
    "                if mesh.face_area(new_key) > mean(areas):\n",
    "                    mesh.set_face_attribute(new_key, 'location', 'hub')\n",
    "                else:\n",
    "                    mesh.set_face_attribute(new_key, 'location', 'circulation')\n",
    "        \n",
    "        elif location == 'circulation':\n",
    "            # these are side volume\n",
    "            new_keys = msd.taper_face(mesh, fk, height=1.5, ratio=0.01)\n",
    "            if random.randint(0, 3) < 1:\n",
    "                mesh.set_faces_attribute(new_keys, 'location', 'depot')\n",
    "            else:\n",
    "                mesh.set_faces_attribute(new_keys, 'location', 'conduits')\n",
    "        \n",
    "        elif location == 'conduits':\n",
    "            new_key = msd.segment_face(mesh, fk, num=3, start_index=0)\n",
    "            for new_key in new_keys:\n",
    "                ind = new_keys.index(new_key)\n",
    "                if ind > 2:\n",
    "                    mesh.set_face_attribute(new_key, 'location', 'line')\n",
    "                else:\n",
    "                    mesh.set_face_attribute(new_key, 'location', 'line2')\n",
    "\n",
    "        elif location == 'hub':\n",
    "            new_keys = msd.segment_face(mesh, fk, num=5, start_index=0)\n",
    "            for new_key in new_keys:\n",
    "                ind = new_keys.index(new_key)\n",
    "                print(ind)\n",
    "                if ind == 0:\n",
    "                    mesh.set_face_attribute(new_key, 'lacation', 'part_hub_0')\n",
    "                elif ind == 1:\n",
    "                    mesh.set_face_attribute(new_key, 'lacation', 'part_hub_1')\n",
    "                elif ind == 2:\n",
    "                    mesh.set_face_attribute(new_key, 'lacation', 'part_hub_2')\n",
    "                          \n",
    "        elif location == 'part_hub_0':\n",
    "            new_keys = msd.taper_face(mesh, fk, height=1, ratio=0.02)\n",
    "            for new_key in new_keys:\n",
    "                mesh.set_face_attribute(new_key, 'location', 'part_hub_00')\n",
    "        elif location == \"part_hub_1\":\n",
    "            new_keys = msd.taper_face(mesh, fk, height-1, ratio=0.03)\n",
    "            for mew_key in new_keys:\n",
    "                mesh.set_face_attribute(new_key, 'location', 'part_hub_11')\n",
    "        elif location == \"part_hub_2\":\n",
    "            new_keys = msd.taper_face(mesh, fk, height=1, ratio=0.02)\n",
    "            for new_key in new_keys:\n",
    "                mesh.set_face_attribute(new_key, 'location', 'part_hub_22')\n",
    "                \n",
    "        \n",
    "        elif location == 'line':\n",
    "            pass\n",
    "        \n",
    "        elif location == 'line2':\n",
    "            mew_keys = msd.taper_face(mesh, fk, height=1, ratio=0.02)\n",
    "            for new_key in new_keys:\n",
    "                ind = new_keys.index(new_key)\n",
    "                if ind == 0:\n",
    "                    mesh.set_face_attribute(new_key, 'location', 'line2_0')\n",
    "                elif ind == 1:\n",
    "                    mesh.set_face_attribute(new_key, 'location', 'line2_1')\n",
    "                \n",
    "        elif location == 'depot':\n",
    "            pass\n",
    "        \n",
    "        # INNER RING MAHIRO\n",
    "        elif location == 'inner':\n",
    "            pass\n",
    "        \n",
    "        elif location == 'mountain':\n",
    "            pass\n",
    "        \n",
    "        elif location == 'lake':\n",
    "            pass\n",
    "               \n",
    "        # SIDES\n",
    "        elif location == 'sides':\n",
    "            pass\n",
    "        \n",
    "        else:\n",
    "            pass"
   ]
  },
  {
   "cell_type": "code",
   "execution_count": 14,
   "metadata": {},
   "outputs": [
    {
     "data": {
      "application/vnd.jupyter.widget-view+json": {
       "model_id": "de274857426743659e77c54eda05ab11",
       "version_major": 2,
       "version_minor": 0
      },
      "text/plain": [
       "VBox(children=(Figure(camera=PerspectiveCamera(fov=46.0, position=(0.0, 0.0, 2.0), quaternion=(0.0, 0.0, 0.0, …"
      ]
     },
     "metadata": {},
     "output_type": "display_data"
    },
    {
     "data": {
      "application/vnd.jupyter.widget-view+json": {
       "model_id": "433227315da4420486b16ac9820e6e61",
       "version_major": 2,
       "version_minor": 0
      },
      "text/plain": [
       "Mesh(color=array('white', dtype='<U5'), line_material=ShaderMaterial(), material=ShaderMaterial(side='DoubleSi…"
      ]
     },
     "metadata": {},
     "output_type": "display_data"
    }
   ],
   "source": [
    "render_mesh = Mesh.from_obj('./rendering_model.obj')\n",
    "\n",
    "draw_compas_mesh(render_mesh,size=35)"
   ]
  },
  {
   "cell_type": "markdown",
   "metadata": {},
   "source": [
    "![render](./rendering/render1.png)"
   ]
  },
  {
   "cell_type": "markdown",
   "metadata": {},
   "source": [
    "![render](./rendering/render2.png)"
   ]
  },
  {
   "cell_type": "markdown",
   "metadata": {},
   "source": [
    "![render](./rendering/render3.png)"
   ]
  },
  {
   "cell_type": "markdown",
   "metadata": {},
   "source": [
    "![render](./rendering/render4.png)"
   ]
  },
  {
   "cell_type": "markdown",
   "metadata": {},
   "source": [
    "![Perlin](./rendering/perlin.png)"
   ]
  },
  {
   "cell_type": "code",
   "execution_count": null,
   "metadata": {},
   "outputs": [],
   "source": [
    "![rendering](./inspiration/michael-gossage-asset.jpg)"
   ]
  }
 ],
 "metadata": {
  "celltoolbar": "Slideshow",
  "kernelspec": {
   "display_name": "Python 3",
   "language": "python",
   "name": "python3"
  },
  "language_info": {
   "codemirror_mode": {
    "name": "ipython",
    "version": 3
   },
   "file_extension": ".py",
   "mimetype": "text/x-python",
   "name": "python",
   "nbconvert_exporter": "python",
   "pygments_lexer": "ipython3",
   "version": "3.6.9"
  }
 },
 "nbformat": 4,
 "nbformat_minor": 4
}
