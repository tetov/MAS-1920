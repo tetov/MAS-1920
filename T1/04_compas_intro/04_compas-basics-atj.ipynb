{
 "cells": [
  {
   "cell_type": "code",
   "execution_count": 12,
   "metadata": {},
   "outputs": [
    {
     "name": "stdout",
     "output_type": "stream",
     "text": [
      "{'name': 'Mesh'}\n",
      "{'attributes': {'name': 'Mesh'}, 'dva': {'x': 0.0, 'y': 0.0, 'z': 0.0}, 'dea': {}, 'dfa': {}, 'vertex': {}, 'face': {}, 'facedata': {}, 'edgedata': {}, 'max_int_key': -1, 'max_int_fkey': -1}\n"
     ]
    }
   ],
   "source": [
    "import compas\n",
    "from compas.datastructures import Mesh\n",
    "\n",
    "\n",
    "a_mesh = Mesh()\n",
    "\n",
    "print(a_mesh.attributes)\n",
    "print(a_mesh.data)\n",
    "\n",
    "a = mesh.add_vertex() # no args -> 0,0,0\n",
    "b = mesh.add_vertex(x=1.)\n",
    "c = mesh.add_vertex(x=1., y=1.)\n",
    "d = mesh.add_vertex(y=1.)"
   ]
  },
  {
   "cell_type": "code",
   "execution_count": null,
   "metadata": {},
   "outputs": [],
   "source": []
  }
 ],
 "metadata": {
  "kernelspec": {
   "display_name": "Python 3",
   "language": "python",
   "name": "python3"
  },
  "language_info": {
   "codemirror_mode": {
    "name": "ipython",
    "version": 3
   },
   "file_extension": ".py",
   "mimetype": "text/x-python",
   "name": "python",
   "nbconvert_exporter": "python",
   "pygments_lexer": "ipython3",
   "version": "3.6.7"
  }
 },
 "nbformat": 4,
 "nbformat_minor": 4
}
