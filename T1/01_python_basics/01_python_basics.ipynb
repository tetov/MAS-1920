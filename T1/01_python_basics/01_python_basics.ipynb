{
 "cells": [
  {
   "cell_type": "markdown",
   "metadata": {
    "slideshow": {
     "slide_type": "slide"
    }
   },
   "source": [
    "# Introduction to Python Programming\n",
    "\n",
    "* [Print Statements](#Print-Statements)\n",
    "* [Variables and Types](#Variable-and-Types)\n",
    "* [Operators](#Operators)\n",
    "* [Boolean Expressions](#Boolean-Expressions)\n",
    "* [Conditionals](#Conditionals)\n",
    "* [Sequences: List, Range, Tuple](#Sequences:-List,-Range,-Tuple)\n",
    "* [Loops](#Loops)\n",
    "* [Mapping: Dictionary](#Mapping:-Dictionary)\n",
    "* [Functions](#Functions)\n",
    "* [Objects](#Objects)\n",
    "* [Varia](#Varia)\n"
   ]
  },
  {
   "cell_type": "markdown",
   "metadata": {
    "slideshow": {
     "slide_type": "slide"
    }
   },
   "source": [
    "## Print Statements"
   ]
  },
  {
   "cell_type": "code",
   "execution_count": 2,
   "metadata": {},
   "outputs": [
    {
     "name": "stdout",
     "output_type": "stream",
     "text": [
      "Hello, MAS\n"
     ]
    }
   ],
   "source": [
    "print(\"Hello, MAS\")"
   ]
  },
  {
   "cell_type": "code",
   "execution_count": 3,
   "metadata": {},
   "outputs": [],
   "source": [
    "title = \"MAS ark\"\n"
   ]
  },
  {
   "cell_type": "code",
   "execution_count": 4,
   "metadata": {},
   "outputs": [
    {
     "name": "stdout",
     "output_type": "stream",
     "text": [
      "MAS ark\n"
     ]
    }
   ],
   "source": [
    "print(title)"
   ]
  },
  {
   "cell_type": "code",
   "execution_count": 5,
   "metadata": {},
   "outputs": [],
   "source": [
    "del(title)"
   ]
  },
  {
   "cell_type": "code",
   "execution_count": 6,
   "metadata": {},
   "outputs": [
    {
     "ename": "NameError",
     "evalue": "name 'title' is not defined",
     "output_type": "error",
     "traceback": [
      "\u001b[1;31m---------------------------------------------------------------------------\u001b[0m",
      "\u001b[1;31mNameError\u001b[0m                                 Traceback (most recent call last)",
      "\u001b[1;32m<ipython-input-6-d247de3fc9f5>\u001b[0m in \u001b[0;36m<module>\u001b[1;34m\u001b[0m\n\u001b[1;32m----> 1\u001b[1;33m \u001b[0mprint\u001b[0m\u001b[1;33m(\u001b[0m\u001b[0mtitle\u001b[0m\u001b[1;33m)\u001b[0m\u001b[1;33m\u001b[0m\u001b[1;33m\u001b[0m\u001b[0m\n\u001b[0m",
      "\u001b[1;31mNameError\u001b[0m: name 'title' is not defined"
     ]
    }
   ],
   "source": [
    "print(title)"
   ]
  },
  {
   "cell_type": "code",
   "execution_count": 11,
   "metadata": {},
   "outputs": [
    {
     "name": "stdout",
     "output_type": "stream",
     "text": [
      "4.795831523312719\n"
     ]
    }
   ],
   "source": [
    "import math\n",
    "print(math.sqrt(23))"
   ]
  },
  {
   "cell_type": "markdown",
   "metadata": {
    "slideshow": {
     "slide_type": "slide"
    }
   },
   "source": [
    "## Variable and Types"
   ]
  },
  {
   "cell_type": "markdown",
   "metadata": {},
   "source": [
    "Python built-in types: https://docs.python.org/3/library/stdtypes.html\n",
    "\n",
    "![overview](https://i2.wp.com/technofission.com/wp-content/uploads/2019/01/Screenshot-2019-01-08-at-7.36.15-PM.png?w=929)\n",
    "\n",
    "([source](http://technofission.com/basics-of-object-datatypes-for-python/))"
   ]
  },
  {
   "cell_type": "code",
   "execution_count": null,
   "metadata": {},
   "outputs": [],
   "source": []
  },
  {
   "cell_type": "markdown",
   "metadata": {
    "slideshow": {
     "slide_type": "slide"
    }
   },
   "source": [
    "## Operators"
   ]
  },
  {
   "cell_type": "markdown",
   "metadata": {
    "slideshow": {
     "slide_type": "-"
    }
   },
   "source": [
    "Symbol | Name | Example Numbers | Example Strings | Example Lists\n",
    ":-:|:--|:--|:--|:--\n",
    "`+` | Addition | `7 + 3 = 10` | `'Hello' + 'World' = 'HelloWorld'` | `[1,2,3] + [4,5,6] = [1,2,3,4,5,6]`\n",
    "`-` | Subtraction | `7 - 3 = 4` | - | -\n",
    "`*` | Multiplication | `7 * 3 = 21` | `'Hello' * 3 = 'HelloHelloHello'` | `[1,2,3] * 3 = [1,2,3,1,2,3,1,2,3]`\n",
    "`/` | Division | `7 / 3 = 2.333` | - | -\n",
    "`//` | Floor Division | `7 // 3 = 2` | - | -\n",
    "`**` | Exponent | `7**3 = 343` | - | -\n",
    "`%` | Modulo | `7 % 3 = 1` | - | -"
   ]
  },
  {
   "cell_type": "markdown",
   "metadata": {
    "slideshow": {
     "slide_type": "subslide"
    }
   },
   "source": [
    "## Boolean Expressions"
   ]
  },
  {
   "cell_type": "code",
   "execution_count": 3,
   "metadata": {},
   "outputs": [],
   "source": [
    "a = True"
   ]
  },
  {
   "cell_type": "markdown",
   "metadata": {
    "slideshow": {
     "slide_type": "subslide"
    }
   },
   "source": [
    "## Conditionals"
   ]
  },
  {
   "cell_type": "code",
   "execution_count": 132,
   "metadata": {},
   "outputs": [
    {
     "name": "stdout",
     "output_type": "stream",
     "text": [
      "418 is larger than 0\n"
     ]
    }
   ],
   "source": [
    "input_number = int(random.uniform(-1000,1000))\n",
    "\n",
    "if input_number < 0:\n",
    "    print(str(input_number) + \" is less than 0\")\n",
    "elif input_number == 0:\n",
    "    print(str(input_number) + \" is equal to 0\")\n",
    "else:\n",
    "    print(str(input_number) + \" is larger than 0\")\n"
   ]
  },
  {
   "cell_type": "markdown",
   "metadata": {
    "slideshow": {
     "slide_type": "slide"
    }
   },
   "source": [
    "## Sequences: List, Range, Tuple"
   ]
  },
  {
   "cell_type": "code",
   "execution_count": null,
   "metadata": {},
   "outputs": [],
   "source": []
  },
  {
   "cell_type": "markdown",
   "metadata": {
    "slideshow": {
     "slide_type": "slide"
    }
   },
   "source": [
    "## Loops"
   ]
  },
  {
   "cell_type": "code",
   "execution_count": null,
   "metadata": {},
   "outputs": [],
   "source": []
  },
  {
   "cell_type": "markdown",
   "metadata": {
    "slideshow": {
     "slide_type": "slide"
    }
   },
   "source": [
    "## Functions"
   ]
  },
  {
   "cell_type": "code",
   "execution_count": null,
   "metadata": {},
   "outputs": [],
   "source": []
  },
  {
   "cell_type": "markdown",
   "metadata": {
    "slideshow": {
     "slide_type": "slide"
    }
   },
   "source": [
    "## Objects"
   ]
  },
  {
   "cell_type": "code",
   "execution_count": 19,
   "metadata": {},
   "outputs": [
    {
     "name": "stdout",
     "output_type": "stream",
     "text": [
      "Circle object with origin at 2.00,6.00 and radius 8.00\n",
      "Area: 201.06\n",
      "Circumferance: 50.27\n",
      "50.26548245743669\n"
     ]
    }
   ],
   "source": [
    "import math\n",
    "\n",
    "class Circle:\n",
    "    def __init__(self, X: float, Y: float, radius: float): \n",
    "        self.X = X\n",
    "        self.Y = Y\n",
    "        self.radius = radius\n",
    "    \n",
    "    def area(self):\n",
    "        return math.pi*self.radius**2\n",
    "    \n",
    "    def circumf(self):\n",
    "        return math.pi*2*self.radius\n",
    "    \n",
    "    def __repr__(self):\n",
    "        return \"Circle object with origin at {:.2f},{:.2f} and radius {:.2f}\\nArea: {:.2f}\\nCircumferance: {:.2f}\".format(self.X, self.Y, self.radius, self.area(), self.circumf())\n",
    "    \n",
    "    \n",
    "circle_A = Circle(2,6,8)\n",
    "\n",
    "print(circle_A)\n",
    "\n",
    "print(circle_A.circumf())\n",
    "\n"
   ]
  },
  {
   "cell_type": "markdown",
   "metadata": {
    "slideshow": {
     "slide_type": "slide"
    }
   },
   "source": [
    "## Varia"
   ]
  },
  {
   "cell_type": "markdown",
   "metadata": {
    "slideshow": {
     "slide_type": "fragment"
    }
   },
   "source": [
    "https://www.python.org/dev/peps/pep-0008/ - Style Guide for Python Code\n",
    "\n",
    "https://docs.python.org/3/search.html - Documentation\n",
    "\n",
    "https://www.python.org/doc/ - Documentation\n",
    "\n",
    "http://google.github.io/styleguide/pyguide.html - Google Style Guide \n",
    "\n",
    "https://github.com/google/styleguide/blob/gh-pages/pyguide.md - Google Style Guide\n"
   ]
  },
  {
   "cell_type": "code",
   "execution_count": null,
   "metadata": {
    "slideshow": {
     "slide_type": "skip"
    }
   },
   "outputs": [],
   "source": []
  },
  {
   "cell_type": "code",
   "execution_count": null,
   "metadata": {},
   "outputs": [],
   "source": []
  },
  {
   "cell_type": "code",
   "execution_count": null,
   "metadata": {},
   "outputs": [],
   "source": []
  }
 ],
 "metadata": {
  "celltoolbar": "Slideshow",
  "kernelspec": {
   "display_name": "Python 3",
   "language": "python",
   "name": "python3"
  },
  "language_info": {
   "codemirror_mode": {
    "name": "ipython",
    "version": 3
   },
   "file_extension": ".py",
   "mimetype": "text/x-python",
   "name": "python",
   "nbconvert_exporter": "python",
   "pygments_lexer": "ipython3",
   "version": "3.7.3"
  }
 },
 "nbformat": 4,
 "nbformat_minor": 2
}
