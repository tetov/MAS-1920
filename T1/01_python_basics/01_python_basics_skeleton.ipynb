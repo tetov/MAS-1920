{
 "cells": [
  {
   "cell_type": "markdown",
   "metadata": {
    "slideshow": {
     "slide_type": "slide"
    }
   },
   "source": [
    "# Introduction to Python Programming\n",
    "\n",
    "* [Print Statements](#Print-Statements)\n",
    "* [Variables and Types](#Variable-and-Types)\n",
    "* [Operators](#Operators)\n",
    "* [Boolean Expressions](#Boolean-Expressions)\n",
    "* [Conditionals](#Conditionals)\n",
    "* [Sequences: List, Range, Tuple](#Sequences:-List,-Range,-Tuple)\n",
    "* [Loops](#Loops)\n",
    "* [Mapping: Dictionary](#Mapping:-Dictionary)\n",
    "* [Functions](#Functions)\n",
    "* [Objects](#Objects)\n",
    "* [Varia](#Varia)\n"
   ]
  },
  {
   "cell_type": "markdown",
   "metadata": {
    "slideshow": {
     "slide_type": "slide"
    }
   },
   "source": [
    "## Print Statements"
   ]
  },
  {
   "cell_type": "code",
   "execution_count": null,
   "metadata": {},
   "outputs": [],
   "source": []
  },
  {
   "cell_type": "code",
   "execution_count": null,
   "metadata": {},
   "outputs": [],
   "source": []
  },
  {
   "cell_type": "code",
   "execution_count": null,
   "metadata": {},
   "outputs": [],
   "source": []
  },
  {
   "cell_type": "code",
   "execution_count": null,
   "metadata": {},
   "outputs": [],
   "source": []
  },
  {
   "cell_type": "code",
   "execution_count": null,
   "metadata": {},
   "outputs": [],
   "source": []
  },
  {
   "cell_type": "code",
   "execution_count": null,
   "metadata": {},
   "outputs": [],
   "source": []
  },
  {
   "cell_type": "markdown",
   "metadata": {
    "slideshow": {
     "slide_type": "slide"
    }
   },
   "source": [
    "## Variable and Types"
   ]
  },
  {
   "cell_type": "markdown",
   "metadata": {},
   "source": [
    "Python built-in types: https://docs.python.org/3/library/stdtypes.html\n",
    "\n",
    "![overview](https://i2.wp.com/technofission.com/wp-content/uploads/2019/01/Screenshot-2019-01-08-at-7.36.15-PM.png?w=929)\n",
    "\n",
    "([source](http://technofission.com/basics-of-object-datatypes-for-python/))"
   ]
  },
  {
   "cell_type": "code",
   "execution_count": null,
   "metadata": {},
   "outputs": [],
   "source": []
  },
  {
   "cell_type": "markdown",
   "metadata": {
    "slideshow": {
     "slide_type": "slide"
    }
   },
   "source": [
    "## Operators"
   ]
  },
  {
   "cell_type": "markdown",
   "metadata": {
    "slideshow": {
     "slide_type": "-"
    }
   },
   "source": [
    "Symbol | Name | Example Numbers | Example Strings | Example Lists\n",
    ":-:|:--|:--|:--|:--\n",
    "`+` | Addition | `7 + 3 = 10` | `'Hello' + 'World' = 'HelloWorld'` | `[1,2,3] + [4,5,6] = [1,2,3,4,5,6]`\n",
    "`-` | Subtraction | `7 - 3 = 4` | - | -\n",
    "`*` | Multiplication | `7 * 3 = 21` | `'Hello' * 3 = 'HelloHelloHello'` | `[1,2,3] * 3 = [1,2,3,1,2,3,1,2,3]`\n",
    "`/` | Division | `7 / 3 = 2.333` | - | -\n",
    "`//` | Floor Division | `7 // 3 = 2` | - | -\n",
    "`**` | Exponent | `7**3 = 343` | - | -\n",
    "`%` | Modulo | `7 % 3 = 1` | - | -"
   ]
  },
  {
   "cell_type": "markdown",
   "metadata": {
    "slideshow": {
     "slide_type": "subslide"
    }
   },
   "source": [
    "## Boolean Expressions"
   ]
  },
  {
   "cell_type": "code",
   "execution_count": null,
   "metadata": {},
   "outputs": [],
   "source": []
  },
  {
   "cell_type": "markdown",
   "metadata": {
    "slideshow": {
     "slide_type": "subslide"
    }
   },
   "source": [
    "## Conditionals"
   ]
  },
  {
   "cell_type": "code",
   "execution_count": null,
   "metadata": {},
   "outputs": [],
   "source": []
  },
  {
   "cell_type": "markdown",
   "metadata": {
    "slideshow": {
     "slide_type": "slide"
    }
   },
   "source": [
    "## Sequences: List, Range, Tuple"
   ]
  },
  {
   "cell_type": "code",
   "execution_count": null,
   "metadata": {},
   "outputs": [],
   "source": []
  },
  {
   "cell_type": "markdown",
   "metadata": {
    "slideshow": {
     "slide_type": "slide"
    }
   },
   "source": [
    "## Loops"
   ]
  },
  {
   "cell_type": "code",
   "execution_count": null,
   "metadata": {},
   "outputs": [],
   "source": []
  },
  {
   "cell_type": "markdown",
   "metadata": {
    "slideshow": {
     "slide_type": "slide"
    }
   },
   "source": [
    "## Functions"
   ]
  },
  {
   "cell_type": "code",
   "execution_count": null,
   "metadata": {},
   "outputs": [],
   "source": []
  },
  {
   "cell_type": "markdown",
   "metadata": {
    "slideshow": {
     "slide_type": "slide"
    }
   },
   "source": [
    "## Objects"
   ]
  },
  {
   "cell_type": "code",
   "execution_count": null,
   "metadata": {},
   "outputs": [],
   "source": []
  },
  {
   "cell_type": "markdown",
   "metadata": {
    "slideshow": {
     "slide_type": "slide"
    }
   },
   "source": [
    "## Varia"
   ]
  },
  {
   "cell_type": "markdown",
   "metadata": {
    "slideshow": {
     "slide_type": "fragment"
    }
   },
   "source": [
    "https://www.python.org/dev/peps/pep-0008/ - Style Guide for Python Code\n",
    "\n",
    "https://docs.python.org/3/search.html - Documentation\n",
    "\n",
    "https://www.python.org/doc/ - Documentation\n",
    "\n",
    "http://google.github.io/styleguide/pyguide.html - Google Style Guide \n",
    "\n",
    "https://github.com/google/styleguide/blob/gh-pages/pyguide.md - Google Style Guide\n"
   ]
  },
  {
   "cell_type": "code",
   "execution_count": null,
   "metadata": {
    "slideshow": {
     "slide_type": "skip"
    }
   },
   "outputs": [],
   "source": []
  },
  {
   "cell_type": "code",
   "execution_count": null,
   "metadata": {},
   "outputs": [],
   "source": []
  },
  {
   "cell_type": "code",
   "execution_count": null,
   "metadata": {},
   "outputs": [],
   "source": []
  }
 ],
 "metadata": {
  "celltoolbar": "Slideshow",
  "kernelspec": {
   "display_name": "Python 3",
   "language": "python",
   "name": "python3"
  },
  "language_info": {
   "codemirror_mode": {
    "name": "ipython",
    "version": 3
   },
   "file_extension": ".py",
   "mimetype": "text/x-python",
   "name": "python",
   "nbconvert_exporter": "python",
   "pygments_lexer": "ipython3",
   "version": "3.7.3"
  }
 },
 "nbformat": 4,
 "nbformat_minor": 2
}
